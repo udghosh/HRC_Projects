{
  "nbformat": 4,
  "nbformat_minor": 0,
  "metadata": {
    "kernelspec": {
      "display_name": "Python 3",
      "language": "python",
      "name": "python3"
    },
    "language_info": {
      "codemirror_mode": {
        "name": "ipython",
        "version": 3
      },
      "file_extension": ".py",
      "mimetype": "text/x-python",
      "name": "python",
      "nbconvert_exporter": "python",
      "pygments_lexer": "ipython3",
      "version": "3.7.6"
    },
    "colab": {
      "name": "Thanos_1805174_NumPy Pandas _ GroupBy .ipynb",
      "provenance": []
    }
  },
  "cells": [
    {
      "cell_type": "code",
      "metadata": {
        "colab": {
          "base_uri": "https://localhost:8080/"
        },
        "id": "685cmgrtgCfA",
        "outputId": "2a7f53e3-0325-4913-a4c3-c663837f0c72"
      },
      "source": [
        "# mounting of Drive to import the Required Dataset\n",
        "\n",
        "from google.colab import drive\n",
        "drive.mount('/content/drive')"
      ],
      "execution_count": 1,
      "outputs": [
        {
          "output_type": "stream",
          "text": [
            "Mounted at /content/drive\n"
          ],
          "name": "stdout"
        }
      ]
    },
    {
      "cell_type": "code",
      "metadata": {
        "id": "y3BhR1Sif1gG"
      },
      "source": [
        "# importing libraries numpy and pandas and random integer(randint) from random class\n",
        "\n",
        "import pandas as pd\n",
        "import numpy as np\n",
        "from random import randint"
      ],
      "execution_count": 15,
      "outputs": []
    },
    {
      "cell_type": "code",
      "metadata": {
        "colab": {
          "base_uri": "https://localhost:8080/",
          "height": 340
        },
        "id": "AAptAl6Nf1gR",
        "outputId": "65ac4a05-11cb-4077-f77b-2bebb3faf970"
      },
      "source": [
        "# Creating the Given DataFrame\n",
        "\n",
        "df = pd.DataFrame({'A': ['group1', 'group1', 'group2', 'group1','group2', 'group1', 'group2', 'group2','group2','group1'], 'B': ['true', 'true', 'false', 'false', 'false', 'false', 'false', 'true','false','true']})\n",
        "df"
      ],
      "execution_count": 41,
      "outputs": [
        {
          "output_type": "execute_result",
          "data": {
            "text/html": [
              "<div>\n",
              "<style scoped>\n",
              "    .dataframe tbody tr th:only-of-type {\n",
              "        vertical-align: middle;\n",
              "    }\n",
              "\n",
              "    .dataframe tbody tr th {\n",
              "        vertical-align: top;\n",
              "    }\n",
              "\n",
              "    .dataframe thead th {\n",
              "        text-align: right;\n",
              "    }\n",
              "</style>\n",
              "<table border=\"1\" class=\"dataframe\">\n",
              "  <thead>\n",
              "    <tr style=\"text-align: right;\">\n",
              "      <th></th>\n",
              "      <th>A</th>\n",
              "      <th>B</th>\n",
              "    </tr>\n",
              "  </thead>\n",
              "  <tbody>\n",
              "    <tr>\n",
              "      <th>0</th>\n",
              "      <td>group1</td>\n",
              "      <td>true</td>\n",
              "    </tr>\n",
              "    <tr>\n",
              "      <th>1</th>\n",
              "      <td>group1</td>\n",
              "      <td>true</td>\n",
              "    </tr>\n",
              "    <tr>\n",
              "      <th>2</th>\n",
              "      <td>group2</td>\n",
              "      <td>false</td>\n",
              "    </tr>\n",
              "    <tr>\n",
              "      <th>3</th>\n",
              "      <td>group1</td>\n",
              "      <td>false</td>\n",
              "    </tr>\n",
              "    <tr>\n",
              "      <th>4</th>\n",
              "      <td>group2</td>\n",
              "      <td>false</td>\n",
              "    </tr>\n",
              "    <tr>\n",
              "      <th>5</th>\n",
              "      <td>group1</td>\n",
              "      <td>false</td>\n",
              "    </tr>\n",
              "    <tr>\n",
              "      <th>6</th>\n",
              "      <td>group2</td>\n",
              "      <td>false</td>\n",
              "    </tr>\n",
              "    <tr>\n",
              "      <th>7</th>\n",
              "      <td>group2</td>\n",
              "      <td>true</td>\n",
              "    </tr>\n",
              "    <tr>\n",
              "      <th>8</th>\n",
              "      <td>group2</td>\n",
              "      <td>false</td>\n",
              "    </tr>\n",
              "    <tr>\n",
              "      <th>9</th>\n",
              "      <td>group1</td>\n",
              "      <td>true</td>\n",
              "    </tr>\n",
              "  </tbody>\n",
              "</table>\n",
              "</div>"
            ],
            "text/plain": [
              "        A      B\n",
              "0  group1   true\n",
              "1  group1   true\n",
              "2  group2  false\n",
              "3  group1  false\n",
              "4  group2  false\n",
              "5  group1  false\n",
              "6  group2  false\n",
              "7  group2   true\n",
              "8  group2  false\n",
              "9  group1   true"
            ]
          },
          "metadata": {
            "tags": []
          },
          "execution_count": 41
        }
      ]
    },
    {
      "cell_type": "code",
      "metadata": {
        "colab": {
          "base_uri": "https://localhost:8080/"
        },
        "id": "4RNCJesi2-eX",
        "outputId": "d0c7e497-bc83-497e-9b55-f0c0a8a00712"
      },
      "source": [
        "#printing DataFrame\r\n",
        "print(df)"
      ],
      "execution_count": 42,
      "outputs": [
        {
          "output_type": "stream",
          "text": [
            "        A      B\n",
            "0  group1   true\n",
            "1  group1   true\n",
            "2  group2  false\n",
            "3  group1  false\n",
            "4  group2  false\n",
            "5  group1  false\n",
            "6  group2  false\n",
            "7  group2   true\n",
            "8  group2  false\n",
            "9  group1   true\n"
          ],
          "name": "stdout"
        }
      ]
    },
    {
      "cell_type": "code",
      "metadata": {
        "colab": {
          "base_uri": "https://localhost:8080/"
        },
        "id": "vx8tCD-nf1gU",
        "outputId": "1f4fb412-7330-414e-d5bb-52c3de9e0520"
      },
      "source": [
        "# Grouping on the basis of Column A\n",
        "for name, group in df.groupby('A'):\n",
        "    print({name})"
      ],
      "execution_count": 17,
      "outputs": [
        {
          "output_type": "stream",
          "text": [
            "{'group1'}\n",
            "{'group2'}\n"
          ],
          "name": "stdout"
        }
      ]
    },
    {
      "cell_type": "code",
      "metadata": {
        "colab": {
          "base_uri": "https://localhost:8080/"
        },
        "id": "OxUeUli4f1gV",
        "outputId": "d00a1e93-d763-4d08-d48e-1afd2a46b33e"
      },
      "source": [
        "# Find those groups which have more “True” values than “False” values in the below dataframe:\n",
        "\n",
        "df1 = df.groupby('A', axis = 0)['B'].describe()\n",
        "df1.reset_index(inplace = True)\n",
        "print(df1[df1.top == 'true']['A'])"
      ],
      "execution_count": 43,
      "outputs": [
        {
          "output_type": "stream",
          "text": [
            "0    group1\n",
            "Name: A, dtype: object\n"
          ],
          "name": "stdout"
        }
      ]
    },
    {
      "cell_type": "code",
      "metadata": {
        "id": "yk2fh6Bdf1gX"
      },
      "source": [
        "# converting the series 1 and series 2 into set 1 and set 2\n",
        "\n",
        "ser1 = pd.Series([1, 2, 3, 4, 5]) \n",
        "ser2 = pd.Series([4, 5, 6, 7, 8])\n",
        "set1 = set(ser1)\n",
        "set2 = set(ser2)"
      ],
      "execution_count": 44,
      "outputs": []
    },
    {
      "cell_type": "code",
      "metadata": {
        "colab": {
          "base_uri": "https://localhost:8080/"
        },
        "id": "GA56cOuS4ULl",
        "outputId": "b2b02f69-f472-4827-b4c4-f0514cc3d758"
      },
      "source": [
        "# Get the items not common to both series A and series B (Without using loops)\r\n",
        "\r\n",
        "print(set1 - set2 | set2 - set1)"
      ],
      "execution_count": 46,
      "outputs": [
        {
          "output_type": "stream",
          "text": [
            "{1, 2, 3, 6, 7, 8}\n"
          ],
          "name": "stdout"
        }
      ]
    },
    {
      "cell_type": "code",
      "metadata": {
        "colab": {
          "base_uri": "https://localhost:8080/"
        },
        "id": "RnjvwuOI4V_h",
        "outputId": "4286a5d3-75e2-4023-a5e7-7ef52a587f55"
      },
      "source": [
        "# Get the items common to both series A and series B(Without using loops)\r\n",
        "\r\n",
        "print(set1 & set2)"
      ],
      "execution_count": 47,
      "outputs": [
        {
          "output_type": "stream",
          "text": [
            "{4, 5}\n"
          ],
          "name": "stdout"
        }
      ]
    },
    {
      "cell_type": "code",
      "metadata": {
        "colab": {
          "base_uri": "https://localhost:8080/"
        },
        "id": "INtXnA-of1gY",
        "outputId": "d3b304a0-230d-445d-e4eb-33f44e3362f2"
      },
      "source": [
        "# Generating  random series of length 10 \n",
        "\n",
        "a = []\n",
        "for i in range (10):\n",
        "    a.append(randint(0,10))\n",
        "print(a)    "
      ],
      "execution_count": 53,
      "outputs": [
        {
          "output_type": "stream",
          "text": [
            "[7, 0, 3, 2, 3, 6, 0, 9, 1, 6]\n"
          ],
          "name": "stdout"
        }
      ]
    },
    {
      "cell_type": "code",
      "metadata": {
        "id": "CADYStaBf1ga",
        "colab": {
          "base_uri": "https://localhost:8080/"
        },
        "outputId": "3f8310b5-a680-48c0-8126-d49501f13a05"
      },
      "source": [
        "# finding the positions of numbers that are multiples of 3 from the series\n",
        "\n",
        "a = pd.Series(a)\n",
        "res = a.index[a.apply((lambda x : x % 3 == 0))].tolist()\n",
        "print(res)"
      ],
      "execution_count": 54,
      "outputs": [
        {
          "output_type": "stream",
          "text": [
            "[1, 2, 4, 5, 6, 7, 9]\n"
          ],
          "name": "stdout"
        }
      ]
    },
    {
      "cell_type": "code",
      "metadata": {
        "colab": {
          "base_uri": "https://localhost:8080/"
        },
        "id": "BVb-DXXPf1gb",
        "outputId": "bf0bd380-9b68-4765-8a70-19ec1c6daea0"
      },
      "source": [
        "# Compute the cumulative difference between the consecutive number for the same series(without using loops).\n",
        "\n",
        "a=pd.Series([1,3,6,10,15,21,27,35])\n",
        "pd.Series(a.diff().tolist())"
      ],
      "execution_count": 55,
      "outputs": [
        {
          "output_type": "execute_result",
          "data": {
            "text/plain": [
              "0    NaN\n",
              "1    2.0\n",
              "2    3.0\n",
              "3    4.0\n",
              "4    5.0\n",
              "5    6.0\n",
              "6    6.0\n",
              "7    8.0\n",
              "dtype: float64"
            ]
          },
          "metadata": {
            "tags": []
          },
          "execution_count": 55
        }
      ]
    },
    {
      "cell_type": "code",
      "metadata": {
        "colab": {
          "base_uri": "https://localhost:8080/",
          "height": 231
        },
        "id": "9wpPCsbjf1gc",
        "outputId": "e7faaffc-c758-4549-af6c-2b6220610eb1"
      },
      "source": [
        "# importing Dataset\n",
        "\n",
        "data = pd.read_csv('/content/drive/MyDrive/Grouby_Assignment_Data.csv')\n",
        "data.head()"
      ],
      "execution_count": 24,
      "outputs": [
        {
          "output_type": "execute_result",
          "data": {
            "text/html": [
              "<div>\n",
              "<style scoped>\n",
              "    .dataframe tbody tr th:only-of-type {\n",
              "        vertical-align: middle;\n",
              "    }\n",
              "\n",
              "    .dataframe tbody tr th {\n",
              "        vertical-align: top;\n",
              "    }\n",
              "\n",
              "    .dataframe thead th {\n",
              "        text-align: right;\n",
              "    }\n",
              "</style>\n",
              "<table border=\"1\" class=\"dataframe\">\n",
              "  <thead>\n",
              "    <tr style=\"text-align: right;\">\n",
              "      <th></th>\n",
              "      <th>Unnamed: 0</th>\n",
              "      <th>Unnamed: 0.1</th>\n",
              "      <th>school_state</th>\n",
              "      <th>teacher_prefix</th>\n",
              "      <th>project_grade_category</th>\n",
              "      <th>teacher_number_of_previously_posted_projects</th>\n",
              "      <th>project_is_approved</th>\n",
              "      <th>project_subject_categories</th>\n",
              "      <th>project_subject_subcategories</th>\n",
              "      <th>price</th>\n",
              "      <th>quantity</th>\n",
              "    </tr>\n",
              "  </thead>\n",
              "  <tbody>\n",
              "    <tr>\n",
              "      <th>0</th>\n",
              "      <td>0</td>\n",
              "      <td>0</td>\n",
              "      <td>in</td>\n",
              "      <td>mrs</td>\n",
              "      <td>grades_prek_2</td>\n",
              "      <td>0</td>\n",
              "      <td>0</td>\n",
              "      <td>literacy_language</td>\n",
              "      <td>esl_literacy</td>\n",
              "      <td>154.60</td>\n",
              "      <td>23</td>\n",
              "    </tr>\n",
              "    <tr>\n",
              "      <th>1</th>\n",
              "      <td>1</td>\n",
              "      <td>1</td>\n",
              "      <td>fl</td>\n",
              "      <td>mr</td>\n",
              "      <td>grades_6_8</td>\n",
              "      <td>7</td>\n",
              "      <td>1</td>\n",
              "      <td>history_civics_health_sports</td>\n",
              "      <td>civics_government_teamsports</td>\n",
              "      <td>299.00</td>\n",
              "      <td>1</td>\n",
              "    </tr>\n",
              "    <tr>\n",
              "      <th>2</th>\n",
              "      <td>2</td>\n",
              "      <td>2</td>\n",
              "      <td>az</td>\n",
              "      <td>ms</td>\n",
              "      <td>grades_6_8</td>\n",
              "      <td>1</td>\n",
              "      <td>0</td>\n",
              "      <td>health_sports</td>\n",
              "      <td>health_wellness_teamsports</td>\n",
              "      <td>516.85</td>\n",
              "      <td>22</td>\n",
              "    </tr>\n",
              "    <tr>\n",
              "      <th>3</th>\n",
              "      <td>3</td>\n",
              "      <td>3</td>\n",
              "      <td>ky</td>\n",
              "      <td>mrs</td>\n",
              "      <td>grades_prek_2</td>\n",
              "      <td>4</td>\n",
              "      <td>1</td>\n",
              "      <td>literacy_language_math_science</td>\n",
              "      <td>literacy_mathematics</td>\n",
              "      <td>232.90</td>\n",
              "      <td>4</td>\n",
              "    </tr>\n",
              "    <tr>\n",
              "      <th>4</th>\n",
              "      <td>4</td>\n",
              "      <td>4</td>\n",
              "      <td>tx</td>\n",
              "      <td>mrs</td>\n",
              "      <td>grades_prek_2</td>\n",
              "      <td>1</td>\n",
              "      <td>1</td>\n",
              "      <td>math_science</td>\n",
              "      <td>mathematics</td>\n",
              "      <td>67.98</td>\n",
              "      <td>4</td>\n",
              "    </tr>\n",
              "  </tbody>\n",
              "</table>\n",
              "</div>"
            ],
            "text/plain": [
              "   Unnamed: 0  Unnamed: 0.1  ...   price quantity\n",
              "0           0             0  ...  154.60       23\n",
              "1           1             1  ...  299.00        1\n",
              "2           2             2  ...  516.85       22\n",
              "3           3             3  ...  232.90        4\n",
              "4           4             4  ...   67.98        4\n",
              "\n",
              "[5 rows x 11 columns]"
            ]
          },
          "metadata": {
            "tags": []
          },
          "execution_count": 24
        }
      ]
    },
    {
      "cell_type": "code",
      "metadata": {
        "colab": {
          "base_uri": "https://localhost:8080/"
        },
        "id": "PoXReI4Xf1gd",
        "outputId": "fe582818-05df-4da0-abac-551d0ac623f1"
      },
      "source": [
        "# Find the Average price of project from each state\r\n",
        "\r\n",
        "data.groupby('school_state')['price'].mean()"
      ],
      "execution_count": 25,
      "outputs": [
        {
          "output_type": "execute_result",
          "data": {
            "text/plain": [
              "school_state\n",
              "ak    337.510667\n",
              "al    298.641397\n",
              "ar    278.166613\n",
              "az    252.355673\n",
              "ca    323.282639\n",
              "co    252.666940\n",
              "ct    311.030415\n",
              "dc    360.152267\n",
              "de    234.136735\n",
              "fl    297.499525\n",
              "ga    308.207945\n",
              "hi    365.838639\n",
              "ia    284.773153\n",
              "id    253.708874\n",
              "il    284.538685\n",
              "in    249.736221\n",
              "ks    246.894763\n",
              "ky    280.020031\n",
              "la    358.954185\n",
              "ma    328.623520\n",
              "md    303.952794\n",
              "me    274.640000\n",
              "mi    299.793970\n",
              "mn    249.289851\n",
              "mo    276.094635\n",
              "ms    306.512922\n",
              "mt    278.000490\n",
              "nc    254.037568\n",
              "nd    256.985035\n",
              "ne    286.515307\n",
              "nh    330.994425\n",
              "nj    336.891618\n",
              "nm    297.836876\n",
              "nv    283.005000\n",
              "ny    335.973861\n",
              "oh    271.301090\n",
              "ok    264.163071\n",
              "or    289.779098\n",
              "pa    279.585613\n",
              "ri    296.904035\n",
              "sc    247.343586\n",
              "sd    249.673433\n",
              "tn    279.079419\n",
              "tx    304.977799\n",
              "ut    310.182139\n",
              "va    267.539311\n",
              "vt    289.467250\n",
              "wa    283.266018\n",
              "wi    301.433963\n",
              "wv    258.633121\n",
              "wy    307.638878\n",
              "Name: price, dtype: float64"
            ]
          },
          "metadata": {
            "tags": []
          },
          "execution_count": 25
        }
      ]
    },
    {
      "cell_type": "code",
      "metadata": {
        "colab": {
          "base_uri": "https://localhost:8080/"
        },
        "id": "1XBf9Z81f1gd",
        "outputId": "092c4eb1-cd81-4579-b86d-cd93f43a7abe"
      },
      "source": [
        "# Find the total number of projects previously posted by all the teachers belonging to each teacher prefix.\r\n",
        "\r\n",
        "data.groupby('teacher_prefix')['teacher_number_of_previously_posted_projects'].count()"
      ],
      "execution_count": 26,
      "outputs": [
        {
          "output_type": "execute_result",
          "data": {
            "text/plain": [
              "teacher_prefix\n",
              "dr            13\n",
              "mr         10645\n",
              "mrs        57264\n",
              "ms         38944\n",
              "teacher     2360\n",
              "Name: teacher_number_of_previously_posted_projects, dtype: int64"
            ]
          },
          "metadata": {
            "tags": []
          },
          "execution_count": 26
        }
      ]
    },
    {
      "cell_type": "code",
      "metadata": {
        "colab": {
          "base_uri": "https://localhost:8080/",
          "height": 36
        },
        "id": "3gWOIQPIf1ge",
        "outputId": "fd75de1f-e50d-4b96-fc0d-431330b6b44e"
      },
      "source": [
        "# Find the prefix of the teacher who has posted the maximum of projects previously\r\n",
        "data.groupby('teacher_prefix')['teacher_number_of_previously_posted_projects'].max().sort_values(ascending = False).index[0]"
      ],
      "execution_count": 27,
      "outputs": [
        {
          "output_type": "execute_result",
          "data": {
            "application/vnd.google.colaboratory.intrinsic+json": {
              "type": "string"
            },
            "text/plain": [
              "'mrs'"
            ]
          },
          "metadata": {
            "tags": []
          },
          "execution_count": 27
        }
      ]
    },
    {
      "cell_type": "code",
      "metadata": {
        "colab": {
          "base_uri": "https://localhost:8080/",
          "height": 377
        },
        "id": "ztQ8ot-vf1gf",
        "outputId": "985bcf53-a8b7-40cc-83c8-89c4323f40dd"
      },
      "source": [
        "# Sampling 10 Data Values\n",
        "\n",
        "data.sample(10)"
      ],
      "execution_count": 28,
      "outputs": [
        {
          "output_type": "execute_result",
          "data": {
            "text/html": [
              "<div>\n",
              "<style scoped>\n",
              "    .dataframe tbody tr th:only-of-type {\n",
              "        vertical-align: middle;\n",
              "    }\n",
              "\n",
              "    .dataframe tbody tr th {\n",
              "        vertical-align: top;\n",
              "    }\n",
              "\n",
              "    .dataframe thead th {\n",
              "        text-align: right;\n",
              "    }\n",
              "</style>\n",
              "<table border=\"1\" class=\"dataframe\">\n",
              "  <thead>\n",
              "    <tr style=\"text-align: right;\">\n",
              "      <th></th>\n",
              "      <th>Unnamed: 0</th>\n",
              "      <th>Unnamed: 0.1</th>\n",
              "      <th>school_state</th>\n",
              "      <th>teacher_prefix</th>\n",
              "      <th>project_grade_category</th>\n",
              "      <th>teacher_number_of_previously_posted_projects</th>\n",
              "      <th>project_is_approved</th>\n",
              "      <th>project_subject_categories</th>\n",
              "      <th>project_subject_subcategories</th>\n",
              "      <th>price</th>\n",
              "      <th>quantity</th>\n",
              "    </tr>\n",
              "  </thead>\n",
              "  <tbody>\n",
              "    <tr>\n",
              "      <th>43995</th>\n",
              "      <td>43995</td>\n",
              "      <td>44003</td>\n",
              "      <td>ny</td>\n",
              "      <td>mrs</td>\n",
              "      <td>grades_3_5</td>\n",
              "      <td>0</td>\n",
              "      <td>1</td>\n",
              "      <td>literacy_language_appliedlearning</td>\n",
              "      <td>literature_writing_other</td>\n",
              "      <td>499.99</td>\n",
              "      <td>1</td>\n",
              "    </tr>\n",
              "    <tr>\n",
              "      <th>51238</th>\n",
              "      <td>51238</td>\n",
              "      <td>51249</td>\n",
              "      <td>mo</td>\n",
              "      <td>mrs</td>\n",
              "      <td>grades_6_8</td>\n",
              "      <td>0</td>\n",
              "      <td>0</td>\n",
              "      <td>specialneeds_warmth_care_hunger</td>\n",
              "      <td>specialneeds_warmth_care_hunger</td>\n",
              "      <td>280.50</td>\n",
              "      <td>34</td>\n",
              "    </tr>\n",
              "    <tr>\n",
              "      <th>20034</th>\n",
              "      <td>20034</td>\n",
              "      <td>20039</td>\n",
              "      <td>co</td>\n",
              "      <td>mrs</td>\n",
              "      <td>grades_prek_2</td>\n",
              "      <td>0</td>\n",
              "      <td>1</td>\n",
              "      <td>literacy_language_math_science</td>\n",
              "      <td>literacy_mathematics</td>\n",
              "      <td>263.78</td>\n",
              "      <td>33</td>\n",
              "    </tr>\n",
              "    <tr>\n",
              "      <th>59228</th>\n",
              "      <td>59228</td>\n",
              "      <td>59240</td>\n",
              "      <td>wi</td>\n",
              "      <td>mrs</td>\n",
              "      <td>grades_6_8</td>\n",
              "      <td>9</td>\n",
              "      <td>1</td>\n",
              "      <td>health_sports</td>\n",
              "      <td>gym_fitness_health_wellness</td>\n",
              "      <td>664.30</td>\n",
              "      <td>22</td>\n",
              "    </tr>\n",
              "    <tr>\n",
              "      <th>52736</th>\n",
              "      <td>52736</td>\n",
              "      <td>52747</td>\n",
              "      <td>co</td>\n",
              "      <td>mrs</td>\n",
              "      <td>grades_3_5</td>\n",
              "      <td>0</td>\n",
              "      <td>1</td>\n",
              "      <td>literacy_language</td>\n",
              "      <td>literacy</td>\n",
              "      <td>1248.00</td>\n",
              "      <td>2</td>\n",
              "    </tr>\n",
              "    <tr>\n",
              "      <th>27529</th>\n",
              "      <td>27529</td>\n",
              "      <td>27534</td>\n",
              "      <td>il</td>\n",
              "      <td>ms</td>\n",
              "      <td>grades_6_8</td>\n",
              "      <td>4</td>\n",
              "      <td>0</td>\n",
              "      <td>health_sports</td>\n",
              "      <td>health_wellness_nutritioneducation</td>\n",
              "      <td>684.25</td>\n",
              "      <td>5</td>\n",
              "    </tr>\n",
              "    <tr>\n",
              "      <th>61373</th>\n",
              "      <td>61373</td>\n",
              "      <td>61385</td>\n",
              "      <td>al</td>\n",
              "      <td>mr</td>\n",
              "      <td>grades_6_8</td>\n",
              "      <td>8</td>\n",
              "      <td>1</td>\n",
              "      <td>health_sports</td>\n",
              "      <td>gym_fitness_teamsports</td>\n",
              "      <td>910.37</td>\n",
              "      <td>39</td>\n",
              "    </tr>\n",
              "    <tr>\n",
              "      <th>17833</th>\n",
              "      <td>17833</td>\n",
              "      <td>17838</td>\n",
              "      <td>ky</td>\n",
              "      <td>mr</td>\n",
              "      <td>grades_6_8</td>\n",
              "      <td>0</td>\n",
              "      <td>1</td>\n",
              "      <td>math_science</td>\n",
              "      <td>mathematics</td>\n",
              "      <td>42.83</td>\n",
              "      <td>22</td>\n",
              "    </tr>\n",
              "    <tr>\n",
              "      <th>89417</th>\n",
              "      <td>89417</td>\n",
              "      <td>89436</td>\n",
              "      <td>wa</td>\n",
              "      <td>ms</td>\n",
              "      <td>grades_prek_2</td>\n",
              "      <td>1</td>\n",
              "      <td>1</td>\n",
              "      <td>appliedlearning</td>\n",
              "      <td>other</td>\n",
              "      <td>396.45</td>\n",
              "      <td>7</td>\n",
              "    </tr>\n",
              "    <tr>\n",
              "      <th>76689</th>\n",
              "      <td>76689</td>\n",
              "      <td>76707</td>\n",
              "      <td>me</td>\n",
              "      <td>mrs</td>\n",
              "      <td>grades_prek_2</td>\n",
              "      <td>8</td>\n",
              "      <td>1</td>\n",
              "      <td>literacy_language_math_science</td>\n",
              "      <td>literacy_mathematics</td>\n",
              "      <td>301.19</td>\n",
              "      <td>3</td>\n",
              "    </tr>\n",
              "  </tbody>\n",
              "</table>\n",
              "</div>"
            ],
            "text/plain": [
              "       Unnamed: 0  Unnamed: 0.1  ...    price quantity\n",
              "43995       43995         44003  ...   499.99        1\n",
              "51238       51238         51249  ...   280.50       34\n",
              "20034       20034         20039  ...   263.78       33\n",
              "59228       59228         59240  ...   664.30       22\n",
              "52736       52736         52747  ...  1248.00        2\n",
              "27529       27529         27534  ...   684.25        5\n",
              "61373       61373         61385  ...   910.37       39\n",
              "17833       17833         17838  ...    42.83       22\n",
              "89417       89417         89436  ...   396.45        7\n",
              "76689       76689         76707  ...   301.19        3\n",
              "\n",
              "[10 rows x 11 columns]"
            ]
          },
          "metadata": {
            "tags": []
          },
          "execution_count": 28
        }
      ]
    },
    {
      "cell_type": "code",
      "metadata": {
        "colab": {
          "base_uri": "https://localhost:8080/"
        },
        "id": "y9MrfGjuf1gf",
        "outputId": "5d23c2af-bc5c-4421-e8d1-42c859dea1e7"
      },
      "source": [
        "# Find the number of projects approved for each project subject category belonging to the project grade category 'grade_9_12'\n",
        "\n",
        "data[data['project_grade_category'] == 'grades_9_12'].groupby('project_subject_categories')['project_is_approved'].sum()"
      ],
      "execution_count": 29,
      "outputs": [
        {
          "output_type": "execute_result",
          "data": {
            "text/plain": [
              "project_subject_categories\n",
              "appliedlearning                        384\n",
              "appliedlearning_health_sports           34\n",
              "appliedlearning_history_civics          57\n",
              "appliedlearning_literacy_language      191\n",
              "appliedlearning_math_science           142\n",
              "appliedlearning_music_arts             139\n",
              "appliedlearning_specialneeds            99\n",
              "appliedlearning_warmth_care_hunger       1\n",
              "health_sports                          940\n",
              "health_sports_appliedlearning            6\n",
              "health_sports_history_civics             7\n",
              "health_sports_literacy_language         10\n",
              "health_sports_math_science               8\n",
              "health_sports_music_arts                16\n",
              "health_sports_specialneeds              54\n",
              "health_sports_warmth_care_hunger         2\n",
              "history_civics                         449\n",
              "history_civics_appliedlearning           6\n",
              "history_civics_health_sports             6\n",
              "history_civics_literacy_language        92\n",
              "history_civics_math_science             16\n",
              "history_civics_music_arts               50\n",
              "history_civics_specialneeds             54\n",
              "literacy_language                     1769\n",
              "literacy_language_appliedlearning       19\n",
              "literacy_language_health_sports          8\n",
              "literacy_language_history_civics        50\n",
              "literacy_language_math_science          72\n",
              "literacy_language_music_arts           153\n",
              "literacy_language_specialneeds         220\n",
              "math_science                          1999\n",
              "math_science_appliedlearning           146\n",
              "math_science_health_sports              46\n",
              "math_science_history_civics             31\n",
              "math_science_literacy_language          71\n",
              "math_science_music_arts                139\n",
              "math_science_specialneeds              177\n",
              "math_science_warmth_care_hunger          1\n",
              "music_arts                             962\n",
              "music_arts_appliedlearning               1\n",
              "music_arts_health_sports                 4\n",
              "music_arts_history_civics                1\n",
              "music_arts_specialneeds                 16\n",
              "specialneeds                           309\n",
              "specialneeds_health_sports              16\n",
              "specialneeds_music_arts                 38\n",
              "specialneeds_warmth_care_hunger          4\n",
              "warmth_care_hunger                     166\n",
              "Name: project_is_approved, dtype: int64"
            ]
          },
          "metadata": {
            "tags": []
          },
          "execution_count": 29
        }
      ]
    },
    {
      "cell_type": "code",
      "metadata": {
        "colab": {
          "base_uri": "https://localhost:8080/"
        },
        "id": "iq2Nf6rsf1gg",
        "outputId": "eae9333d-352d-47b9-b19a-60ce29eaa5b3"
      },
      "source": [
        "# Replace teacher_prefix with the average number of approved projects for each teacher prefix\n",
        "\n",
        "sm = data.groupby('teacher_prefix')['project_is_approved'].mean()\n",
        "d = dict(sm)\n",
        "print(d)\n"
      ],
      "execution_count": 56,
      "outputs": [
        {
          "output_type": "stream",
          "text": [
            "{0.6923076923076923: 0.6923076923076923, 0.7953389830508475: 0.7953389830508475, 0.8415218412400188: 0.8415218412400188, 0.8435188989317995: 0.8435188989317995, 0.8555462419670299: 0.8555462419670299}\n"
          ],
          "name": "stdout"
        }
      ]
    },
    {
      "cell_type": "code",
      "metadata": {
        "colab": {
          "base_uri": "https://localhost:8080/"
        },
        "id": "qHrcS7AYf1gh",
        "outputId": "704ef7ad-bac3-4370-a858-8212041dce18"
      },
      "source": [
        "data['teacher_prefix'] = data['teacher_prefix'].map(d)\n",
        "print(data)"
      ],
      "execution_count": 57,
      "outputs": [
        {
          "output_type": "stream",
          "text": [
            "        Unnamed: 0  Unnamed: 0.1  ...   price  quantity\n",
            "0                0             0  ...  154.60        23\n",
            "1                1             1  ...  299.00         1\n",
            "2                2             2  ...  516.85        22\n",
            "3                3             3  ...  232.90         4\n",
            "4                4             4  ...   67.98         4\n",
            "...            ...           ...  ...     ...       ...\n",
            "109221      109221        109243  ...   59.98         8\n",
            "109222      109222        109244  ...  846.32         4\n",
            "109223      109223        109245  ...  239.96         4\n",
            "109224      109224        109246  ...   73.05        16\n",
            "109225      109225        109247  ...  109.90         5\n",
            "\n",
            "[109226 rows x 11 columns]\n"
          ],
          "name": "stdout"
        }
      ]
    },
    {
      "cell_type": "code",
      "metadata": {
        "colab": {
          "base_uri": "https://localhost:8080/"
        },
        "id": "Ix9HDeHUf1gi",
        "outputId": "d676ce17-eb07-4c2e-d5ad-ce5256800142"
      },
      "source": [
        "# Creating the Required DataFrame\n",
        "\n",
        "train_data = pd.DataFrame({'State': ['A', 'B', 'C', 'A','A', 'B', 'A', 'A','C','C'], \n",
        "                           'Class': [0, 1,1,0,1,1,0,1,1,0]})\n",
        "print(train_data)"
      ],
      "execution_count": 64,
      "outputs": [
        {
          "output_type": "stream",
          "text": [
            "  State  Class\n",
            "0     A      0\n",
            "1     B      1\n",
            "2     C      1\n",
            "3     A      0\n",
            "4     A      1\n",
            "5     B      1\n",
            "6     A      0\n",
            "7     A      1\n",
            "8     C      1\n",
            "9     C      0\n"
          ],
          "name": "stdout"
        }
      ]
    },
    {
      "cell_type": "code",
      "metadata": {
        "id": "nbFWUcKff1gj",
        "colab": {
          "base_uri": "https://localhost:8080/"
        },
        "outputId": "128c4df1-5dcf-4622-f2dd-b825b23d6b19"
      },
      "source": [
        "# Creating Immediate DataFrame for further Processing (Creating Class=0 and class=1 labels by grouping them on the basis of state and class values and finding their sum in the third label)\n",
        "\n",
        "res = train_data[train_data['Class'] == 1].groupby('State')['Class'].count()\n",
        "bes = train_data[train_data['Class'] == 0].groupby('State')['Class'].count()\n",
        "\n",
        "da = pd.concat([res,bes], axis = 1)\n",
        "da.columns = ['class = 1', 'class = 0']  \n",
        "da = da.fillna(0)\n",
        "da['sum'] = da['class = 1'] + da['class = 0']\n",
        "print(da)"
      ],
      "execution_count": 65,
      "outputs": [
        {
          "output_type": "stream",
          "text": [
            "   class = 1  class = 0  sum\n",
            "A          2        3.0  5.0\n",
            "B          2        0.0  2.0\n",
            "C          2        1.0  3.0\n"
          ],
          "name": "stdout"
        }
      ]
    },
    {
      "cell_type": "code",
      "metadata": {
        "scrolled": true,
        "colab": {
          "base_uri": "https://localhost:8080/"
        },
        "id": "gyjOaAXLf1gk",
        "outputId": "7bce21fe-7c7a-43d1-e156-e4e40cb7f280"
      },
      "source": [
        "# Creating of repective needed DataFrame (Creating new Labels By dividing the values of class=0 and class=1 by their combined sum)\n",
        "\n",
        "da['State_0']=da['class = 0'] / da['sum']\n",
        "da['State_1']=da['class = 1'] / da['sum']\n",
        "da.drop(['class = 1', 'class = 0', 'sum'], axis = 1, inplace = True)\n",
        "print(da)"
      ],
      "execution_count": 66,
      "outputs": [
        {
          "output_type": "stream",
          "text": [
            "    State_0   State_1\n",
            "A  0.600000  0.400000\n",
            "B  0.000000  1.000000\n",
            "C  0.333333  0.666667\n"
          ],
          "name": "stdout"
        }
      ]
    },
    {
      "cell_type": "code",
      "metadata": {
        "id": "Ibj1FKNVoGpU",
        "colab": {
          "base_uri": "https://localhost:8080/"
        },
        "outputId": "7c92cdaa-f771-42a4-f351-5cfbd1a341ad"
      },
      "source": [
        "# Creating Dictionary for State_0 and State_1 and mapping it to the original DataFrame to get the desired output Result\r\n",
        "\r\n",
        "d=dict(da['State_0'])\r\n",
        "e=dict(da['State_1'])\r\n",
        "\r\n",
        "train_data['State_0'] = train_data['State'].map(d)\r\n",
        "train_data['State_1'] = train_data['State'].map(e)\r\n",
        "\r\n",
        "train_data.drop(['State', 'Class'], axis=1, inplace=True)\r\n",
        "\r\n",
        "print(train_data)"
      ],
      "execution_count": 62,
      "outputs": [
        {
          "output_type": "stream",
          "text": [
            "    State_0   State_1\n",
            "0  0.600000  0.400000\n",
            "1  0.000000  1.000000\n",
            "2  0.333333  0.666667\n",
            "3  0.600000  0.400000\n",
            "4  0.600000  0.400000\n",
            "5  0.000000  1.000000\n",
            "6  0.600000  0.400000\n",
            "7  0.600000  0.400000\n",
            "8  0.333333  0.666667\n",
            "9  0.333333  0.666667\n"
          ],
          "name": "stdout"
        }
      ]
    }
  ]
}