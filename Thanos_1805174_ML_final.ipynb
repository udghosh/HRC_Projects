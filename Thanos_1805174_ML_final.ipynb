{
  "nbformat": 4,
  "nbformat_minor": 0,
  "metadata": {
    "colab": {
      "name": "Thanos_1805174_ML_final.ipynb",
      "provenance": [],
      "include_colab_link": true
    },
    "kernelspec": {
      "name": "python3",
      "display_name": "Python 3"
    }
  },
  "cells": [
    {
      "cell_type": "markdown",
      "metadata": {
        "id": "view-in-github",
        "colab_type": "text"
      },
      "source": [
        "<a href=\"https://colab.research.google.com/github/udghosh/HRC_Projects/blob/main/Thanos_1805174_ML_final.ipynb\" target=\"_parent\"><img src=\"https://colab.research.google.com/assets/colab-badge.svg\" alt=\"Open In Colab\"/></a>"
      ]
    },
    {
      "cell_type": "markdown",
      "metadata": {
        "id": "vOYXEYwssq9I"
      },
      "source": [
        "THANOS\n",
        "UDAY BHANU GHOSH :- 1805174\n",
        "\n",
        "---\n",
        "\n",
        "---\n",
        "\n",
        "\n",
        "\n"
      ]
    },
    {
      "cell_type": "code",
      "metadata": {
        "id": "EqbMPrhETH1g",
        "colab": {
          "base_uri": "https://localhost:8080/"
        },
        "outputId": "f50fcec0-d227-451d-a384-64adc80c23db"
      },
      "source": [
        "# Mounting The Drive\n",
        "from google.colab import drive\n",
        "drive.mount('/content/drive')"
      ],
      "execution_count": null,
      "outputs": [
        {
          "output_type": "stream",
          "text": [
            "Drive already mounted at /content/drive; to attempt to forcibly remount, call drive.mount(\"/content/drive\", force_remount=True).\n"
          ],
          "name": "stdout"
        }
      ]
    },
    {
      "cell_type": "code",
      "metadata": {
        "id": "EkP0j5taZ_hl"
      },
      "source": [
        "# Importing Essential Libraries And Functions\n",
        "import pandas as pd\n",
        "import numpy as np\n",
        "from sklearn.model_selection import train_test_split\n",
        "from sklearn.feature_selection import VarianceThreshold\n",
        "import seaborn as sns\n",
        "import matplotlib.pyplot as plt\n",
        "from sklearn.preprocessing import LabelEncoder\n",
        "\n",
        "from sklearn.linear_model import LinearRegression\n",
        "from sklearn.svm import SVR\n",
        "from sklearn.tree import DecisionTreeRegressor\n",
        "from sklearn.ensemble import RandomForestRegressor,RandomForestClassifier\n",
        "import xgboost as xgb\n",
        "from sklearn.metrics import mean_squared_error\n",
        "from sklearn.metrics import r2_score"
      ],
      "execution_count": null,
      "outputs": []
    },
    {
      "cell_type": "code",
      "metadata": {
        "id": "ZHuXkQ61monX"
      },
      "source": [
        "# importing Warnings To remove Warnings\n",
        "import warnings\n",
        "warnings.filterwarnings('ignore')"
      ],
      "execution_count": null,
      "outputs": []
    },
    {
      "cell_type": "code",
      "metadata": {
        "colab": {
          "base_uri": "https://localhost:8080/",
          "height": 315
        },
        "id": "s_u0I0HwVOtX",
        "outputId": "78681c53-ff6b-454a-da55-9f77f70e1e5d"
      },
      "source": [
        "# Reading the CSV file\n",
        "df = pd.read_csv('/content/drive/MyDrive/1805174.csv')\n",
        "df.head()"
      ],
      "execution_count": null,
      "outputs": [
        {
          "output_type": "execute_result",
          "data": {
            "text/html": [
              "<div>\n",
              "<style scoped>\n",
              "    .dataframe tbody tr th:only-of-type {\n",
              "        vertical-align: middle;\n",
              "    }\n",
              "\n",
              "    .dataframe tbody tr th {\n",
              "        vertical-align: top;\n",
              "    }\n",
              "\n",
              "    .dataframe thead th {\n",
              "        text-align: right;\n",
              "    }\n",
              "</style>\n",
              "<table border=\"1\" class=\"dataframe\">\n",
              "  <thead>\n",
              "    <tr style=\"text-align: right;\">\n",
              "      <th></th>\n",
              "      <th>business_code</th>\n",
              "      <th>cust_number</th>\n",
              "      <th>name_customer</th>\n",
              "      <th>clear_date</th>\n",
              "      <th>buisness_year</th>\n",
              "      <th>doc_id</th>\n",
              "      <th>posting_date</th>\n",
              "      <th>document_create_date</th>\n",
              "      <th>document_create_date.1</th>\n",
              "      <th>due_in_date</th>\n",
              "      <th>invoice_currency</th>\n",
              "      <th>document type</th>\n",
              "      <th>posting_id</th>\n",
              "      <th>area_business</th>\n",
              "      <th>total_open_amount</th>\n",
              "      <th>baseline_create_date</th>\n",
              "      <th>cust_payment_terms</th>\n",
              "      <th>invoice_id</th>\n",
              "      <th>isOpen</th>\n",
              "    </tr>\n",
              "  </thead>\n",
              "  <tbody>\n",
              "    <tr>\n",
              "      <th>0</th>\n",
              "      <td>U001</td>\n",
              "      <td>0200707822</td>\n",
              "      <td>PUBLI in</td>\n",
              "      <td>2019-04-15 00:00:00</td>\n",
              "      <td>2019.0</td>\n",
              "      <td>1.929060e+09</td>\n",
              "      <td>2019-03-31</td>\n",
              "      <td>20190331</td>\n",
              "      <td>20190331</td>\n",
              "      <td>20190415.0</td>\n",
              "      <td>USD</td>\n",
              "      <td>RV</td>\n",
              "      <td>1.0</td>\n",
              "      <td>NaN</td>\n",
              "      <td>145752.58</td>\n",
              "      <td>20190331.0</td>\n",
              "      <td>NAA8</td>\n",
              "      <td>1.929060e+09</td>\n",
              "      <td>0</td>\n",
              "    </tr>\n",
              "    <tr>\n",
              "      <th>1</th>\n",
              "      <td>U001</td>\n",
              "      <td>200769623</td>\n",
              "      <td>WAL-MAR corp</td>\n",
              "      <td>2019-04-09 00:00:00</td>\n",
              "      <td>2019.0</td>\n",
              "      <td>1.929053e+09</td>\n",
              "      <td>2019-03-30</td>\n",
              "      <td>20190329</td>\n",
              "      <td>20190330</td>\n",
              "      <td>20190414.0</td>\n",
              "      <td>USD</td>\n",
              "      <td>RV</td>\n",
              "      <td>1.0</td>\n",
              "      <td>NaN</td>\n",
              "      <td>2480.03</td>\n",
              "      <td>20190330.0</td>\n",
              "      <td>NAH4</td>\n",
              "      <td>1.929053e+09</td>\n",
              "      <td>0</td>\n",
              "    </tr>\n",
              "    <tr>\n",
              "      <th>2</th>\n",
              "      <td>U001</td>\n",
              "      <td>0200555117</td>\n",
              "      <td>BURR co</td>\n",
              "      <td>2019-10-10 00:00:00</td>\n",
              "      <td>2019.0</td>\n",
              "      <td>1.929896e+09</td>\n",
              "      <td>2019-09-25</td>\n",
              "      <td>20190918</td>\n",
              "      <td>20190925</td>\n",
              "      <td>20191129.0</td>\n",
              "      <td>USD</td>\n",
              "      <td>RV</td>\n",
              "      <td>1.0</td>\n",
              "      <td>NaN</td>\n",
              "      <td>7257.40</td>\n",
              "      <td>20190925.0</td>\n",
              "      <td>NAGD</td>\n",
              "      <td>1.929896e+09</td>\n",
              "      <td>0</td>\n",
              "    </tr>\n",
              "    <tr>\n",
              "      <th>3</th>\n",
              "      <td>U001</td>\n",
              "      <td>0200794332</td>\n",
              "      <td>COST co</td>\n",
              "      <td>2019-04-30 00:00:00</td>\n",
              "      <td>2019.0</td>\n",
              "      <td>1.929147e+09</td>\n",
              "      <td>2019-04-16</td>\n",
              "      <td>20190415</td>\n",
              "      <td>20190416</td>\n",
              "      <td>20190620.0</td>\n",
              "      <td>USD</td>\n",
              "      <td>RV</td>\n",
              "      <td>1.0</td>\n",
              "      <td>NaN</td>\n",
              "      <td>26657.43</td>\n",
              "      <td>20190416.0</td>\n",
              "      <td>NAGD</td>\n",
              "      <td>1.929147e+09</td>\n",
              "      <td>0</td>\n",
              "    </tr>\n",
              "    <tr>\n",
              "      <th>4</th>\n",
              "      <td>U001</td>\n",
              "      <td>0100031704</td>\n",
              "      <td>DELHAIZE in</td>\n",
              "      <td>2019-05-14 00:00:00</td>\n",
              "      <td>2019.0</td>\n",
              "      <td>1.929220e+09</td>\n",
              "      <td>2019-04-29</td>\n",
              "      <td>20190427</td>\n",
              "      <td>20190429</td>\n",
              "      <td>20190514.0</td>\n",
              "      <td>USD</td>\n",
              "      <td>RV</td>\n",
              "      <td>1.0</td>\n",
              "      <td>NaN</td>\n",
              "      <td>16119.49</td>\n",
              "      <td>20190429.0</td>\n",
              "      <td>NAA8</td>\n",
              "      <td>1.929220e+09</td>\n",
              "      <td>0</td>\n",
              "    </tr>\n",
              "  </tbody>\n",
              "</table>\n",
              "</div>"
            ],
            "text/plain": [
              "  business_code cust_number  ...    invoice_id isOpen\n",
              "0          U001  0200707822  ...  1.929060e+09      0\n",
              "1          U001   200769623  ...  1.929053e+09      0\n",
              "2          U001  0200555117  ...  1.929896e+09      0\n",
              "3          U001  0200794332  ...  1.929147e+09      0\n",
              "4          U001  0100031704  ...  1.929220e+09      0\n",
              "\n",
              "[5 rows x 19 columns]"
            ]
          },
          "metadata": {
            "tags": []
          },
          "execution_count": 1164
        }
      ]
    },
    {
      "cell_type": "markdown",
      "metadata": {
        "id": "SBcP4gHhsLgG"
      },
      "source": [
        "Basic PRE-PROCESSING\n",
        "\n",
        "---\n",
        "\n",
        "---\n",
        "\n",
        "\n",
        "\n"
      ]
    },
    {
      "cell_type": "code",
      "metadata": {
        "id": "Yv8wL0FDosAt"
      },
      "source": [
        "# Changing integer to date and time Format\n",
        "\n",
        "df['clear_date'] = pd.to_datetime(df['clear_date'])\n",
        "df['document_create_date.1'] = pd.to_datetime(df['document_create_date.1'], format=\"%Y%m%d\")\n",
        "df['posting_date'] = pd.to_datetime(df['posting_date'])\n",
        "df['due_in_date'] = pd.to_datetime(df['due_in_date'], format=\"%Y%m%d\")\n",
        "df['document_create_date'] = pd.to_datetime(df['document_create_date'], format=\"%Y%m%d\")\n",
        "df['baseline_create_date'] = pd.to_datetime(df['baseline_create_date'], format=\"%Y%m%d\")"
      ],
      "execution_count": null,
      "outputs": []
    },
    {
      "cell_type": "code",
      "metadata": {
        "colab": {
          "base_uri": "https://localhost:8080/"
        },
        "id": "2pslim9Sb0mp",
        "outputId": "cb040ead-8b6f-4720-957c-3d1661564bf3"
      },
      "source": [
        "df.info()"
      ],
      "execution_count": null,
      "outputs": [
        {
          "output_type": "stream",
          "text": [
            "<class 'pandas.core.frame.DataFrame'>\n",
            "RangeIndex: 50000 entries, 0 to 49999\n",
            "Data columns (total 19 columns):\n",
            " #   Column                  Non-Null Count  Dtype         \n",
            "---  ------                  --------------  -----         \n",
            " 0   business_code           50000 non-null  object        \n",
            " 1   cust_number             50000 non-null  object        \n",
            " 2   name_customer           50000 non-null  object        \n",
            " 3   clear_date              45381 non-null  datetime64[ns]\n",
            " 4   buisness_year           50000 non-null  float64       \n",
            " 5   doc_id                  50000 non-null  float64       \n",
            " 6   posting_date            50000 non-null  datetime64[ns]\n",
            " 7   document_create_date    50000 non-null  datetime64[ns]\n",
            " 8   document_create_date.1  50000 non-null  datetime64[ns]\n",
            " 9   due_in_date             50000 non-null  datetime64[ns]\n",
            " 10  invoice_currency        50000 non-null  object        \n",
            " 11  document type           50000 non-null  object        \n",
            " 12  posting_id              50000 non-null  float64       \n",
            " 13  area_business           0 non-null      float64       \n",
            " 14  total_open_amount       50000 non-null  float64       \n",
            " 15  baseline_create_date    50000 non-null  datetime64[ns]\n",
            " 16  cust_payment_terms      50000 non-null  object        \n",
            " 17  invoice_id              49996 non-null  float64       \n",
            " 18  isOpen                  50000 non-null  int64         \n",
            "dtypes: datetime64[ns](6), float64(6), int64(1), object(6)\n",
            "memory usage: 7.2+ MB\n"
          ],
          "name": "stdout"
        }
      ]
    },
    {
      "cell_type": "code",
      "metadata": {
        "id": "XX-6VE-GsdPP"
      },
      "source": [
        "# Rearranging the columns to ease the use of it\n",
        "df = df[['buisness_year', 'doc_id', 'posting_id', 'area_business','total_open_amount', 'invoice_id', 'isOpen', 'business_code', 'cust_number', 'name_customer', 'invoice_currency', 'document type', 'cust_payment_terms', 'clear_date', 'posting_date', 'document_create_date', 'document_create_date.1', 'due_in_date', 'baseline_create_date']]"
      ],
      "execution_count": null,
      "outputs": []
    },
    {
      "cell_type": "code",
      "metadata": {
        "id": "trFnUhTzbgkO"
      },
      "source": [
        "# Dropping Area Bussiness column because it is empty\n",
        "df.drop(['area_business'],inplace=True,axis=1)\n"
      ],
      "execution_count": null,
      "outputs": []
    },
    {
      "cell_type": "markdown",
      "metadata": {
        "id": "kTTBx18WoRIF"
      },
      "source": [
        "**Splitting the data according to the given requirements**\n",
        "\n",
        "---\n",
        "\n",
        "\n"
      ]
    },
    {
      "cell_type": "code",
      "metadata": {
        "colab": {
          "base_uri": "https://localhost:8080/",
          "height": 1787
        },
        "id": "syLIxF9Xad4B",
        "outputId": "1e741bd0-c01c-4482-cfc5-814db1589426"
      },
      "source": [
        "# To disable Scrolling\n",
        "\n",
        "from IPython.display import Javascript\n",
        "display(Javascript('''google.colab.output.setIframeHeight(0, true, {maxHeight: 100000})'''))\n",
        "\n",
        "# Sorting The values in accordance with document create date\n",
        "\n",
        "df.sort_values('document_create_date.1',inplace = True)\n",
        "df.head(50)"
      ],
      "execution_count": null,
      "outputs": [
        {
          "output_type": "display_data",
          "data": {
            "application/javascript": [
              "google.colab.output.setIframeHeight(0, true, {maxHeight: 100000})"
            ],
            "text/plain": [
              "<IPython.core.display.Javascript object>"
            ]
          },
          "metadata": {
            "tags": []
          }
        },
        {
          "output_type": "execute_result",
          "data": {
            "text/html": [
              "<div>\n",
              "<style scoped>\n",
              "    .dataframe tbody tr th:only-of-type {\n",
              "        vertical-align: middle;\n",
              "    }\n",
              "\n",
              "    .dataframe tbody tr th {\n",
              "        vertical-align: top;\n",
              "    }\n",
              "\n",
              "    .dataframe thead th {\n",
              "        text-align: right;\n",
              "    }\n",
              "</style>\n",
              "<table border=\"1\" class=\"dataframe\">\n",
              "  <thead>\n",
              "    <tr style=\"text-align: right;\">\n",
              "      <th></th>\n",
              "      <th>buisness_year</th>\n",
              "      <th>doc_id</th>\n",
              "      <th>posting_id</th>\n",
              "      <th>total_open_amount</th>\n",
              "      <th>invoice_id</th>\n",
              "      <th>isOpen</th>\n",
              "      <th>business_code</th>\n",
              "      <th>cust_number</th>\n",
              "      <th>name_customer</th>\n",
              "      <th>invoice_currency</th>\n",
              "      <th>document type</th>\n",
              "      <th>cust_payment_terms</th>\n",
              "      <th>clear_date</th>\n",
              "      <th>posting_date</th>\n",
              "      <th>document_create_date</th>\n",
              "      <th>document_create_date.1</th>\n",
              "      <th>due_in_date</th>\n",
              "      <th>baseline_create_date</th>\n",
              "    </tr>\n",
              "  </thead>\n",
              "  <tbody>\n",
              "    <tr>\n",
              "      <th>27794</th>\n",
              "      <td>2019.0</td>\n",
              "      <td>1.928540e+09</td>\n",
              "      <td>1.0</td>\n",
              "      <td>222.74</td>\n",
              "      <td>1.928540e+09</td>\n",
              "      <td>0</td>\n",
              "      <td>U001</td>\n",
              "      <td>0200769623</td>\n",
              "      <td>WAL-MAR us</td>\n",
              "      <td>USD</td>\n",
              "      <td>RV</td>\n",
              "      <td>NAH4</td>\n",
              "      <td>2019-01-10</td>\n",
              "      <td>2018-12-30</td>\n",
              "      <td>2018-12-29</td>\n",
              "      <td>2018-12-30</td>\n",
              "      <td>2019-01-14</td>\n",
              "      <td>2018-12-30</td>\n",
              "    </tr>\n",
              "    <tr>\n",
              "      <th>11418</th>\n",
              "      <td>2019.0</td>\n",
              "      <td>1.928508e+09</td>\n",
              "      <td>1.0</td>\n",
              "      <td>9398.57</td>\n",
              "      <td>1.928508e+09</td>\n",
              "      <td>0</td>\n",
              "      <td>U001</td>\n",
              "      <td>0100000217</td>\n",
              "      <td>MRS S associates</td>\n",
              "      <td>USD</td>\n",
              "      <td>RV</td>\n",
              "      <td>NAA8</td>\n",
              "      <td>2019-01-12</td>\n",
              "      <td>2018-12-30</td>\n",
              "      <td>2018-12-31</td>\n",
              "      <td>2018-12-30</td>\n",
              "      <td>2019-01-14</td>\n",
              "      <td>2018-12-30</td>\n",
              "    </tr>\n",
              "    <tr>\n",
              "      <th>24215</th>\n",
              "      <td>2019.0</td>\n",
              "      <td>1.928545e+09</td>\n",
              "      <td>1.0</td>\n",
              "      <td>17707.30</td>\n",
              "      <td>1.928545e+09</td>\n",
              "      <td>0</td>\n",
              "      <td>U001</td>\n",
              "      <td>0200769623</td>\n",
              "      <td>WAL-MAR foundation</td>\n",
              "      <td>USD</td>\n",
              "      <td>RV</td>\n",
              "      <td>NAH4</td>\n",
              "      <td>2019-01-11</td>\n",
              "      <td>2018-12-30</td>\n",
              "      <td>2018-12-30</td>\n",
              "      <td>2018-12-30</td>\n",
              "      <td>2019-01-14</td>\n",
              "      <td>2018-12-30</td>\n",
              "    </tr>\n",
              "    <tr>\n",
              "      <th>9514</th>\n",
              "      <td>2019.0</td>\n",
              "      <td>1.928542e+09</td>\n",
              "      <td>1.0</td>\n",
              "      <td>22221.15</td>\n",
              "      <td>1.928542e+09</td>\n",
              "      <td>0</td>\n",
              "      <td>U001</td>\n",
              "      <td>0200769623</td>\n",
              "      <td>WAL-MAR associates</td>\n",
              "      <td>USD</td>\n",
              "      <td>RV</td>\n",
              "      <td>NAH4</td>\n",
              "      <td>2019-01-10</td>\n",
              "      <td>2018-12-30</td>\n",
              "      <td>2018-12-29</td>\n",
              "      <td>2018-12-30</td>\n",
              "      <td>2019-01-14</td>\n",
              "      <td>2018-12-30</td>\n",
              "    </tr>\n",
              "    <tr>\n",
              "      <th>45305</th>\n",
              "      <td>2019.0</td>\n",
              "      <td>1.928533e+09</td>\n",
              "      <td>1.0</td>\n",
              "      <td>35118.85</td>\n",
              "      <td>1.928533e+09</td>\n",
              "      <td>0</td>\n",
              "      <td>U001</td>\n",
              "      <td>0200418007</td>\n",
              "      <td>AM us</td>\n",
              "      <td>USD</td>\n",
              "      <td>RV</td>\n",
              "      <td>NAA8</td>\n",
              "      <td>2019-01-22</td>\n",
              "      <td>2018-12-30</td>\n",
              "      <td>2018-12-29</td>\n",
              "      <td>2018-12-30</td>\n",
              "      <td>2019-01-14</td>\n",
              "      <td>2018-12-30</td>\n",
              "    </tr>\n",
              "    <tr>\n",
              "      <th>1653</th>\n",
              "      <td>2019.0</td>\n",
              "      <td>1.928538e+09</td>\n",
              "      <td>1.0</td>\n",
              "      <td>240.86</td>\n",
              "      <td>1.928538e+09</td>\n",
              "      <td>0</td>\n",
              "      <td>U001</td>\n",
              "      <td>0200726979</td>\n",
              "      <td>BJ'S  llc</td>\n",
              "      <td>USD</td>\n",
              "      <td>RV</td>\n",
              "      <td>NAA8</td>\n",
              "      <td>2019-01-15</td>\n",
              "      <td>2018-12-30</td>\n",
              "      <td>2018-12-29</td>\n",
              "      <td>2018-12-30</td>\n",
              "      <td>2019-01-14</td>\n",
              "      <td>2018-12-30</td>\n",
              "    </tr>\n",
              "    <tr>\n",
              "      <th>22406</th>\n",
              "      <td>2019.0</td>\n",
              "      <td>1.928542e+09</td>\n",
              "      <td>1.0</td>\n",
              "      <td>20417.83</td>\n",
              "      <td>1.928542e+09</td>\n",
              "      <td>0</td>\n",
              "      <td>U001</td>\n",
              "      <td>0200769623</td>\n",
              "      <td>WAL-MAR in</td>\n",
              "      <td>USD</td>\n",
              "      <td>RV</td>\n",
              "      <td>NAH4</td>\n",
              "      <td>2019-01-09</td>\n",
              "      <td>2018-12-30</td>\n",
              "      <td>2018-12-29</td>\n",
              "      <td>2018-12-30</td>\n",
              "      <td>2019-01-14</td>\n",
              "      <td>2018-12-30</td>\n",
              "    </tr>\n",
              "    <tr>\n",
              "      <th>36270</th>\n",
              "      <td>2019.0</td>\n",
              "      <td>1.991820e+09</td>\n",
              "      <td>1.0</td>\n",
              "      <td>28225.48</td>\n",
              "      <td>1.991820e+09</td>\n",
              "      <td>0</td>\n",
              "      <td>U013</td>\n",
              "      <td>0100009932</td>\n",
              "      <td>SYSCO IN trust</td>\n",
              "      <td>USD</td>\n",
              "      <td>RV</td>\n",
              "      <td>NAVE</td>\n",
              "      <td>2019-02-28</td>\n",
              "      <td>2018-12-30</td>\n",
              "      <td>2018-12-28</td>\n",
              "      <td>2018-12-30</td>\n",
              "      <td>2019-01-29</td>\n",
              "      <td>2018-12-30</td>\n",
              "    </tr>\n",
              "    <tr>\n",
              "      <th>41023</th>\n",
              "      <td>2019.0</td>\n",
              "      <td>1.928541e+09</td>\n",
              "      <td>1.0</td>\n",
              "      <td>69150.24</td>\n",
              "      <td>1.928541e+09</td>\n",
              "      <td>0</td>\n",
              "      <td>U001</td>\n",
              "      <td>0200704045</td>\n",
              "      <td>RA</td>\n",
              "      <td>USD</td>\n",
              "      <td>RV</td>\n",
              "      <td>NAA8</td>\n",
              "      <td>2019-01-14</td>\n",
              "      <td>2018-12-30</td>\n",
              "      <td>2018-12-30</td>\n",
              "      <td>2018-12-30</td>\n",
              "      <td>2019-01-14</td>\n",
              "      <td>2018-12-30</td>\n",
              "    </tr>\n",
              "    <tr>\n",
              "      <th>39223</th>\n",
              "      <td>2019.0</td>\n",
              "      <td>1.928540e+09</td>\n",
              "      <td>1.0</td>\n",
              "      <td>11782.60</td>\n",
              "      <td>1.928540e+09</td>\n",
              "      <td>0</td>\n",
              "      <td>U001</td>\n",
              "      <td>0200744019</td>\n",
              "      <td>TARG corp</td>\n",
              "      <td>USD</td>\n",
              "      <td>RV</td>\n",
              "      <td>NAA8</td>\n",
              "      <td>2019-01-18</td>\n",
              "      <td>2018-12-30</td>\n",
              "      <td>2018-12-29</td>\n",
              "      <td>2018-12-30</td>\n",
              "      <td>2019-01-14</td>\n",
              "      <td>2018-12-30</td>\n",
              "    </tr>\n",
              "    <tr>\n",
              "      <th>40834</th>\n",
              "      <td>2019.0</td>\n",
              "      <td>1.928543e+09</td>\n",
              "      <td>1.0</td>\n",
              "      <td>3629.22</td>\n",
              "      <td>1.928543e+09</td>\n",
              "      <td>0</td>\n",
              "      <td>U001</td>\n",
              "      <td>0200769623</td>\n",
              "      <td>WAL-MAR</td>\n",
              "      <td>USD</td>\n",
              "      <td>RV</td>\n",
              "      <td>NAH4</td>\n",
              "      <td>2019-01-10</td>\n",
              "      <td>2018-12-30</td>\n",
              "      <td>2018-12-30</td>\n",
              "      <td>2018-12-30</td>\n",
              "      <td>2019-01-14</td>\n",
              "      <td>2018-12-30</td>\n",
              "    </tr>\n",
              "    <tr>\n",
              "      <th>19781</th>\n",
              "      <td>2019.0</td>\n",
              "      <td>1.928538e+09</td>\n",
              "      <td>1.0</td>\n",
              "      <td>39118.11</td>\n",
              "      <td>1.928538e+09</td>\n",
              "      <td>0</td>\n",
              "      <td>U001</td>\n",
              "      <td>0200769623</td>\n",
              "      <td>WAL-MAR</td>\n",
              "      <td>USD</td>\n",
              "      <td>RV</td>\n",
              "      <td>NAH4</td>\n",
              "      <td>2019-01-09</td>\n",
              "      <td>2018-12-30</td>\n",
              "      <td>2018-12-29</td>\n",
              "      <td>2018-12-30</td>\n",
              "      <td>2019-01-14</td>\n",
              "      <td>2018-12-30</td>\n",
              "    </tr>\n",
              "    <tr>\n",
              "      <th>44347</th>\n",
              "      <td>2019.0</td>\n",
              "      <td>1.928536e+09</td>\n",
              "      <td>1.0</td>\n",
              "      <td>18681.98</td>\n",
              "      <td>1.928536e+09</td>\n",
              "      <td>0</td>\n",
              "      <td>U001</td>\n",
              "      <td>0200706844</td>\n",
              "      <td>WINC foundation</td>\n",
              "      <td>USD</td>\n",
              "      <td>RV</td>\n",
              "      <td>NAA8</td>\n",
              "      <td>2019-01-14</td>\n",
              "      <td>2018-12-30</td>\n",
              "      <td>2018-12-29</td>\n",
              "      <td>2018-12-30</td>\n",
              "      <td>2019-01-14</td>\n",
              "      <td>2018-12-30</td>\n",
              "    </tr>\n",
              "    <tr>\n",
              "      <th>36307</th>\n",
              "      <td>2019.0</td>\n",
              "      <td>1.928544e+09</td>\n",
              "      <td>1.0</td>\n",
              "      <td>36881.43</td>\n",
              "      <td>1.928544e+09</td>\n",
              "      <td>0</td>\n",
              "      <td>U001</td>\n",
              "      <td>0200769623</td>\n",
              "      <td>WAL-MAR</td>\n",
              "      <td>USD</td>\n",
              "      <td>RV</td>\n",
              "      <td>NAH4</td>\n",
              "      <td>2019-01-10</td>\n",
              "      <td>2018-12-30</td>\n",
              "      <td>2018-12-30</td>\n",
              "      <td>2018-12-30</td>\n",
              "      <td>2019-01-14</td>\n",
              "      <td>2018-12-30</td>\n",
              "    </tr>\n",
              "    <tr>\n",
              "      <th>30697</th>\n",
              "      <td>2019.0</td>\n",
              "      <td>1.928543e+09</td>\n",
              "      <td>1.0</td>\n",
              "      <td>45707.86</td>\n",
              "      <td>1.928543e+09</td>\n",
              "      <td>0</td>\n",
              "      <td>U001</td>\n",
              "      <td>0200769623</td>\n",
              "      <td>WAL-MAR in</td>\n",
              "      <td>USD</td>\n",
              "      <td>RV</td>\n",
              "      <td>NAH4</td>\n",
              "      <td>2019-01-09</td>\n",
              "      <td>2018-12-30</td>\n",
              "      <td>2018-12-30</td>\n",
              "      <td>2018-12-30</td>\n",
              "      <td>2019-01-14</td>\n",
              "      <td>2018-12-30</td>\n",
              "    </tr>\n",
              "    <tr>\n",
              "      <th>15962</th>\n",
              "      <td>2019.0</td>\n",
              "      <td>1.991819e+09</td>\n",
              "      <td>1.0</td>\n",
              "      <td>11734.73</td>\n",
              "      <td>1.991819e+09</td>\n",
              "      <td>0</td>\n",
              "      <td>U013</td>\n",
              "      <td>0100024077</td>\n",
              "      <td>GLOBAL  us</td>\n",
              "      <td>USD</td>\n",
              "      <td>RV</td>\n",
              "      <td>NAVF</td>\n",
              "      <td>2019-02-14</td>\n",
              "      <td>2018-12-30</td>\n",
              "      <td>2018-12-26</td>\n",
              "      <td>2018-12-30</td>\n",
              "      <td>2019-02-13</td>\n",
              "      <td>2018-12-30</td>\n",
              "    </tr>\n",
              "    <tr>\n",
              "      <th>37029</th>\n",
              "      <td>2019.0</td>\n",
              "      <td>1.928541e+09</td>\n",
              "      <td>1.0</td>\n",
              "      <td>366.83</td>\n",
              "      <td>1.928541e+09</td>\n",
              "      <td>0</td>\n",
              "      <td>U001</td>\n",
              "      <td>0200726979</td>\n",
              "      <td>BJ'S  corp</td>\n",
              "      <td>USD</td>\n",
              "      <td>RV</td>\n",
              "      <td>NAA8</td>\n",
              "      <td>2019-01-15</td>\n",
              "      <td>2018-12-30</td>\n",
              "      <td>2018-12-29</td>\n",
              "      <td>2018-12-30</td>\n",
              "      <td>2019-01-14</td>\n",
              "      <td>2018-12-30</td>\n",
              "    </tr>\n",
              "    <tr>\n",
              "      <th>27375</th>\n",
              "      <td>2019.0</td>\n",
              "      <td>1.928534e+09</td>\n",
              "      <td>1.0</td>\n",
              "      <td>12232.84</td>\n",
              "      <td>1.928534e+09</td>\n",
              "      <td>0</td>\n",
              "      <td>U001</td>\n",
              "      <td>0200769623</td>\n",
              "      <td>WAL-MAR</td>\n",
              "      <td>USD</td>\n",
              "      <td>RV</td>\n",
              "      <td>NAH4</td>\n",
              "      <td>2019-01-10</td>\n",
              "      <td>2018-12-30</td>\n",
              "      <td>2018-12-29</td>\n",
              "      <td>2018-12-30</td>\n",
              "      <td>2019-01-14</td>\n",
              "      <td>2018-12-30</td>\n",
              "    </tr>\n",
              "    <tr>\n",
              "      <th>39176</th>\n",
              "      <td>2019.0</td>\n",
              "      <td>1.928542e+09</td>\n",
              "      <td>1.0</td>\n",
              "      <td>33983.19</td>\n",
              "      <td>1.928542e+09</td>\n",
              "      <td>0</td>\n",
              "      <td>U001</td>\n",
              "      <td>0200769623</td>\n",
              "      <td>WAL-MAR associates</td>\n",
              "      <td>USD</td>\n",
              "      <td>RV</td>\n",
              "      <td>NAH4</td>\n",
              "      <td>2019-01-10</td>\n",
              "      <td>2018-12-30</td>\n",
              "      <td>2018-12-29</td>\n",
              "      <td>2018-12-30</td>\n",
              "      <td>2019-01-14</td>\n",
              "      <td>2018-12-30</td>\n",
              "    </tr>\n",
              "    <tr>\n",
              "      <th>34589</th>\n",
              "      <td>2019.0</td>\n",
              "      <td>1.928534e+09</td>\n",
              "      <td>1.0</td>\n",
              "      <td>2352.97</td>\n",
              "      <td>1.928534e+09</td>\n",
              "      <td>0</td>\n",
              "      <td>U001</td>\n",
              "      <td>0200769623</td>\n",
              "      <td>WAL-MAR us</td>\n",
              "      <td>USD</td>\n",
              "      <td>RV</td>\n",
              "      <td>NAH4</td>\n",
              "      <td>2019-01-09</td>\n",
              "      <td>2018-12-30</td>\n",
              "      <td>2018-12-29</td>\n",
              "      <td>2018-12-30</td>\n",
              "      <td>2019-01-14</td>\n",
              "      <td>2018-12-30</td>\n",
              "    </tr>\n",
              "    <tr>\n",
              "      <th>43665</th>\n",
              "      <td>2019.0</td>\n",
              "      <td>1.928543e+09</td>\n",
              "      <td>1.0</td>\n",
              "      <td>42630.58</td>\n",
              "      <td>1.928543e+09</td>\n",
              "      <td>0</td>\n",
              "      <td>U001</td>\n",
              "      <td>0200769623</td>\n",
              "      <td>WAL-MAR systems</td>\n",
              "      <td>USD</td>\n",
              "      <td>RV</td>\n",
              "      <td>NAH4</td>\n",
              "      <td>2019-01-10</td>\n",
              "      <td>2018-12-30</td>\n",
              "      <td>2018-12-30</td>\n",
              "      <td>2018-12-30</td>\n",
              "      <td>2019-01-14</td>\n",
              "      <td>2018-12-30</td>\n",
              "    </tr>\n",
              "    <tr>\n",
              "      <th>1857</th>\n",
              "      <td>2019.0</td>\n",
              "      <td>1.928535e+09</td>\n",
              "      <td>1.0</td>\n",
              "      <td>4593.26</td>\n",
              "      <td>1.928535e+09</td>\n",
              "      <td>0</td>\n",
              "      <td>U001</td>\n",
              "      <td>0200761342</td>\n",
              "      <td>EL GR associates</td>\n",
              "      <td>USD</td>\n",
              "      <td>RV</td>\n",
              "      <td>NAA8</td>\n",
              "      <td>2019-01-14</td>\n",
              "      <td>2018-12-30</td>\n",
              "      <td>2018-12-29</td>\n",
              "      <td>2018-12-30</td>\n",
              "      <td>2019-01-14</td>\n",
              "      <td>2018-12-30</td>\n",
              "    </tr>\n",
              "    <tr>\n",
              "      <th>36935</th>\n",
              "      <td>2019.0</td>\n",
              "      <td>1.928541e+09</td>\n",
              "      <td>1.0</td>\n",
              "      <td>66878.47</td>\n",
              "      <td>1.928541e+09</td>\n",
              "      <td>0</td>\n",
              "      <td>U001</td>\n",
              "      <td>0200769623</td>\n",
              "      <td>WAL-MAR us</td>\n",
              "      <td>USD</td>\n",
              "      <td>RV</td>\n",
              "      <td>NAH4</td>\n",
              "      <td>2019-01-09</td>\n",
              "      <td>2018-12-30</td>\n",
              "      <td>2018-12-29</td>\n",
              "      <td>2018-12-30</td>\n",
              "      <td>2019-01-14</td>\n",
              "      <td>2018-12-30</td>\n",
              "    </tr>\n",
              "    <tr>\n",
              "      <th>557</th>\n",
              "      <td>2019.0</td>\n",
              "      <td>1.928541e+09</td>\n",
              "      <td>1.0</td>\n",
              "      <td>12611.57</td>\n",
              "      <td>1.928541e+09</td>\n",
              "      <td>0</td>\n",
              "      <td>U001</td>\n",
              "      <td>0200769623</td>\n",
              "      <td>WAL-MAR in</td>\n",
              "      <td>USD</td>\n",
              "      <td>RV</td>\n",
              "      <td>NAH4</td>\n",
              "      <td>2019-01-09</td>\n",
              "      <td>2018-12-30</td>\n",
              "      <td>2018-12-29</td>\n",
              "      <td>2018-12-30</td>\n",
              "      <td>2019-01-14</td>\n",
              "      <td>2018-12-30</td>\n",
              "    </tr>\n",
              "    <tr>\n",
              "      <th>24549</th>\n",
              "      <td>2019.0</td>\n",
              "      <td>1.928539e+09</td>\n",
              "      <td>1.0</td>\n",
              "      <td>31.75</td>\n",
              "      <td>1.928539e+09</td>\n",
              "      <td>0</td>\n",
              "      <td>U001</td>\n",
              "      <td>0200726979</td>\n",
              "      <td>BJ'S  co</td>\n",
              "      <td>USD</td>\n",
              "      <td>RV</td>\n",
              "      <td>NAA8</td>\n",
              "      <td>2019-01-15</td>\n",
              "      <td>2018-12-30</td>\n",
              "      <td>2018-12-29</td>\n",
              "      <td>2018-12-30</td>\n",
              "      <td>2019-01-14</td>\n",
              "      <td>2018-12-30</td>\n",
              "    </tr>\n",
              "    <tr>\n",
              "      <th>44989</th>\n",
              "      <td>2019.0</td>\n",
              "      <td>1.928538e+09</td>\n",
              "      <td>1.0</td>\n",
              "      <td>245.30</td>\n",
              "      <td>1.928538e+09</td>\n",
              "      <td>0</td>\n",
              "      <td>U001</td>\n",
              "      <td>0200726979</td>\n",
              "      <td>BJ'S  co</td>\n",
              "      <td>USD</td>\n",
              "      <td>RV</td>\n",
              "      <td>NAA8</td>\n",
              "      <td>2019-01-15</td>\n",
              "      <td>2018-12-30</td>\n",
              "      <td>2018-12-29</td>\n",
              "      <td>2018-12-30</td>\n",
              "      <td>2019-01-14</td>\n",
              "      <td>2018-12-30</td>\n",
              "    </tr>\n",
              "    <tr>\n",
              "      <th>31881</th>\n",
              "      <td>2019.0</td>\n",
              "      <td>1.928543e+09</td>\n",
              "      <td>1.0</td>\n",
              "      <td>10281.43</td>\n",
              "      <td>1.928543e+09</td>\n",
              "      <td>0</td>\n",
              "      <td>U001</td>\n",
              "      <td>0200769623</td>\n",
              "      <td>WAL-MAR us</td>\n",
              "      <td>USD</td>\n",
              "      <td>RV</td>\n",
              "      <td>NAH4</td>\n",
              "      <td>2019-01-09</td>\n",
              "      <td>2018-12-30</td>\n",
              "      <td>2018-12-30</td>\n",
              "      <td>2018-12-30</td>\n",
              "      <td>2019-01-14</td>\n",
              "      <td>2018-12-30</td>\n",
              "    </tr>\n",
              "    <tr>\n",
              "      <th>18708</th>\n",
              "      <td>2019.0</td>\n",
              "      <td>1.928542e+09</td>\n",
              "      <td>1.0</td>\n",
              "      <td>16090.78</td>\n",
              "      <td>1.928542e+09</td>\n",
              "      <td>0</td>\n",
              "      <td>U001</td>\n",
              "      <td>0200769623</td>\n",
              "      <td>WAL-MAR trust</td>\n",
              "      <td>USD</td>\n",
              "      <td>RV</td>\n",
              "      <td>NAH4</td>\n",
              "      <td>2019-01-09</td>\n",
              "      <td>2018-12-30</td>\n",
              "      <td>2018-12-29</td>\n",
              "      <td>2018-12-30</td>\n",
              "      <td>2019-01-14</td>\n",
              "      <td>2018-12-30</td>\n",
              "    </tr>\n",
              "    <tr>\n",
              "      <th>11233</th>\n",
              "      <td>2019.0</td>\n",
              "      <td>1.928538e+09</td>\n",
              "      <td>1.0</td>\n",
              "      <td>2076.03</td>\n",
              "      <td>1.928538e+09</td>\n",
              "      <td>0</td>\n",
              "      <td>U001</td>\n",
              "      <td>0200793568</td>\n",
              "      <td>SUPE corporation</td>\n",
              "      <td>USD</td>\n",
              "      <td>RV</td>\n",
              "      <td>NAA8</td>\n",
              "      <td>2019-01-15</td>\n",
              "      <td>2018-12-30</td>\n",
              "      <td>2018-12-29</td>\n",
              "      <td>2018-12-30</td>\n",
              "      <td>2019-01-14</td>\n",
              "      <td>2018-12-30</td>\n",
              "    </tr>\n",
              "    <tr>\n",
              "      <th>34650</th>\n",
              "      <td>2019.0</td>\n",
              "      <td>2.960521e+09</td>\n",
              "      <td>1.0</td>\n",
              "      <td>62363.04</td>\n",
              "      <td>2.960521e+09</td>\n",
              "      <td>0</td>\n",
              "      <td>CA02</td>\n",
              "      <td>0140106408</td>\n",
              "      <td>WAL-M in</td>\n",
              "      <td>CAD</td>\n",
              "      <td>RV</td>\n",
              "      <td>CA10</td>\n",
              "      <td>2019-01-25</td>\n",
              "      <td>2018-12-30</td>\n",
              "      <td>2018-12-30</td>\n",
              "      <td>2018-12-30</td>\n",
              "      <td>2019-01-09</td>\n",
              "      <td>2018-12-30</td>\n",
              "    </tr>\n",
              "    <tr>\n",
              "      <th>539</th>\n",
              "      <td>2019.0</td>\n",
              "      <td>1.928540e+09</td>\n",
              "      <td>1.0</td>\n",
              "      <td>30257.67</td>\n",
              "      <td>1.928540e+09</td>\n",
              "      <td>0</td>\n",
              "      <td>U001</td>\n",
              "      <td>0200759878</td>\n",
              "      <td>SA in</td>\n",
              "      <td>USD</td>\n",
              "      <td>RV</td>\n",
              "      <td>NAH4</td>\n",
              "      <td>2019-01-15</td>\n",
              "      <td>2018-12-30</td>\n",
              "      <td>2018-12-29</td>\n",
              "      <td>2018-12-30</td>\n",
              "      <td>2019-01-14</td>\n",
              "      <td>2018-12-30</td>\n",
              "    </tr>\n",
              "    <tr>\n",
              "      <th>27147</th>\n",
              "      <td>2019.0</td>\n",
              "      <td>1.928541e+09</td>\n",
              "      <td>1.0</td>\n",
              "      <td>68730.85</td>\n",
              "      <td>1.928541e+09</td>\n",
              "      <td>0</td>\n",
              "      <td>U001</td>\n",
              "      <td>0200769623</td>\n",
              "      <td>WAL-MAR in</td>\n",
              "      <td>USD</td>\n",
              "      <td>RV</td>\n",
              "      <td>NAH4</td>\n",
              "      <td>2019-01-10</td>\n",
              "      <td>2018-12-30</td>\n",
              "      <td>2018-12-29</td>\n",
              "      <td>2018-12-30</td>\n",
              "      <td>2019-01-14</td>\n",
              "      <td>2018-12-30</td>\n",
              "    </tr>\n",
              "    <tr>\n",
              "      <th>23464</th>\n",
              "      <td>2019.0</td>\n",
              "      <td>1.928543e+09</td>\n",
              "      <td>1.0</td>\n",
              "      <td>16987.34</td>\n",
              "      <td>1.928543e+09</td>\n",
              "      <td>0</td>\n",
              "      <td>U001</td>\n",
              "      <td>0200769623</td>\n",
              "      <td>WAL-MAR foundation</td>\n",
              "      <td>USD</td>\n",
              "      <td>RV</td>\n",
              "      <td>NAH4</td>\n",
              "      <td>2019-01-10</td>\n",
              "      <td>2018-12-30</td>\n",
              "      <td>2018-12-30</td>\n",
              "      <td>2018-12-30</td>\n",
              "      <td>2019-01-14</td>\n",
              "      <td>2018-12-30</td>\n",
              "    </tr>\n",
              "    <tr>\n",
              "      <th>34313</th>\n",
              "      <td>2019.0</td>\n",
              "      <td>1.928534e+09</td>\n",
              "      <td>1.0</td>\n",
              "      <td>15753.54</td>\n",
              "      <td>1.928534e+09</td>\n",
              "      <td>0</td>\n",
              "      <td>U001</td>\n",
              "      <td>0200769623</td>\n",
              "      <td>WAL-MAR</td>\n",
              "      <td>USD</td>\n",
              "      <td>RV</td>\n",
              "      <td>NAH4</td>\n",
              "      <td>2019-01-09</td>\n",
              "      <td>2018-12-30</td>\n",
              "      <td>2018-12-29</td>\n",
              "      <td>2018-12-30</td>\n",
              "      <td>2019-01-14</td>\n",
              "      <td>2018-12-30</td>\n",
              "    </tr>\n",
              "    <tr>\n",
              "      <th>12273</th>\n",
              "      <td>2019.0</td>\n",
              "      <td>1.928543e+09</td>\n",
              "      <td>1.0</td>\n",
              "      <td>756.28</td>\n",
              "      <td>1.928543e+09</td>\n",
              "      <td>0</td>\n",
              "      <td>U001</td>\n",
              "      <td>0200769623</td>\n",
              "      <td>WAL-MAR llc</td>\n",
              "      <td>USD</td>\n",
              "      <td>RV</td>\n",
              "      <td>NAH4</td>\n",
              "      <td>2019-01-10</td>\n",
              "      <td>2018-12-30</td>\n",
              "      <td>2018-12-30</td>\n",
              "      <td>2018-12-30</td>\n",
              "      <td>2019-01-14</td>\n",
              "      <td>2018-12-30</td>\n",
              "    </tr>\n",
              "    <tr>\n",
              "      <th>38690</th>\n",
              "      <td>2019.0</td>\n",
              "      <td>1.928538e+09</td>\n",
              "      <td>1.0</td>\n",
              "      <td>153.68</td>\n",
              "      <td>1.928538e+09</td>\n",
              "      <td>0</td>\n",
              "      <td>U001</td>\n",
              "      <td>0200726979</td>\n",
              "      <td>BJ'S  corporation</td>\n",
              "      <td>USD</td>\n",
              "      <td>RV</td>\n",
              "      <td>NAA8</td>\n",
              "      <td>2019-01-15</td>\n",
              "      <td>2018-12-30</td>\n",
              "      <td>2018-12-29</td>\n",
              "      <td>2018-12-30</td>\n",
              "      <td>2019-01-14</td>\n",
              "      <td>2018-12-30</td>\n",
              "    </tr>\n",
              "    <tr>\n",
              "      <th>18335</th>\n",
              "      <td>2019.0</td>\n",
              "      <td>1.928543e+09</td>\n",
              "      <td>1.0</td>\n",
              "      <td>1763.96</td>\n",
              "      <td>1.928543e+09</td>\n",
              "      <td>0</td>\n",
              "      <td>U001</td>\n",
              "      <td>0200769623</td>\n",
              "      <td>WAL-MAR corporation</td>\n",
              "      <td>USD</td>\n",
              "      <td>RV</td>\n",
              "      <td>NAH4</td>\n",
              "      <td>2019-01-11</td>\n",
              "      <td>2018-12-30</td>\n",
              "      <td>2018-12-30</td>\n",
              "      <td>2018-12-30</td>\n",
              "      <td>2019-01-14</td>\n",
              "      <td>2018-12-30</td>\n",
              "    </tr>\n",
              "    <tr>\n",
              "      <th>19241</th>\n",
              "      <td>2019.0</td>\n",
              "      <td>1.928542e+09</td>\n",
              "      <td>1.0</td>\n",
              "      <td>2686.33</td>\n",
              "      <td>1.928542e+09</td>\n",
              "      <td>0</td>\n",
              "      <td>U001</td>\n",
              "      <td>0200769623</td>\n",
              "      <td>WAL-MAR systems</td>\n",
              "      <td>USD</td>\n",
              "      <td>RV</td>\n",
              "      <td>NAH4</td>\n",
              "      <td>2019-01-09</td>\n",
              "      <td>2018-12-30</td>\n",
              "      <td>2018-12-30</td>\n",
              "      <td>2018-12-30</td>\n",
              "      <td>2019-01-14</td>\n",
              "      <td>2018-12-30</td>\n",
              "    </tr>\n",
              "    <tr>\n",
              "      <th>836</th>\n",
              "      <td>2019.0</td>\n",
              "      <td>1.928541e+09</td>\n",
              "      <td>1.0</td>\n",
              "      <td>22060.83</td>\n",
              "      <td>1.928541e+09</td>\n",
              "      <td>0</td>\n",
              "      <td>U001</td>\n",
              "      <td>0200769623</td>\n",
              "      <td>WAL-MAR co</td>\n",
              "      <td>USD</td>\n",
              "      <td>RV</td>\n",
              "      <td>NAH4</td>\n",
              "      <td>2019-01-09</td>\n",
              "      <td>2018-12-30</td>\n",
              "      <td>2018-12-29</td>\n",
              "      <td>2018-12-30</td>\n",
              "      <td>2019-01-14</td>\n",
              "      <td>2018-12-30</td>\n",
              "    </tr>\n",
              "    <tr>\n",
              "      <th>32504</th>\n",
              "      <td>2019.0</td>\n",
              "      <td>1.928541e+09</td>\n",
              "      <td>1.0</td>\n",
              "      <td>13088.47</td>\n",
              "      <td>1.928541e+09</td>\n",
              "      <td>0</td>\n",
              "      <td>U001</td>\n",
              "      <td>0200769623</td>\n",
              "      <td>WAL-MAR corporation</td>\n",
              "      <td>USD</td>\n",
              "      <td>RV</td>\n",
              "      <td>NAH4</td>\n",
              "      <td>2019-01-09</td>\n",
              "      <td>2018-12-30</td>\n",
              "      <td>2018-12-29</td>\n",
              "      <td>2018-12-30</td>\n",
              "      <td>2019-01-14</td>\n",
              "      <td>2018-12-30</td>\n",
              "    </tr>\n",
              "    <tr>\n",
              "      <th>38561</th>\n",
              "      <td>2019.0</td>\n",
              "      <td>1.928538e+09</td>\n",
              "      <td>1.0</td>\n",
              "      <td>139.69</td>\n",
              "      <td>1.928538e+09</td>\n",
              "      <td>0</td>\n",
              "      <td>U001</td>\n",
              "      <td>0200726979</td>\n",
              "      <td>BJ'S</td>\n",
              "      <td>USD</td>\n",
              "      <td>RV</td>\n",
              "      <td>NAA8</td>\n",
              "      <td>2019-01-15</td>\n",
              "      <td>2018-12-30</td>\n",
              "      <td>2018-12-29</td>\n",
              "      <td>2018-12-30</td>\n",
              "      <td>2019-01-14</td>\n",
              "      <td>2018-12-30</td>\n",
              "    </tr>\n",
              "    <tr>\n",
              "      <th>31307</th>\n",
              "      <td>2019.0</td>\n",
              "      <td>1.928538e+09</td>\n",
              "      <td>1.0</td>\n",
              "      <td>8187.79</td>\n",
              "      <td>1.928538e+09</td>\n",
              "      <td>0</td>\n",
              "      <td>U001</td>\n",
              "      <td>0200769623</td>\n",
              "      <td>WAL-MAR corp</td>\n",
              "      <td>USD</td>\n",
              "      <td>RV</td>\n",
              "      <td>NAH4</td>\n",
              "      <td>2019-01-15</td>\n",
              "      <td>2018-12-30</td>\n",
              "      <td>2018-12-29</td>\n",
              "      <td>2018-12-30</td>\n",
              "      <td>2019-01-14</td>\n",
              "      <td>2018-12-30</td>\n",
              "    </tr>\n",
              "    <tr>\n",
              "      <th>38205</th>\n",
              "      <td>2019.0</td>\n",
              "      <td>1.928540e+09</td>\n",
              "      <td>1.0</td>\n",
              "      <td>14257.87</td>\n",
              "      <td>1.928540e+09</td>\n",
              "      <td>0</td>\n",
              "      <td>U001</td>\n",
              "      <td>0200759878</td>\n",
              "      <td>SA llc</td>\n",
              "      <td>USD</td>\n",
              "      <td>RV</td>\n",
              "      <td>NAH4</td>\n",
              "      <td>2019-01-15</td>\n",
              "      <td>2018-12-30</td>\n",
              "      <td>2018-12-29</td>\n",
              "      <td>2018-12-30</td>\n",
              "      <td>2019-01-14</td>\n",
              "      <td>2018-12-30</td>\n",
              "    </tr>\n",
              "    <tr>\n",
              "      <th>29598</th>\n",
              "      <td>2019.0</td>\n",
              "      <td>1.928532e+09</td>\n",
              "      <td>1.0</td>\n",
              "      <td>185221.33</td>\n",
              "      <td>1.928532e+09</td>\n",
              "      <td>0</td>\n",
              "      <td>U001</td>\n",
              "      <td>0200759878</td>\n",
              "      <td>SA trust</td>\n",
              "      <td>USD</td>\n",
              "      <td>RV</td>\n",
              "      <td>NAWP</td>\n",
              "      <td>2019-02-11</td>\n",
              "      <td>2018-12-30</td>\n",
              "      <td>2018-12-29</td>\n",
              "      <td>2018-12-30</td>\n",
              "      <td>2019-02-13</td>\n",
              "      <td>2018-12-30</td>\n",
              "    </tr>\n",
              "    <tr>\n",
              "      <th>19374</th>\n",
              "      <td>2019.0</td>\n",
              "      <td>1.928538e+09</td>\n",
              "      <td>1.0</td>\n",
              "      <td>14102.43</td>\n",
              "      <td>1.928538e+09</td>\n",
              "      <td>0</td>\n",
              "      <td>U001</td>\n",
              "      <td>0200786288</td>\n",
              "      <td>FAMILY llc</td>\n",
              "      <td>USD</td>\n",
              "      <td>RV</td>\n",
              "      <td>NAC6</td>\n",
              "      <td>2019-01-11</td>\n",
              "      <td>2018-12-30</td>\n",
              "      <td>2018-12-29</td>\n",
              "      <td>2018-12-30</td>\n",
              "      <td>2019-01-14</td>\n",
              "      <td>2018-12-30</td>\n",
              "    </tr>\n",
              "    <tr>\n",
              "      <th>18397</th>\n",
              "      <td>2019.0</td>\n",
              "      <td>1.928539e+09</td>\n",
              "      <td>1.0</td>\n",
              "      <td>57640.90</td>\n",
              "      <td>1.928539e+09</td>\n",
              "      <td>0</td>\n",
              "      <td>U001</td>\n",
              "      <td>0200706844</td>\n",
              "      <td>WINC systems</td>\n",
              "      <td>USD</td>\n",
              "      <td>RV</td>\n",
              "      <td>NAA8</td>\n",
              "      <td>2019-01-15</td>\n",
              "      <td>2018-12-30</td>\n",
              "      <td>2018-12-29</td>\n",
              "      <td>2018-12-30</td>\n",
              "      <td>2019-01-14</td>\n",
              "      <td>2018-12-30</td>\n",
              "    </tr>\n",
              "    <tr>\n",
              "      <th>26799</th>\n",
              "      <td>2019.0</td>\n",
              "      <td>1.928539e+09</td>\n",
              "      <td>1.0</td>\n",
              "      <td>18046.33</td>\n",
              "      <td>1.928539e+09</td>\n",
              "      <td>0</td>\n",
              "      <td>U001</td>\n",
              "      <td>0200769623</td>\n",
              "      <td>WAL-MAR foundation</td>\n",
              "      <td>USD</td>\n",
              "      <td>RV</td>\n",
              "      <td>NAH4</td>\n",
              "      <td>2019-01-09</td>\n",
              "      <td>2018-12-30</td>\n",
              "      <td>2018-12-29</td>\n",
              "      <td>2018-12-30</td>\n",
              "      <td>2019-01-14</td>\n",
              "      <td>2018-12-30</td>\n",
              "    </tr>\n",
              "    <tr>\n",
              "      <th>24978</th>\n",
              "      <td>2019.0</td>\n",
              "      <td>1.928541e+09</td>\n",
              "      <td>1.0</td>\n",
              "      <td>91.36</td>\n",
              "      <td>1.928541e+09</td>\n",
              "      <td>0</td>\n",
              "      <td>U001</td>\n",
              "      <td>0200726979</td>\n",
              "      <td>BJ'S  systems</td>\n",
              "      <td>USD</td>\n",
              "      <td>RV</td>\n",
              "      <td>NAA8</td>\n",
              "      <td>2019-01-15</td>\n",
              "      <td>2018-12-30</td>\n",
              "      <td>2018-12-29</td>\n",
              "      <td>2018-12-30</td>\n",
              "      <td>2019-01-14</td>\n",
              "      <td>2018-12-30</td>\n",
              "    </tr>\n",
              "    <tr>\n",
              "      <th>32896</th>\n",
              "      <td>2019.0</td>\n",
              "      <td>1.928542e+09</td>\n",
              "      <td>1.0</td>\n",
              "      <td>35324.67</td>\n",
              "      <td>1.928542e+09</td>\n",
              "      <td>0</td>\n",
              "      <td>U001</td>\n",
              "      <td>0200769623</td>\n",
              "      <td>WAL-MAR</td>\n",
              "      <td>USD</td>\n",
              "      <td>RV</td>\n",
              "      <td>NAH4</td>\n",
              "      <td>2019-01-09</td>\n",
              "      <td>2018-12-30</td>\n",
              "      <td>2018-12-29</td>\n",
              "      <td>2018-12-30</td>\n",
              "      <td>2019-01-14</td>\n",
              "      <td>2018-12-30</td>\n",
              "    </tr>\n",
              "    <tr>\n",
              "      <th>38883</th>\n",
              "      <td>2019.0</td>\n",
              "      <td>1.928540e+09</td>\n",
              "      <td>1.0</td>\n",
              "      <td>14902.13</td>\n",
              "      <td>1.928540e+09</td>\n",
              "      <td>0</td>\n",
              "      <td>U001</td>\n",
              "      <td>0200769623</td>\n",
              "      <td>WAL-MAR trust</td>\n",
              "      <td>USD</td>\n",
              "      <td>RV</td>\n",
              "      <td>NAH4</td>\n",
              "      <td>2019-01-09</td>\n",
              "      <td>2018-12-30</td>\n",
              "      <td>2018-12-29</td>\n",
              "      <td>2018-12-30</td>\n",
              "      <td>2019-01-14</td>\n",
              "      <td>2018-12-30</td>\n",
              "    </tr>\n",
              "  </tbody>\n",
              "</table>\n",
              "</div>"
            ],
            "text/plain": [
              "       buisness_year        doc_id  ...  due_in_date  baseline_create_date\n",
              "27794         2019.0  1.928540e+09  ...   2019-01-14            2018-12-30\n",
              "11418         2019.0  1.928508e+09  ...   2019-01-14            2018-12-30\n",
              "24215         2019.0  1.928545e+09  ...   2019-01-14            2018-12-30\n",
              "9514          2019.0  1.928542e+09  ...   2019-01-14            2018-12-30\n",
              "45305         2019.0  1.928533e+09  ...   2019-01-14            2018-12-30\n",
              "1653          2019.0  1.928538e+09  ...   2019-01-14            2018-12-30\n",
              "22406         2019.0  1.928542e+09  ...   2019-01-14            2018-12-30\n",
              "36270         2019.0  1.991820e+09  ...   2019-01-29            2018-12-30\n",
              "41023         2019.0  1.928541e+09  ...   2019-01-14            2018-12-30\n",
              "39223         2019.0  1.928540e+09  ...   2019-01-14            2018-12-30\n",
              "40834         2019.0  1.928543e+09  ...   2019-01-14            2018-12-30\n",
              "19781         2019.0  1.928538e+09  ...   2019-01-14            2018-12-30\n",
              "44347         2019.0  1.928536e+09  ...   2019-01-14            2018-12-30\n",
              "36307         2019.0  1.928544e+09  ...   2019-01-14            2018-12-30\n",
              "30697         2019.0  1.928543e+09  ...   2019-01-14            2018-12-30\n",
              "15962         2019.0  1.991819e+09  ...   2019-02-13            2018-12-30\n",
              "37029         2019.0  1.928541e+09  ...   2019-01-14            2018-12-30\n",
              "27375         2019.0  1.928534e+09  ...   2019-01-14            2018-12-30\n",
              "39176         2019.0  1.928542e+09  ...   2019-01-14            2018-12-30\n",
              "34589         2019.0  1.928534e+09  ...   2019-01-14            2018-12-30\n",
              "43665         2019.0  1.928543e+09  ...   2019-01-14            2018-12-30\n",
              "1857          2019.0  1.928535e+09  ...   2019-01-14            2018-12-30\n",
              "36935         2019.0  1.928541e+09  ...   2019-01-14            2018-12-30\n",
              "557           2019.0  1.928541e+09  ...   2019-01-14            2018-12-30\n",
              "24549         2019.0  1.928539e+09  ...   2019-01-14            2018-12-30\n",
              "44989         2019.0  1.928538e+09  ...   2019-01-14            2018-12-30\n",
              "31881         2019.0  1.928543e+09  ...   2019-01-14            2018-12-30\n",
              "18708         2019.0  1.928542e+09  ...   2019-01-14            2018-12-30\n",
              "11233         2019.0  1.928538e+09  ...   2019-01-14            2018-12-30\n",
              "34650         2019.0  2.960521e+09  ...   2019-01-09            2018-12-30\n",
              "539           2019.0  1.928540e+09  ...   2019-01-14            2018-12-30\n",
              "27147         2019.0  1.928541e+09  ...   2019-01-14            2018-12-30\n",
              "23464         2019.0  1.928543e+09  ...   2019-01-14            2018-12-30\n",
              "34313         2019.0  1.928534e+09  ...   2019-01-14            2018-12-30\n",
              "12273         2019.0  1.928543e+09  ...   2019-01-14            2018-12-30\n",
              "38690         2019.0  1.928538e+09  ...   2019-01-14            2018-12-30\n",
              "18335         2019.0  1.928543e+09  ...   2019-01-14            2018-12-30\n",
              "19241         2019.0  1.928542e+09  ...   2019-01-14            2018-12-30\n",
              "836           2019.0  1.928541e+09  ...   2019-01-14            2018-12-30\n",
              "32504         2019.0  1.928541e+09  ...   2019-01-14            2018-12-30\n",
              "38561         2019.0  1.928538e+09  ...   2019-01-14            2018-12-30\n",
              "31307         2019.0  1.928538e+09  ...   2019-01-14            2018-12-30\n",
              "38205         2019.0  1.928540e+09  ...   2019-01-14            2018-12-30\n",
              "29598         2019.0  1.928532e+09  ...   2019-02-13            2018-12-30\n",
              "19374         2019.0  1.928538e+09  ...   2019-01-14            2018-12-30\n",
              "18397         2019.0  1.928539e+09  ...   2019-01-14            2018-12-30\n",
              "26799         2019.0  1.928539e+09  ...   2019-01-14            2018-12-30\n",
              "24978         2019.0  1.928541e+09  ...   2019-01-14            2018-12-30\n",
              "32896         2019.0  1.928542e+09  ...   2019-01-14            2018-12-30\n",
              "38883         2019.0  1.928540e+09  ...   2019-01-14            2018-12-30\n",
              "\n",
              "[50 rows x 18 columns]"
            ]
          },
          "metadata": {
            "tags": []
          },
          "execution_count": 1169
        }
      ]
    },
    {
      "cell_type": "code",
      "metadata": {
        "id": "IP8eH40_2JzI"
      },
      "source": [
        "# creating test data\n",
        "test = df[df['clear_date'].isnull() == True]\n",
        "# Creating train data\n",
        "train = df[df['clear_date'].isnull() == False]\n",
        "# Creating validation set 1 and 2\n",
        "train, val1 = train_test_split(train , test_size=.15,shuffle=False)\n",
        "train, val2 = train_test_split(train , test_size=.15,shuffle=False)"
      ],
      "execution_count": null,
      "outputs": []
    },
    {
      "cell_type": "code",
      "metadata": {
        "colab": {
          "base_uri": "https://localhost:8080/"
        },
        "id": "FzSAcsGEn3wm",
        "outputId": "dc54ff03-80f3-432c-8296-0bef77197a8b"
      },
      "source": [
        "print(test)\n",
        "print(train)\n",
        "print(val1)\n",
        "print(val1)"
      ],
      "execution_count": null,
      "outputs": [
        {
          "output_type": "stream",
          "text": [
            "       buisness_year        doc_id  ...  due_in_date  baseline_create_date\n",
            "48205         2020.0  1.930576e+09  ...   2020-05-02            2020-02-27\n",
            "48239         2020.0  2.960617e+09  ...   2020-03-09            2020-02-28\n",
            "49705         2020.0  1.930578e+09  ...   2020-03-13            2020-02-27\n",
            "48196         2020.0  1.930567e+09  ...   2020-04-27            2020-02-27\n",
            "49740         2020.0  1.930571e+09  ...   2020-03-13            2020-02-27\n",
            "...              ...           ...  ...          ...                   ...\n",
            "49316         2020.0  2.960635e+09  ...   2020-05-24            2020-05-14\n",
            "49884         2020.0  1.930907e+09  ...   2020-06-02            2020-05-18\n",
            "47330         2020.0  1.930915e+09  ...   2020-06-03            2020-05-19\n",
            "46022         2020.0  1.930926e+09  ...   2020-06-20            2020-05-21\n",
            "47276         2020.0  1.930934e+09  ...   2020-06-01            2020-05-22\n",
            "\n",
            "[4619 rows x 18 columns]\n",
            "       buisness_year        doc_id  ...  due_in_date  baseline_create_date\n",
            "27794         2019.0  1.928540e+09  ...   2019-01-14            2018-12-30\n",
            "11418         2019.0  1.928508e+09  ...   2019-01-14            2018-12-30\n",
            "24215         2019.0  1.928545e+09  ...   2019-01-14            2018-12-30\n",
            "9514          2019.0  1.928542e+09  ...   2019-01-14            2018-12-30\n",
            "45305         2019.0  1.928533e+09  ...   2019-01-14            2018-12-30\n",
            "...              ...           ...  ...          ...                   ...\n",
            "35207         2019.0  1.930028e+09  ...   2019-11-27            2019-10-18\n",
            "13656         2019.0  1.930028e+09  ...   2019-11-02            2019-10-18\n",
            "22022         2019.0  1.930022e+09  ...   2019-11-08            2019-10-16\n",
            "12675         2019.0  1.929996e+09  ...   2019-11-02            2019-10-18\n",
            "11019         2019.0  1.930031e+09  ...   2019-11-02            2019-10-18\n",
            "\n",
            "[32787 rows x 18 columns]\n",
            "       buisness_year        doc_id  ...  due_in_date  baseline_create_date\n",
            "8519          2019.0  1.930256e+09  ...   2019-12-24            2019-12-09\n",
            "23418         2019.0  1.930240e+09  ...   2019-12-24            2019-12-09\n",
            "11358         2019.0  1.930241e+09  ...   2019-12-24            2019-12-09\n",
            "30320         2019.0  1.930251e+09  ...   2019-12-24            2019-12-09\n",
            "39305         2019.0  1.930251e+09  ...   2019-12-24            2019-12-09\n",
            "...              ...           ...  ...          ...                   ...\n",
            "21350         2020.0  1.930563e+09  ...   2020-03-12            2020-02-26\n",
            "17040         2020.0  1.930571e+09  ...   2020-03-12            2020-02-26\n",
            "15006         2020.0  1.930543e+09  ...   2020-04-01            2020-02-26\n",
            "36465         2020.0  1.930571e+09  ...   2020-03-13            2020-02-27\n",
            "14138         2020.0  1.930547e+09  ...   2020-03-30            2020-02-27\n",
            "\n",
            "[6808 rows x 18 columns]\n",
            "       buisness_year        doc_id  ...  due_in_date  baseline_create_date\n",
            "8519          2019.0  1.930256e+09  ...   2019-12-24            2019-12-09\n",
            "23418         2019.0  1.930240e+09  ...   2019-12-24            2019-12-09\n",
            "11358         2019.0  1.930241e+09  ...   2019-12-24            2019-12-09\n",
            "30320         2019.0  1.930251e+09  ...   2019-12-24            2019-12-09\n",
            "39305         2019.0  1.930251e+09  ...   2019-12-24            2019-12-09\n",
            "...              ...           ...  ...          ...                   ...\n",
            "21350         2020.0  1.930563e+09  ...   2020-03-12            2020-02-26\n",
            "17040         2020.0  1.930571e+09  ...   2020-03-12            2020-02-26\n",
            "15006         2020.0  1.930543e+09  ...   2020-04-01            2020-02-26\n",
            "36465         2020.0  1.930571e+09  ...   2020-03-13            2020-02-27\n",
            "14138         2020.0  1.930547e+09  ...   2020-03-30            2020-02-27\n",
            "\n",
            "[6808 rows x 18 columns]\n"
          ],
          "name": "stdout"
        }
      ]
    },
    {
      "cell_type": "code",
      "metadata": {
        "id": "QHo87goH48WY"
      },
      "source": [
        "def target_column(data):\n",
        "    data['delay'] = data['clear_date'] - data['due_in_date']\n",
        "    data.delay =  data.delay.dt.days\n"
      ],
      "execution_count": null,
      "outputs": []
    },
    {
      "cell_type": "code",
      "metadata": {
        "id": "ObHY_Co05JCC"
      },
      "source": [
        "# Creating Target columns in test and validation set\n",
        "\n",
        "target_column(train)\n",
        "target_column(val1)\n",
        "target_column(val2)\n"
      ],
      "execution_count": null,
      "outputs": []
    },
    {
      "cell_type": "code",
      "metadata": {
        "colab": {
          "base_uri": "https://localhost:8080/",
          "height": 504
        },
        "id": "6bEGAaay6aPb",
        "outputId": "510f73b7-93f4-4d4a-bcaa-00c42dada937"
      },
      "source": [
        "train"
      ],
      "execution_count": null,
      "outputs": [
        {
          "output_type": "execute_result",
          "data": {
            "text/html": [
              "<div>\n",
              "<style scoped>\n",
              "    .dataframe tbody tr th:only-of-type {\n",
              "        vertical-align: middle;\n",
              "    }\n",
              "\n",
              "    .dataframe tbody tr th {\n",
              "        vertical-align: top;\n",
              "    }\n",
              "\n",
              "    .dataframe thead th {\n",
              "        text-align: right;\n",
              "    }\n",
              "</style>\n",
              "<table border=\"1\" class=\"dataframe\">\n",
              "  <thead>\n",
              "    <tr style=\"text-align: right;\">\n",
              "      <th></th>\n",
              "      <th>buisness_year</th>\n",
              "      <th>doc_id</th>\n",
              "      <th>posting_id</th>\n",
              "      <th>total_open_amount</th>\n",
              "      <th>invoice_id</th>\n",
              "      <th>isOpen</th>\n",
              "      <th>business_code</th>\n",
              "      <th>cust_number</th>\n",
              "      <th>name_customer</th>\n",
              "      <th>invoice_currency</th>\n",
              "      <th>document type</th>\n",
              "      <th>cust_payment_terms</th>\n",
              "      <th>clear_date</th>\n",
              "      <th>posting_date</th>\n",
              "      <th>document_create_date</th>\n",
              "      <th>document_create_date.1</th>\n",
              "      <th>due_in_date</th>\n",
              "      <th>baseline_create_date</th>\n",
              "      <th>delay</th>\n",
              "    </tr>\n",
              "  </thead>\n",
              "  <tbody>\n",
              "    <tr>\n",
              "      <th>27794</th>\n",
              "      <td>2019.0</td>\n",
              "      <td>1.928540e+09</td>\n",
              "      <td>1.0</td>\n",
              "      <td>222.74</td>\n",
              "      <td>1.928540e+09</td>\n",
              "      <td>0</td>\n",
              "      <td>U001</td>\n",
              "      <td>0200769623</td>\n",
              "      <td>WAL-MAR us</td>\n",
              "      <td>USD</td>\n",
              "      <td>RV</td>\n",
              "      <td>NAH4</td>\n",
              "      <td>2019-01-10</td>\n",
              "      <td>2018-12-30</td>\n",
              "      <td>2018-12-29</td>\n",
              "      <td>2018-12-30</td>\n",
              "      <td>2019-01-14</td>\n",
              "      <td>2018-12-30</td>\n",
              "      <td>-4</td>\n",
              "    </tr>\n",
              "    <tr>\n",
              "      <th>11418</th>\n",
              "      <td>2019.0</td>\n",
              "      <td>1.928508e+09</td>\n",
              "      <td>1.0</td>\n",
              "      <td>9398.57</td>\n",
              "      <td>1.928508e+09</td>\n",
              "      <td>0</td>\n",
              "      <td>U001</td>\n",
              "      <td>0100000217</td>\n",
              "      <td>MRS S associates</td>\n",
              "      <td>USD</td>\n",
              "      <td>RV</td>\n",
              "      <td>NAA8</td>\n",
              "      <td>2019-01-12</td>\n",
              "      <td>2018-12-30</td>\n",
              "      <td>2018-12-31</td>\n",
              "      <td>2018-12-30</td>\n",
              "      <td>2019-01-14</td>\n",
              "      <td>2018-12-30</td>\n",
              "      <td>-2</td>\n",
              "    </tr>\n",
              "    <tr>\n",
              "      <th>24215</th>\n",
              "      <td>2019.0</td>\n",
              "      <td>1.928545e+09</td>\n",
              "      <td>1.0</td>\n",
              "      <td>17707.30</td>\n",
              "      <td>1.928545e+09</td>\n",
              "      <td>0</td>\n",
              "      <td>U001</td>\n",
              "      <td>0200769623</td>\n",
              "      <td>WAL-MAR foundation</td>\n",
              "      <td>USD</td>\n",
              "      <td>RV</td>\n",
              "      <td>NAH4</td>\n",
              "      <td>2019-01-11</td>\n",
              "      <td>2018-12-30</td>\n",
              "      <td>2018-12-30</td>\n",
              "      <td>2018-12-30</td>\n",
              "      <td>2019-01-14</td>\n",
              "      <td>2018-12-30</td>\n",
              "      <td>-3</td>\n",
              "    </tr>\n",
              "    <tr>\n",
              "      <th>9514</th>\n",
              "      <td>2019.0</td>\n",
              "      <td>1.928542e+09</td>\n",
              "      <td>1.0</td>\n",
              "      <td>22221.15</td>\n",
              "      <td>1.928542e+09</td>\n",
              "      <td>0</td>\n",
              "      <td>U001</td>\n",
              "      <td>0200769623</td>\n",
              "      <td>WAL-MAR associates</td>\n",
              "      <td>USD</td>\n",
              "      <td>RV</td>\n",
              "      <td>NAH4</td>\n",
              "      <td>2019-01-10</td>\n",
              "      <td>2018-12-30</td>\n",
              "      <td>2018-12-29</td>\n",
              "      <td>2018-12-30</td>\n",
              "      <td>2019-01-14</td>\n",
              "      <td>2018-12-30</td>\n",
              "      <td>-4</td>\n",
              "    </tr>\n",
              "    <tr>\n",
              "      <th>45305</th>\n",
              "      <td>2019.0</td>\n",
              "      <td>1.928533e+09</td>\n",
              "      <td>1.0</td>\n",
              "      <td>35118.85</td>\n",
              "      <td>1.928533e+09</td>\n",
              "      <td>0</td>\n",
              "      <td>U001</td>\n",
              "      <td>0200418007</td>\n",
              "      <td>AM us</td>\n",
              "      <td>USD</td>\n",
              "      <td>RV</td>\n",
              "      <td>NAA8</td>\n",
              "      <td>2019-01-22</td>\n",
              "      <td>2018-12-30</td>\n",
              "      <td>2018-12-29</td>\n",
              "      <td>2018-12-30</td>\n",
              "      <td>2019-01-14</td>\n",
              "      <td>2018-12-30</td>\n",
              "      <td>8</td>\n",
              "    </tr>\n",
              "    <tr>\n",
              "      <th>...</th>\n",
              "      <td>...</td>\n",
              "      <td>...</td>\n",
              "      <td>...</td>\n",
              "      <td>...</td>\n",
              "      <td>...</td>\n",
              "      <td>...</td>\n",
              "      <td>...</td>\n",
              "      <td>...</td>\n",
              "      <td>...</td>\n",
              "      <td>...</td>\n",
              "      <td>...</td>\n",
              "      <td>...</td>\n",
              "      <td>...</td>\n",
              "      <td>...</td>\n",
              "      <td>...</td>\n",
              "      <td>...</td>\n",
              "      <td>...</td>\n",
              "      <td>...</td>\n",
              "      <td>...</td>\n",
              "    </tr>\n",
              "    <tr>\n",
              "      <th>35207</th>\n",
              "      <td>2019.0</td>\n",
              "      <td>1.930028e+09</td>\n",
              "      <td>1.0</td>\n",
              "      <td>6780.20</td>\n",
              "      <td>1.930028e+09</td>\n",
              "      <td>0</td>\n",
              "      <td>U001</td>\n",
              "      <td>0200780849</td>\n",
              "      <td>LAUREL</td>\n",
              "      <td>USD</td>\n",
              "      <td>RV</td>\n",
              "      <td>NAWU</td>\n",
              "      <td>2019-11-27</td>\n",
              "      <td>2019-10-18</td>\n",
              "      <td>2019-10-18</td>\n",
              "      <td>2019-10-18</td>\n",
              "      <td>2019-11-27</td>\n",
              "      <td>2019-10-18</td>\n",
              "      <td>0</td>\n",
              "    </tr>\n",
              "    <tr>\n",
              "      <th>13656</th>\n",
              "      <td>2019.0</td>\n",
              "      <td>1.930028e+09</td>\n",
              "      <td>1.0</td>\n",
              "      <td>18771.48</td>\n",
              "      <td>1.930028e+09</td>\n",
              "      <td>0</td>\n",
              "      <td>U001</td>\n",
              "      <td>0200762301</td>\n",
              "      <td>C&amp;S WH foundation</td>\n",
              "      <td>USD</td>\n",
              "      <td>RV</td>\n",
              "      <td>NAC6</td>\n",
              "      <td>2019-11-04</td>\n",
              "      <td>2019-10-18</td>\n",
              "      <td>2019-10-18</td>\n",
              "      <td>2019-10-18</td>\n",
              "      <td>2019-11-02</td>\n",
              "      <td>2019-10-18</td>\n",
              "      <td>2</td>\n",
              "    </tr>\n",
              "    <tr>\n",
              "      <th>22022</th>\n",
              "      <td>2019.0</td>\n",
              "      <td>1.930022e+09</td>\n",
              "      <td>1.0</td>\n",
              "      <td>2835.34</td>\n",
              "      <td>1.930022e+09</td>\n",
              "      <td>0</td>\n",
              "      <td>U001</td>\n",
              "      <td>0200353024</td>\n",
              "      <td>DECA</td>\n",
              "      <td>USD</td>\n",
              "      <td>RV</td>\n",
              "      <td>NAM4</td>\n",
              "      <td>2019-11-01</td>\n",
              "      <td>2019-10-18</td>\n",
              "      <td>2019-10-18</td>\n",
              "      <td>2019-10-18</td>\n",
              "      <td>2019-11-08</td>\n",
              "      <td>2019-10-16</td>\n",
              "      <td>-7</td>\n",
              "    </tr>\n",
              "    <tr>\n",
              "      <th>12675</th>\n",
              "      <td>2019.0</td>\n",
              "      <td>1.929996e+09</td>\n",
              "      <td>1.0</td>\n",
              "      <td>23095.93</td>\n",
              "      <td>1.929996e+09</td>\n",
              "      <td>0</td>\n",
              "      <td>U001</td>\n",
              "      <td>0200778870</td>\n",
              "      <td>C associates</td>\n",
              "      <td>USD</td>\n",
              "      <td>RV</td>\n",
              "      <td>NAA8</td>\n",
              "      <td>2019-11-22</td>\n",
              "      <td>2019-10-18</td>\n",
              "      <td>2019-10-10</td>\n",
              "      <td>2019-10-18</td>\n",
              "      <td>2019-11-02</td>\n",
              "      <td>2019-10-18</td>\n",
              "      <td>20</td>\n",
              "    </tr>\n",
              "    <tr>\n",
              "      <th>11019</th>\n",
              "      <td>2019.0</td>\n",
              "      <td>1.930031e+09</td>\n",
              "      <td>1.0</td>\n",
              "      <td>79665.02</td>\n",
              "      <td>1.930031e+09</td>\n",
              "      <td>0</td>\n",
              "      <td>U001</td>\n",
              "      <td>0200936373</td>\n",
              "      <td>SUPE corp</td>\n",
              "      <td>USD</td>\n",
              "      <td>RV</td>\n",
              "      <td>NAA8</td>\n",
              "      <td>2019-10-18</td>\n",
              "      <td>2019-10-18</td>\n",
              "      <td>2019-10-18</td>\n",
              "      <td>2019-10-18</td>\n",
              "      <td>2019-11-02</td>\n",
              "      <td>2019-10-18</td>\n",
              "      <td>-15</td>\n",
              "    </tr>\n",
              "  </tbody>\n",
              "</table>\n",
              "<p>32787 rows × 19 columns</p>\n",
              "</div>"
            ],
            "text/plain": [
              "       buisness_year        doc_id  ...  baseline_create_date  delay\n",
              "27794         2019.0  1.928540e+09  ...            2018-12-30     -4\n",
              "11418         2019.0  1.928508e+09  ...            2018-12-30     -2\n",
              "24215         2019.0  1.928545e+09  ...            2018-12-30     -3\n",
              "9514          2019.0  1.928542e+09  ...            2018-12-30     -4\n",
              "45305         2019.0  1.928533e+09  ...            2018-12-30      8\n",
              "...              ...           ...  ...                   ...    ...\n",
              "35207         2019.0  1.930028e+09  ...            2019-10-18      0\n",
              "13656         2019.0  1.930028e+09  ...            2019-10-18      2\n",
              "22022         2019.0  1.930022e+09  ...            2019-10-16     -7\n",
              "12675         2019.0  1.929996e+09  ...            2019-10-18     20\n",
              "11019         2019.0  1.930031e+09  ...            2019-10-18    -15\n",
              "\n",
              "[32787 rows x 19 columns]"
            ]
          },
          "metadata": {
            "tags": []
          },
          "execution_count": 1174
        }
      ]
    },
    {
      "cell_type": "code",
      "metadata": {
        "colab": {
          "base_uri": "https://localhost:8080/"
        },
        "id": "zqUj0vHEfOTN",
        "outputId": "c6906fbf-7060-44b9-df41-cf1727e94f06"
      },
      "source": [
        "# Checking of not null columns\n",
        "\n",
        "train.isnull().sum()"
      ],
      "execution_count": null,
      "outputs": [
        {
          "output_type": "execute_result",
          "data": {
            "text/plain": [
              "buisness_year             0\n",
              "doc_id                    0\n",
              "posting_id                0\n",
              "total_open_amount         0\n",
              "invoice_id                4\n",
              "isOpen                    0\n",
              "business_code             0\n",
              "cust_number               0\n",
              "name_customer             0\n",
              "invoice_currency          0\n",
              "document type             0\n",
              "cust_payment_terms        0\n",
              "clear_date                0\n",
              "posting_date              0\n",
              "document_create_date      0\n",
              "document_create_date.1    0\n",
              "due_in_date               0\n",
              "baseline_create_date      0\n",
              "delay                     0\n",
              "dtype: int64"
            ]
          },
          "metadata": {
            "tags": []
          },
          "execution_count": 1175
        }
      ]
    },
    {
      "cell_type": "code",
      "metadata": {
        "colab": {
          "base_uri": "https://localhost:8080/"
        },
        "id": "4y3cM2Tt9BVW",
        "outputId": "cfe262c2-bdaf-4ef8-f7ad-c6981366e45f"
      },
      "source": [
        "len(train)"
      ],
      "execution_count": null,
      "outputs": [
        {
          "output_type": "execute_result",
          "data": {
            "text/plain": [
              "32787"
            ]
          },
          "metadata": {
            "tags": []
          },
          "execution_count": 1176
        }
      ]
    },
    {
      "cell_type": "code",
      "metadata": {
        "id": "_jtNZzLI7A4J"
      },
      "source": [
        "# Dropping Invoice ID that has Null values\n",
        "\n",
        "train.dropna(axis=0, how='any', inplace = True)"
      ],
      "execution_count": null,
      "outputs": []
    },
    {
      "cell_type": "code",
      "metadata": {
        "colab": {
          "base_uri": "https://localhost:8080/"
        },
        "id": "KdFBx7-g855a",
        "outputId": "47ad61bf-5492-4b40-a860-3b846c188839"
      },
      "source": [
        "len(train)"
      ],
      "execution_count": null,
      "outputs": [
        {
          "output_type": "execute_result",
          "data": {
            "text/plain": [
              "32783"
            ]
          },
          "metadata": {
            "tags": []
          },
          "execution_count": 1178
        }
      ]
    },
    {
      "cell_type": "code",
      "metadata": {
        "colab": {
          "base_uri": "https://localhost:8080/",
          "height": 281
        },
        "id": "dAV5cVHNKh_i",
        "outputId": "f4b51fb4-30d5-47f3-9e91-94cc8f79d6dc"
      },
      "source": [
        "train.head(5)"
      ],
      "execution_count": null,
      "outputs": [
        {
          "output_type": "execute_result",
          "data": {
            "text/html": [
              "<div>\n",
              "<style scoped>\n",
              "    .dataframe tbody tr th:only-of-type {\n",
              "        vertical-align: middle;\n",
              "    }\n",
              "\n",
              "    .dataframe tbody tr th {\n",
              "        vertical-align: top;\n",
              "    }\n",
              "\n",
              "    .dataframe thead th {\n",
              "        text-align: right;\n",
              "    }\n",
              "</style>\n",
              "<table border=\"1\" class=\"dataframe\">\n",
              "  <thead>\n",
              "    <tr style=\"text-align: right;\">\n",
              "      <th></th>\n",
              "      <th>buisness_year</th>\n",
              "      <th>doc_id</th>\n",
              "      <th>posting_id</th>\n",
              "      <th>total_open_amount</th>\n",
              "      <th>invoice_id</th>\n",
              "      <th>isOpen</th>\n",
              "      <th>business_code</th>\n",
              "      <th>cust_number</th>\n",
              "      <th>name_customer</th>\n",
              "      <th>invoice_currency</th>\n",
              "      <th>document type</th>\n",
              "      <th>cust_payment_terms</th>\n",
              "      <th>clear_date</th>\n",
              "      <th>posting_date</th>\n",
              "      <th>document_create_date</th>\n",
              "      <th>document_create_date.1</th>\n",
              "      <th>due_in_date</th>\n",
              "      <th>baseline_create_date</th>\n",
              "      <th>delay</th>\n",
              "    </tr>\n",
              "  </thead>\n",
              "  <tbody>\n",
              "    <tr>\n",
              "      <th>27794</th>\n",
              "      <td>2019.0</td>\n",
              "      <td>1.928540e+09</td>\n",
              "      <td>1.0</td>\n",
              "      <td>222.74</td>\n",
              "      <td>1.928540e+09</td>\n",
              "      <td>0</td>\n",
              "      <td>U001</td>\n",
              "      <td>0200769623</td>\n",
              "      <td>WAL-MAR us</td>\n",
              "      <td>USD</td>\n",
              "      <td>RV</td>\n",
              "      <td>NAH4</td>\n",
              "      <td>2019-01-10</td>\n",
              "      <td>2018-12-30</td>\n",
              "      <td>2018-12-29</td>\n",
              "      <td>2018-12-30</td>\n",
              "      <td>2019-01-14</td>\n",
              "      <td>2018-12-30</td>\n",
              "      <td>-4</td>\n",
              "    </tr>\n",
              "    <tr>\n",
              "      <th>11418</th>\n",
              "      <td>2019.0</td>\n",
              "      <td>1.928508e+09</td>\n",
              "      <td>1.0</td>\n",
              "      <td>9398.57</td>\n",
              "      <td>1.928508e+09</td>\n",
              "      <td>0</td>\n",
              "      <td>U001</td>\n",
              "      <td>0100000217</td>\n",
              "      <td>MRS S associates</td>\n",
              "      <td>USD</td>\n",
              "      <td>RV</td>\n",
              "      <td>NAA8</td>\n",
              "      <td>2019-01-12</td>\n",
              "      <td>2018-12-30</td>\n",
              "      <td>2018-12-31</td>\n",
              "      <td>2018-12-30</td>\n",
              "      <td>2019-01-14</td>\n",
              "      <td>2018-12-30</td>\n",
              "      <td>-2</td>\n",
              "    </tr>\n",
              "    <tr>\n",
              "      <th>24215</th>\n",
              "      <td>2019.0</td>\n",
              "      <td>1.928545e+09</td>\n",
              "      <td>1.0</td>\n",
              "      <td>17707.30</td>\n",
              "      <td>1.928545e+09</td>\n",
              "      <td>0</td>\n",
              "      <td>U001</td>\n",
              "      <td>0200769623</td>\n",
              "      <td>WAL-MAR foundation</td>\n",
              "      <td>USD</td>\n",
              "      <td>RV</td>\n",
              "      <td>NAH4</td>\n",
              "      <td>2019-01-11</td>\n",
              "      <td>2018-12-30</td>\n",
              "      <td>2018-12-30</td>\n",
              "      <td>2018-12-30</td>\n",
              "      <td>2019-01-14</td>\n",
              "      <td>2018-12-30</td>\n",
              "      <td>-3</td>\n",
              "    </tr>\n",
              "    <tr>\n",
              "      <th>9514</th>\n",
              "      <td>2019.0</td>\n",
              "      <td>1.928542e+09</td>\n",
              "      <td>1.0</td>\n",
              "      <td>22221.15</td>\n",
              "      <td>1.928542e+09</td>\n",
              "      <td>0</td>\n",
              "      <td>U001</td>\n",
              "      <td>0200769623</td>\n",
              "      <td>WAL-MAR associates</td>\n",
              "      <td>USD</td>\n",
              "      <td>RV</td>\n",
              "      <td>NAH4</td>\n",
              "      <td>2019-01-10</td>\n",
              "      <td>2018-12-30</td>\n",
              "      <td>2018-12-29</td>\n",
              "      <td>2018-12-30</td>\n",
              "      <td>2019-01-14</td>\n",
              "      <td>2018-12-30</td>\n",
              "      <td>-4</td>\n",
              "    </tr>\n",
              "    <tr>\n",
              "      <th>45305</th>\n",
              "      <td>2019.0</td>\n",
              "      <td>1.928533e+09</td>\n",
              "      <td>1.0</td>\n",
              "      <td>35118.85</td>\n",
              "      <td>1.928533e+09</td>\n",
              "      <td>0</td>\n",
              "      <td>U001</td>\n",
              "      <td>0200418007</td>\n",
              "      <td>AM us</td>\n",
              "      <td>USD</td>\n",
              "      <td>RV</td>\n",
              "      <td>NAA8</td>\n",
              "      <td>2019-01-22</td>\n",
              "      <td>2018-12-30</td>\n",
              "      <td>2018-12-29</td>\n",
              "      <td>2018-12-30</td>\n",
              "      <td>2019-01-14</td>\n",
              "      <td>2018-12-30</td>\n",
              "      <td>8</td>\n",
              "    </tr>\n",
              "  </tbody>\n",
              "</table>\n",
              "</div>"
            ],
            "text/plain": [
              "       buisness_year        doc_id  ...  baseline_create_date  delay\n",
              "27794         2019.0  1.928540e+09  ...            2018-12-30     -4\n",
              "11418         2019.0  1.928508e+09  ...            2018-12-30     -2\n",
              "24215         2019.0  1.928545e+09  ...            2018-12-30     -3\n",
              "9514          2019.0  1.928542e+09  ...            2018-12-30     -4\n",
              "45305         2019.0  1.928533e+09  ...            2018-12-30      8\n",
              "\n",
              "[5 rows x 19 columns]"
            ]
          },
          "metadata": {
            "tags": []
          },
          "execution_count": 1179
        }
      ]
    },
    {
      "cell_type": "markdown",
      "metadata": {
        "id": "MuDaf9V_Gw_Q"
      },
      "source": [
        "EDA (Exploratory Data Analysis)\n",
        "\n",
        "---\n",
        "\n",
        "---\n",
        "\n",
        "\n",
        "\n"
      ]
    },
    {
      "cell_type": "code",
      "metadata": {
        "id": "Pe25uJjO-xwM"
      },
      "source": [
        "# comparing columns for Equality and Then Dropping it\n",
        "\n",
        "compare = np.where(train[\"document_create_date\"] == train[\"document_create_date.1\"], True, False)\n",
        "train[\"equal\"] = compare\n"
      ],
      "execution_count": null,
      "outputs": []
    },
    {
      "cell_type": "code",
      "metadata": {
        "colab": {
          "base_uri": "https://localhost:8080/"
        },
        "id": "0g3wwVDDBwiz",
        "outputId": "d478e57c-461d-4463-af15-1f0977c18415"
      },
      "source": [
        "# Counting the True and False Values\n",
        "\n",
        "train[\"equal\"].value_counts()"
      ],
      "execution_count": null,
      "outputs": [
        {
          "output_type": "execute_result",
          "data": {
            "text/plain": [
              "False    18974\n",
              "True     13809\n",
              "Name: equal, dtype: int64"
            ]
          },
          "metadata": {
            "tags": []
          },
          "execution_count": 1181
        }
      ]
    },
    {
      "cell_type": "code",
      "metadata": {
        "id": "2ChjYu-gKNYM"
      },
      "source": [
        "# Dropping Columns that are not needed\n",
        "\n",
        "train.drop(['equal'],inplace=True,axis=1)"
      ],
      "execution_count": null,
      "outputs": []
    },
    {
      "cell_type": "code",
      "metadata": {
        "colab": {
          "base_uri": "https://localhost:8080/"
        },
        "id": "juihRZCbJCCO",
        "outputId": "afd7fe46-7b9c-4882-cbd6-5b4d4eaf2217"
      },
      "source": [
        "train[\"buisness_year\"].value_counts()"
      ],
      "execution_count": null,
      "outputs": [
        {
          "output_type": "execute_result",
          "data": {
            "text/plain": [
              "2019.0    32783\n",
              "Name: buisness_year, dtype: int64"
            ]
          },
          "metadata": {
            "tags": []
          },
          "execution_count": 1183
        }
      ]
    },
    {
      "cell_type": "code",
      "metadata": {
        "colab": {
          "base_uri": "https://localhost:8080/"
        },
        "id": "PJ6XX2ITKtX6",
        "outputId": "8e85f776-cf69-45ea-a16e-7fc7f0b57246"
      },
      "source": [
        "train[\"doc_id\"].value_counts()\n",
        "# no inferenece can be drawn from it every document has a unique doc id"
      ],
      "execution_count": null,
      "outputs": [
        {
          "output_type": "execute_result",
          "data": {
            "text/plain": [
              "1.929488e+09    1\n",
              "1.928615e+09    1\n",
              "1.929938e+09    1\n",
              "1.928729e+09    1\n",
              "1.929613e+09    1\n",
              "               ..\n",
              "1.929670e+09    1\n",
              "1.929878e+09    1\n",
              "1.929320e+09    1\n",
              "1.928985e+09    1\n",
              "1.929360e+09    1\n",
              "Name: doc_id, Length: 32783, dtype: int64"
            ]
          },
          "metadata": {
            "tags": []
          },
          "execution_count": 1184
        }
      ]
    },
    {
      "cell_type": "code",
      "metadata": {
        "colab": {
          "base_uri": "https://localhost:8080/"
        },
        "id": "NlWVSrvQLRle",
        "outputId": "46d78d7a-e38f-4412-84c4-44c1ec0915bd"
      },
      "source": [
        "train[\"posting_id\"].value_counts()"
      ],
      "execution_count": null,
      "outputs": [
        {
          "output_type": "execute_result",
          "data": {
            "text/plain": [
              "1.0    32783\n",
              "Name: posting_id, dtype: int64"
            ]
          },
          "metadata": {
            "tags": []
          },
          "execution_count": 1185
        }
      ]
    },
    {
      "cell_type": "code",
      "metadata": {
        "colab": {
          "base_uri": "https://localhost:8080/"
        },
        "id": "gXemmf3vLst8",
        "outputId": "45700f10-47a1-4859-90f9-1f31804b9e8c"
      },
      "source": [
        "train[\"invoice_id\"].value_counts()"
      ],
      "execution_count": null,
      "outputs": [
        {
          "output_type": "execute_result",
          "data": {
            "text/plain": [
              "1.929488e+09    1\n",
              "1.928615e+09    1\n",
              "1.929938e+09    1\n",
              "1.928729e+09    1\n",
              "1.929613e+09    1\n",
              "               ..\n",
              "1.929670e+09    1\n",
              "1.929878e+09    1\n",
              "1.929320e+09    1\n",
              "1.928985e+09    1\n",
              "1.929360e+09    1\n",
              "Name: invoice_id, Length: 32783, dtype: int64"
            ]
          },
          "metadata": {
            "tags": []
          },
          "execution_count": 1186
        }
      ]
    },
    {
      "cell_type": "code",
      "metadata": {
        "colab": {
          "base_uri": "https://localhost:8080/"
        },
        "id": "hua57CDuMK_h",
        "outputId": "564890b2-fd47-4a84-9af1-afab6f2c6d75"
      },
      "source": [
        "train[\"business_code\"].value_counts()"
      ],
      "execution_count": null,
      "outputs": [
        {
          "output_type": "execute_result",
          "data": {
            "text/plain": [
              "U001    29571\n",
              "CA02     2609\n",
              "U013      482\n",
              "U002      110\n",
              "U005       10\n",
              "U007        1\n",
              "Name: business_code, dtype: int64"
            ]
          },
          "metadata": {
            "tags": []
          },
          "execution_count": 1187
        }
      ]
    },
    {
      "cell_type": "code",
      "metadata": {
        "colab": {
          "base_uri": "https://localhost:8080/"
        },
        "id": "fi2iTNrPNEoj",
        "outputId": "986e025e-05b8-4871-d41c-43c52341969e"
      },
      "source": [
        "val1[\"business_code\"].value_counts()"
      ],
      "execution_count": null,
      "outputs": [
        {
          "output_type": "execute_result",
          "data": {
            "text/plain": [
              "U001    6204\n",
              "CA02     493\n",
              "U013      86\n",
              "U002      21\n",
              "U005       4\n",
              "Name: business_code, dtype: int64"
            ]
          },
          "metadata": {
            "tags": []
          },
          "execution_count": 1188
        }
      ]
    },
    {
      "cell_type": "code",
      "metadata": {
        "colab": {
          "base_uri": "https://localhost:8080/"
        },
        "id": "5F4eEnrhMltI",
        "outputId": "95e26238-1e07-4f83-e4b5-493015459f55"
      },
      "source": [
        "train[\"cust_number\"].value_counts()"
      ],
      "execution_count": null,
      "outputs": [
        {
          "output_type": "execute_result",
          "data": {
            "text/plain": [
              "0200769623    6926\n",
              "0200726979    1144\n",
              "0200762301     926\n",
              "0200759878     818\n",
              "200769623      735\n",
              "              ... \n",
              "0100046476       1\n",
              "100010265        1\n",
              "200770567        1\n",
              "0200731119       1\n",
              "100012991        1\n",
              "Name: cust_number, Length: 1284, dtype: int64"
            ]
          },
          "metadata": {
            "tags": []
          },
          "execution_count": 1189
        }
      ]
    },
    {
      "cell_type": "code",
      "metadata": {
        "colab": {
          "base_uri": "https://localhost:8080/"
        },
        "id": "iJ04W1dWQffx",
        "outputId": "2ed37278-2e72-4cac-d028-8a56e54f697e"
      },
      "source": [
        "train[\"name_customer\"].value_counts()"
      ],
      "execution_count": null,
      "outputs": [
        {
          "output_type": "execute_result",
          "data": {
            "text/plain": [
              "WAL-MAR associates    760\n",
              "WAL-MAR trust         728\n",
              "WAL-MAR co            707\n",
              "WAL-MAR in            705\n",
              "WAL-MAR llc           690\n",
              "                     ... \n",
              "O associates            1\n",
              "POCON foundation        1\n",
              "TAJI trust              1\n",
              "U R M  in               1\n",
              "G &                     1\n",
              "Name: name_customer, Length: 3647, dtype: int64"
            ]
          },
          "metadata": {
            "tags": []
          },
          "execution_count": 1190
        }
      ]
    },
    {
      "cell_type": "code",
      "metadata": {
        "colab": {
          "base_uri": "https://localhost:8080/"
        },
        "id": "lMtLZLf9NldZ",
        "outputId": "e1bfe7eb-5731-4378-c9b7-32b8d0dc8b17"
      },
      "source": [
        "train[\"invoice_currency\"].value_counts()"
      ],
      "execution_count": null,
      "outputs": [
        {
          "output_type": "execute_result",
          "data": {
            "text/plain": [
              "USD    30173\n",
              "CAD     2610\n",
              "Name: invoice_currency, dtype: int64"
            ]
          },
          "metadata": {
            "tags": []
          },
          "execution_count": 1191
        }
      ]
    },
    {
      "cell_type": "code",
      "metadata": {
        "colab": {
          "base_uri": "https://localhost:8080/"
        },
        "id": "dzues9bxNxlr",
        "outputId": "9191572c-a9ee-4e84-8c57-c8935690b645"
      },
      "source": [
        "train[\"document type\"].value_counts()"
      ],
      "execution_count": null,
      "outputs": [
        {
          "output_type": "execute_result",
          "data": {
            "text/plain": [
              "RV    32783\n",
              "Name: document type, dtype: int64"
            ]
          },
          "metadata": {
            "tags": []
          },
          "execution_count": 1192
        }
      ]
    },
    {
      "cell_type": "code",
      "metadata": {
        "id": "kltmrUyJCeZe"
      },
      "source": [
        "# creating Fuction to drop colums that has duplicate values and are unnecessary\n",
        "def dropping(data):\n",
        "    data.drop(['document_create_date','buisness_year',\"doc_id\",\"posting_id\",\"invoice_id\",\"isOpen\",\"name_customer\",\"cust_number\",\"document type\"], axis  = 1, inplace = True)\n",
        "    data = data.drop_duplicates()"
      ],
      "execution_count": null,
      "outputs": []
    },
    {
      "cell_type": "code",
      "metadata": {
        "id": "9Mg2uMZnCqnG"
      },
      "source": [
        "dropping(train)\n",
        "dropping(val1)\n",
        "dropping(val2)\n",
        "dropping(test)"
      ],
      "execution_count": null,
      "outputs": []
    },
    {
      "cell_type": "code",
      "metadata": {
        "colab": {
          "base_uri": "https://localhost:8080/",
          "height": 194
        },
        "id": "93dTkc-xQ5NQ",
        "outputId": "2c24d23e-67ec-40c9-eee0-cd378120765c"
      },
      "source": [
        "train.head()"
      ],
      "execution_count": null,
      "outputs": [
        {
          "output_type": "execute_result",
          "data": {
            "text/html": [
              "<div>\n",
              "<style scoped>\n",
              "    .dataframe tbody tr th:only-of-type {\n",
              "        vertical-align: middle;\n",
              "    }\n",
              "\n",
              "    .dataframe tbody tr th {\n",
              "        vertical-align: top;\n",
              "    }\n",
              "\n",
              "    .dataframe thead th {\n",
              "        text-align: right;\n",
              "    }\n",
              "</style>\n",
              "<table border=\"1\" class=\"dataframe\">\n",
              "  <thead>\n",
              "    <tr style=\"text-align: right;\">\n",
              "      <th></th>\n",
              "      <th>total_open_amount</th>\n",
              "      <th>business_code</th>\n",
              "      <th>invoice_currency</th>\n",
              "      <th>cust_payment_terms</th>\n",
              "      <th>clear_date</th>\n",
              "      <th>posting_date</th>\n",
              "      <th>document_create_date.1</th>\n",
              "      <th>due_in_date</th>\n",
              "      <th>baseline_create_date</th>\n",
              "      <th>delay</th>\n",
              "    </tr>\n",
              "  </thead>\n",
              "  <tbody>\n",
              "    <tr>\n",
              "      <th>27794</th>\n",
              "      <td>222.74</td>\n",
              "      <td>U001</td>\n",
              "      <td>USD</td>\n",
              "      <td>NAH4</td>\n",
              "      <td>2019-01-10</td>\n",
              "      <td>2018-12-30</td>\n",
              "      <td>2018-12-30</td>\n",
              "      <td>2019-01-14</td>\n",
              "      <td>2018-12-30</td>\n",
              "      <td>-4</td>\n",
              "    </tr>\n",
              "    <tr>\n",
              "      <th>11418</th>\n",
              "      <td>9398.57</td>\n",
              "      <td>U001</td>\n",
              "      <td>USD</td>\n",
              "      <td>NAA8</td>\n",
              "      <td>2019-01-12</td>\n",
              "      <td>2018-12-30</td>\n",
              "      <td>2018-12-30</td>\n",
              "      <td>2019-01-14</td>\n",
              "      <td>2018-12-30</td>\n",
              "      <td>-2</td>\n",
              "    </tr>\n",
              "    <tr>\n",
              "      <th>24215</th>\n",
              "      <td>17707.30</td>\n",
              "      <td>U001</td>\n",
              "      <td>USD</td>\n",
              "      <td>NAH4</td>\n",
              "      <td>2019-01-11</td>\n",
              "      <td>2018-12-30</td>\n",
              "      <td>2018-12-30</td>\n",
              "      <td>2019-01-14</td>\n",
              "      <td>2018-12-30</td>\n",
              "      <td>-3</td>\n",
              "    </tr>\n",
              "    <tr>\n",
              "      <th>9514</th>\n",
              "      <td>22221.15</td>\n",
              "      <td>U001</td>\n",
              "      <td>USD</td>\n",
              "      <td>NAH4</td>\n",
              "      <td>2019-01-10</td>\n",
              "      <td>2018-12-30</td>\n",
              "      <td>2018-12-30</td>\n",
              "      <td>2019-01-14</td>\n",
              "      <td>2018-12-30</td>\n",
              "      <td>-4</td>\n",
              "    </tr>\n",
              "    <tr>\n",
              "      <th>45305</th>\n",
              "      <td>35118.85</td>\n",
              "      <td>U001</td>\n",
              "      <td>USD</td>\n",
              "      <td>NAA8</td>\n",
              "      <td>2019-01-22</td>\n",
              "      <td>2018-12-30</td>\n",
              "      <td>2018-12-30</td>\n",
              "      <td>2019-01-14</td>\n",
              "      <td>2018-12-30</td>\n",
              "      <td>8</td>\n",
              "    </tr>\n",
              "  </tbody>\n",
              "</table>\n",
              "</div>"
            ],
            "text/plain": [
              "       total_open_amount business_code  ... baseline_create_date delay\n",
              "27794             222.74          U001  ...           2018-12-30    -4\n",
              "11418            9398.57          U001  ...           2018-12-30    -2\n",
              "24215           17707.30          U001  ...           2018-12-30    -3\n",
              "9514            22221.15          U001  ...           2018-12-30    -4\n",
              "45305           35118.85          U001  ...           2018-12-30     8\n",
              "\n",
              "[5 rows x 10 columns]"
            ]
          },
          "metadata": {
            "tags": []
          },
          "execution_count": 1195
        }
      ]
    },
    {
      "cell_type": "code",
      "metadata": {
        "id": "RDaBwQDCdiPC"
      },
      "source": [
        "# plt.hist('train.delay', bins=None, range=None, density=None, weights=None, cumulative=False, bottom=None, histtype='bar', align='mid', orientation='vertical', rwidth=None, log=False, color=None, label=None, stacked=False, )"
      ],
      "execution_count": null,
      "outputs": []
    },
    {
      "cell_type": "code",
      "metadata": {
        "colab": {
          "base_uri": "https://localhost:8080/",
          "height": 387
        },
        "id": "z1HpuxU2U7VA",
        "outputId": "7c2a29c8-288c-4f8c-800a-5e24f643bcdc"
      },
      "source": [
        "# Plotting the Graph Between delay and total open amount\n",
        "\n",
        "sns.displot(data=train, x=\"delay\", y=\"total_open_amount\")"
      ],
      "execution_count": null,
      "outputs": [
        {
          "output_type": "execute_result",
          "data": {
            "text/plain": [
              "<seaborn.axisgrid.FacetGrid at 0x7f95d0276f28>"
            ]
          },
          "metadata": {
            "tags": []
          },
          "execution_count": 1197
        },
        {
          "output_type": "display_data",
          "data": {
            "image/png": "[encoded data removed]",
            "text/plain": [
              "<Figure size 360x360 with 1 Axes>"
            ]
          },
          "metadata": {
            "tags": [],
            "needs_background": "light"
          }
        }
      ]
    },
    {
      "cell_type": "code",
      "metadata": {
        "colab": {
          "base_uri": "https://localhost:8080/",
          "height": 297
        },
        "id": "Vu_GgBvqWhAk",
        "outputId": "28e1095a-f5ec-40a8-869d-393881561a75"
      },
      "source": [
        "# Plotting Box plot to Check for Outliers\n",
        "\n",
        "sns.boxplot(train.delay)"
      ],
      "execution_count": null,
      "outputs": [
        {
          "output_type": "execute_result",
          "data": {
            "text/plain": [
              "<matplotlib.axes._subplots.AxesSubplot at 0x7f95d01e85f8>"
            ]
          },
          "metadata": {
            "tags": []
          },
          "execution_count": 1198
        },
        {
          "output_type": "display_data",
          "data": {
            "image/png": "[encoded data removed]",
            "text/plain": [
              "<Figure size 432x288 with 1 Axes>"
            ]
          },
          "metadata": {
            "tags": [],
            "needs_background": "light"
          }
        }
      ]
    },
    {
      "cell_type": "code",
      "metadata": {
        "id": "sqn8KPhTXjuo"
      },
      "source": [
        "#removing outliers\n",
        "\n",
        "train.drop(train[train['delay'] >= 150].index, inplace=True )"
      ],
      "execution_count": null,
      "outputs": []
    },
    {
      "cell_type": "code",
      "metadata": {
        "id": "RcfDx_-CfxZH"
      },
      "source": [
        "# Deletion of Amonalous Columns\n",
        "\n",
        "train.drop(train[train['due_in_date'] < train['posting_date']].index, inplace=True )"
      ],
      "execution_count": null,
      "outputs": []
    },
    {
      "cell_type": "code",
      "metadata": {
        "id": "4nbTq51Wgv1S"
      },
      "source": [
        "# Converting the Currency so as to keep it in one Currency\n",
        "\n",
        "train['total_open_amount'] = np.where(train.invoice_currency == 'CAD', 0.78 * train['total_open_amount'],train['total_open_amount'])"
      ],
      "execution_count": null,
      "outputs": []
    },
    {
      "cell_type": "code",
      "metadata": {
        "colab": {
          "base_uri": "https://localhost:8080/",
          "height": 351
        },
        "id": "AVv7GTjo1H0p",
        "outputId": "1fbfa4ff-49a1-44bf-f9ad-aa8db4ec1368"
      },
      "source": [
        "# plotting dis plot to check the distribution of total open amount\n",
        "\n",
        "sns.displot(data=train, x=\"total_open_amount\", height = 50 , aspect = 5 )"
      ],
      "execution_count": null,
      "outputs": [
        {
          "output_type": "execute_result",
          "data": {
            "text/plain": [
              "<seaborn.axisgrid.FacetGrid at 0x7f95d01bda20>"
            ]
          },
          "metadata": {
            "tags": []
          },
          "execution_count": 1202
        },
        {
          "output_type": "display_data",
          "data": {
            "image/png": "[encoded data removed]",
            "text/plain": [
              "<Figure size 18000x3600 with 1 Axes>"
            ]
          },
          "metadata": {
            "tags": [],
            "needs_background": "light"
          }
        }
      ]
    },
    {
      "cell_type": "code",
      "metadata": {
        "colab": {
          "base_uri": "https://localhost:8080/"
        },
        "id": "pVy3F7rYhNFV",
        "outputId": "737279ba-2fad-4234-f966-a761b940190c"
      },
      "source": [
        "train[\"total_open_amount\"].value_counts()"
      ],
      "execution_count": null,
      "outputs": [
        {
          "output_type": "execute_result",
          "data": {
            "text/plain": [
              "1897.50     83\n",
              "1898.20     66\n",
              "471.56      58\n",
              "1328.25     46\n",
              "2373.96     45\n",
              "            ..\n",
              "17200.27     1\n",
              "9103.70      1\n",
              "57261.22     1\n",
              "66.24        1\n",
              "176.00       1\n",
              "Name: total_open_amount, Length: 29767, dtype: int64"
            ]
          },
          "metadata": {
            "tags": []
          },
          "execution_count": 1203
        }
      ]
    },
    {
      "cell_type": "code",
      "metadata": {
        "colab": {
          "base_uri": "https://localhost:8080/"
        },
        "id": "POxfOkjOgn9p",
        "outputId": "9b830f6a-cd55-4d15-c1f0-955474effac8"
      },
      "source": [
        "len(train)"
      ],
      "execution_count": null,
      "outputs": [
        {
          "output_type": "execute_result",
          "data": {
            "text/plain": [
              "32676"
            ]
          },
          "metadata": {
            "tags": []
          },
          "execution_count": 1204
        }
      ]
    },
    {
      "cell_type": "code",
      "metadata": {
        "id": "lrBv9HwPgmAK"
      },
      "source": [
        "# Removing the outliers where total open amount is less than 1000 USD\n",
        "\n",
        "train.drop(train[train['total_open_amount'] <= 1000].index, inplace=True )"
      ],
      "execution_count": null,
      "outputs": []
    },
    {
      "cell_type": "code",
      "metadata": {
        "colab": {
          "base_uri": "https://localhost:8080/"
        },
        "id": "wATOzwjYhlLW",
        "outputId": "5c29221f-7f00-4d71-92d8-ec8e357150ce"
      },
      "source": [
        "train[\"total_open_amount\"].value_counts()"
      ],
      "execution_count": null,
      "outputs": [
        {
          "output_type": "execute_result",
          "data": {
            "text/plain": [
              "1897.50      83\n",
              "1898.20      66\n",
              "1328.25      46\n",
              "2373.96      45\n",
              "6532.60      34\n",
              "             ..\n",
              "32741.85      1\n",
              "115698.24     1\n",
              "49181.10      1\n",
              "32979.42      1\n",
              "7530.89       1\n",
              "Name: total_open_amount, Length: 26741, dtype: int64"
            ]
          },
          "metadata": {
            "tags": []
          },
          "execution_count": 1206
        }
      ]
    },
    {
      "cell_type": "code",
      "metadata": {
        "colab": {
          "base_uri": "https://localhost:8080/"
        },
        "id": "yQKGvg22h5aU",
        "outputId": "b2473021-0706-4490-a8eb-e2e8bbc66b18"
      },
      "source": [
        "max = train[\"total_open_amount\"].max()\n",
        "print(max)"
      ],
      "execution_count": null,
      "outputs": [
        {
          "output_type": "stream",
          "text": [
            "735251.64\n"
          ],
          "name": "stdout"
        }
      ]
    },
    {
      "cell_type": "code",
      "metadata": {
        "colab": {
          "base_uri": "https://localhost:8080/"
        },
        "id": "8TT9Hdt3jHk-",
        "outputId": "52565ba7-4237-41e1-e39b-f4990d639300"
      },
      "source": [
        "min = train[\"total_open_amount\"].min()\n",
        "print(min)"
      ],
      "execution_count": null,
      "outputs": [
        {
          "output_type": "stream",
          "text": [
            "1000.84\n"
          ],
          "name": "stdout"
        }
      ]
    },
    {
      "cell_type": "code",
      "metadata": {
        "colab": {
          "base_uri": "https://localhost:8080/"
        },
        "id": "KHzoPlROgrUN",
        "outputId": "f080cad0-51db-475b-b543-2f61eed42c54"
      },
      "source": [
        "len(train)"
      ],
      "execution_count": null,
      "outputs": [
        {
          "output_type": "execute_result",
          "data": {
            "text/plain": [
              "28902"
            ]
          },
          "metadata": {
            "tags": []
          },
          "execution_count": 1209
        }
      ]
    },
    {
      "cell_type": "code",
      "metadata": {
        "colab": {
          "base_uri": "https://localhost:8080/",
          "height": 399
        },
        "id": "8WIOCZRwZRp8",
        "outputId": "f40bb251-fc99-4dfc-e456-f441871534b4"
      },
      "source": [
        "train"
      ],
      "execution_count": null,
      "outputs": [
        {
          "output_type": "execute_result",
          "data": {
            "text/html": [
              "<div>\n",
              "<style scoped>\n",
              "    .dataframe tbody tr th:only-of-type {\n",
              "        vertical-align: middle;\n",
              "    }\n",
              "\n",
              "    .dataframe tbody tr th {\n",
              "        vertical-align: top;\n",
              "    }\n",
              "\n",
              "    .dataframe thead th {\n",
              "        text-align: right;\n",
              "    }\n",
              "</style>\n",
              "<table border=\"1\" class=\"dataframe\">\n",
              "  <thead>\n",
              "    <tr style=\"text-align: right;\">\n",
              "      <th></th>\n",
              "      <th>total_open_amount</th>\n",
              "      <th>business_code</th>\n",
              "      <th>invoice_currency</th>\n",
              "      <th>cust_payment_terms</th>\n",
              "      <th>clear_date</th>\n",
              "      <th>posting_date</th>\n",
              "      <th>document_create_date.1</th>\n",
              "      <th>due_in_date</th>\n",
              "      <th>baseline_create_date</th>\n",
              "      <th>delay</th>\n",
              "    </tr>\n",
              "  </thead>\n",
              "  <tbody>\n",
              "    <tr>\n",
              "      <th>11418</th>\n",
              "      <td>9398.57</td>\n",
              "      <td>U001</td>\n",
              "      <td>USD</td>\n",
              "      <td>NAA8</td>\n",
              "      <td>2019-01-12</td>\n",
              "      <td>2018-12-30</td>\n",
              "      <td>2018-12-30</td>\n",
              "      <td>2019-01-14</td>\n",
              "      <td>2018-12-30</td>\n",
              "      <td>-2</td>\n",
              "    </tr>\n",
              "    <tr>\n",
              "      <th>24215</th>\n",
              "      <td>17707.30</td>\n",
              "      <td>U001</td>\n",
              "      <td>USD</td>\n",
              "      <td>NAH4</td>\n",
              "      <td>2019-01-11</td>\n",
              "      <td>2018-12-30</td>\n",
              "      <td>2018-12-30</td>\n",
              "      <td>2019-01-14</td>\n",
              "      <td>2018-12-30</td>\n",
              "      <td>-3</td>\n",
              "    </tr>\n",
              "    <tr>\n",
              "      <th>9514</th>\n",
              "      <td>22221.15</td>\n",
              "      <td>U001</td>\n",
              "      <td>USD</td>\n",
              "      <td>NAH4</td>\n",
              "      <td>2019-01-10</td>\n",
              "      <td>2018-12-30</td>\n",
              "      <td>2018-12-30</td>\n",
              "      <td>2019-01-14</td>\n",
              "      <td>2018-12-30</td>\n",
              "      <td>-4</td>\n",
              "    </tr>\n",
              "    <tr>\n",
              "      <th>45305</th>\n",
              "      <td>35118.85</td>\n",
              "      <td>U001</td>\n",
              "      <td>USD</td>\n",
              "      <td>NAA8</td>\n",
              "      <td>2019-01-22</td>\n",
              "      <td>2018-12-30</td>\n",
              "      <td>2018-12-30</td>\n",
              "      <td>2019-01-14</td>\n",
              "      <td>2018-12-30</td>\n",
              "      <td>8</td>\n",
              "    </tr>\n",
              "    <tr>\n",
              "      <th>22406</th>\n",
              "      <td>20417.83</td>\n",
              "      <td>U001</td>\n",
              "      <td>USD</td>\n",
              "      <td>NAH4</td>\n",
              "      <td>2019-01-09</td>\n",
              "      <td>2018-12-30</td>\n",
              "      <td>2018-12-30</td>\n",
              "      <td>2019-01-14</td>\n",
              "      <td>2018-12-30</td>\n",
              "      <td>-5</td>\n",
              "    </tr>\n",
              "    <tr>\n",
              "      <th>...</th>\n",
              "      <td>...</td>\n",
              "      <td>...</td>\n",
              "      <td>...</td>\n",
              "      <td>...</td>\n",
              "      <td>...</td>\n",
              "      <td>...</td>\n",
              "      <td>...</td>\n",
              "      <td>...</td>\n",
              "      <td>...</td>\n",
              "      <td>...</td>\n",
              "    </tr>\n",
              "    <tr>\n",
              "      <th>35207</th>\n",
              "      <td>6780.20</td>\n",
              "      <td>U001</td>\n",
              "      <td>USD</td>\n",
              "      <td>NAWU</td>\n",
              "      <td>2019-11-27</td>\n",
              "      <td>2019-10-18</td>\n",
              "      <td>2019-10-18</td>\n",
              "      <td>2019-11-27</td>\n",
              "      <td>2019-10-18</td>\n",
              "      <td>0</td>\n",
              "    </tr>\n",
              "    <tr>\n",
              "      <th>13656</th>\n",
              "      <td>18771.48</td>\n",
              "      <td>U001</td>\n",
              "      <td>USD</td>\n",
              "      <td>NAC6</td>\n",
              "      <td>2019-11-04</td>\n",
              "      <td>2019-10-18</td>\n",
              "      <td>2019-10-18</td>\n",
              "      <td>2019-11-02</td>\n",
              "      <td>2019-10-18</td>\n",
              "      <td>2</td>\n",
              "    </tr>\n",
              "    <tr>\n",
              "      <th>22022</th>\n",
              "      <td>2835.34</td>\n",
              "      <td>U001</td>\n",
              "      <td>USD</td>\n",
              "      <td>NAM4</td>\n",
              "      <td>2019-11-01</td>\n",
              "      <td>2019-10-18</td>\n",
              "      <td>2019-10-18</td>\n",
              "      <td>2019-11-08</td>\n",
              "      <td>2019-10-16</td>\n",
              "      <td>-7</td>\n",
              "    </tr>\n",
              "    <tr>\n",
              "      <th>12675</th>\n",
              "      <td>23095.93</td>\n",
              "      <td>U001</td>\n",
              "      <td>USD</td>\n",
              "      <td>NAA8</td>\n",
              "      <td>2019-11-22</td>\n",
              "      <td>2019-10-18</td>\n",
              "      <td>2019-10-18</td>\n",
              "      <td>2019-11-02</td>\n",
              "      <td>2019-10-18</td>\n",
              "      <td>20</td>\n",
              "    </tr>\n",
              "    <tr>\n",
              "      <th>11019</th>\n",
              "      <td>79665.02</td>\n",
              "      <td>U001</td>\n",
              "      <td>USD</td>\n",
              "      <td>NAA8</td>\n",
              "      <td>2019-10-18</td>\n",
              "      <td>2019-10-18</td>\n",
              "      <td>2019-10-18</td>\n",
              "      <td>2019-11-02</td>\n",
              "      <td>2019-10-18</td>\n",
              "      <td>-15</td>\n",
              "    </tr>\n",
              "  </tbody>\n",
              "</table>\n",
              "<p>28902 rows × 10 columns</p>\n",
              "</div>"
            ],
            "text/plain": [
              "       total_open_amount business_code  ... baseline_create_date delay\n",
              "11418            9398.57          U001  ...           2018-12-30    -2\n",
              "24215           17707.30          U001  ...           2018-12-30    -3\n",
              "9514            22221.15          U001  ...           2018-12-30    -4\n",
              "45305           35118.85          U001  ...           2018-12-30     8\n",
              "22406           20417.83          U001  ...           2018-12-30    -5\n",
              "...                  ...           ...  ...                  ...   ...\n",
              "35207            6780.20          U001  ...           2019-10-18     0\n",
              "13656           18771.48          U001  ...           2019-10-18     2\n",
              "22022            2835.34          U001  ...           2019-10-16    -7\n",
              "12675           23095.93          U001  ...           2019-10-18    20\n",
              "11019           79665.02          U001  ...           2019-10-18   -15\n",
              "\n",
              "[28902 rows x 10 columns]"
            ]
          },
          "metadata": {
            "tags": []
          },
          "execution_count": 1210
        }
      ]
    },
    {
      "cell_type": "markdown",
      "metadata": {
        "id": "qyhNJD5acfar"
      },
      "source": [
        "Feature Creation/Building\n",
        "\n",
        "---\n",
        "\n",
        "---\n",
        "\n",
        "\n",
        "\n"
      ]
    },
    {
      "cell_type": "code",
      "metadata": {
        "id": "EdMjic3icmsH"
      },
      "source": [
        "# Creating Features in train from due Date\n",
        "\n",
        "train['due_month'] = train.due_in_date.dt.month\n",
        "train['due_quarter'] = train.due_in_date.dt.quarter"
      ],
      "execution_count": null,
      "outputs": []
    },
    {
      "cell_type": "code",
      "metadata": {
        "colab": {
          "base_uri": "https://localhost:8080/"
        },
        "id": "da_cFv_jh6wL",
        "outputId": "5844c9a6-75a4-4566-b376-a04ad29d8f10"
      },
      "source": [
        "train[\"due_month\"].nunique()"
      ],
      "execution_count": null,
      "outputs": [
        {
          "output_type": "execute_result",
          "data": {
            "text/plain": [
              "12"
            ]
          },
          "metadata": {
            "tags": []
          },
          "execution_count": 1212
        }
      ]
    },
    {
      "cell_type": "code",
      "metadata": {
        "colab": {
          "base_uri": "https://localhost:8080/"
        },
        "id": "v1QTefDTiIpP",
        "outputId": "17a1df81-6767-498c-e2c1-2458c897cd03"
      },
      "source": [
        "train[\"due_quarter\"].nunique()"
      ],
      "execution_count": null,
      "outputs": [
        {
          "output_type": "execute_result",
          "data": {
            "text/plain": [
              "4"
            ]
          },
          "metadata": {
            "tags": []
          },
          "execution_count": 1213
        }
      ]
    },
    {
      "cell_type": "code",
      "metadata": {
        "colab": {
          "base_uri": "https://localhost:8080/",
          "height": 36
        },
        "id": "xtNrVWOcOfqk",
        "outputId": "b46e4fac-1f7a-474c-9f2f-5201be1dee3a"
      },
      "source": [
        "# Features Cannot be created with Target columns\n",
        "\n",
        "\"\"\"train['check'] = (train['due_in_date'] - train['document_create_date.1'])\n",
        "train.check =  train.check.dt.days\n",
        "train.head(5)\"\"\""
      ],
      "execution_count": null,
      "outputs": [
        {
          "output_type": "execute_result",
          "data": {
            "application/vnd.google.colaboratory.intrinsic+json": {
              "type": "string"
            },
            "text/plain": [
              "\"train['check'] = (train['due_in_date'] - train['document_create_date.1'])\\ntrain.check =  train.check.dt.days\\ntrain.head(5)\""
            ]
          },
          "metadata": {
            "tags": []
          },
          "execution_count": 1214
        }
      ]
    },
    {
      "cell_type": "code",
      "metadata": {
        "id": "n2ymRffcIx8h"
      },
      "source": [
        "# train[\"check\"].value_counts()\n"
      ],
      "execution_count": null,
      "outputs": []
    },
    {
      "cell_type": "code",
      "metadata": {
        "id": "VIW2-JBtc2Xx"
      },
      "source": [
        "# Creating a new Feature date salb\n",
        "\n",
        "train['date_slab'] = train['due_in_date'] - train['posting_date']\n",
        "train.date_slab = train.date_slab.dt.days "
      ],
      "execution_count": null,
      "outputs": []
    },
    {
      "cell_type": "code",
      "metadata": {
        "colab": {
          "base_uri": "https://localhost:8080/"
        },
        "id": "y-uVqOVqfXq-",
        "outputId": "187494e0-7306-43ee-a60b-fe9c0829349b"
      },
      "source": [
        "train[\"date_slab\"].value_counts()"
      ],
      "execution_count": null,
      "outputs": [
        {
          "output_type": "execute_result",
          "data": {
            "text/plain": [
              "15     21383\n",
              "10       766\n",
              "11       749\n",
              "20       687\n",
              "35       625\n",
              "32       512\n",
              "0        503\n",
              "65       480\n",
              "30       466\n",
              "18       289\n",
              "12       272\n",
              "45       260\n",
              "19       202\n",
              "17       192\n",
              "16       183\n",
              "60       165\n",
              "34       145\n",
              "14       125\n",
              "90       103\n",
              "40        91\n",
              "13        87\n",
              "5         66\n",
              "21        62\n",
              "3         60\n",
              "4         59\n",
              "31        56\n",
              "1         45\n",
              "75        43\n",
              "2         38\n",
              "7         32\n",
              "6         32\n",
              "8         29\n",
              "36        14\n",
              "28        12\n",
              "22        12\n",
              "56        10\n",
              "9          9\n",
              "37         6\n",
              "120        6\n",
              "25         6\n",
              "66         3\n",
              "27         3\n",
              "43         2\n",
              "33         2\n",
              "23         2\n",
              "29         2\n",
              "113        1\n",
              "41         1\n",
              "52         1\n",
              "112        1\n",
              "44         1\n",
              "38         1\n",
              "Name: date_slab, dtype: int64"
            ]
          },
          "metadata": {
            "tags": []
          },
          "execution_count": 1217
        }
      ]
    },
    {
      "cell_type": "code",
      "metadata": {
        "colab": {
          "base_uri": "https://localhost:8080/"
        },
        "id": "ojgXZ05-hSJD",
        "outputId": "5a25faa7-9c74-420e-c8ed-0c5df120e2f1"
      },
      "source": [
        "train[\"date_slab\"].nunique()"
      ],
      "execution_count": null,
      "outputs": [
        {
          "output_type": "execute_result",
          "data": {
            "text/plain": [
              "52"
            ]
          },
          "metadata": {
            "tags": []
          },
          "execution_count": 1218
        }
      ]
    },
    {
      "cell_type": "code",
      "metadata": {
        "colab": {
          "base_uri": "https://localhost:8080/"
        },
        "id": "2KM-tS6_NZdv",
        "outputId": "dfb68b36-0f49-464c-f88d-e357125483a2"
      },
      "source": [
        "train[\"delay\"].nunique()"
      ],
      "execution_count": null,
      "outputs": [
        {
          "output_type": "execute_result",
          "data": {
            "text/plain": [
              "157"
            ]
          },
          "metadata": {
            "tags": []
          },
          "execution_count": 1219
        }
      ]
    },
    {
      "cell_type": "code",
      "metadata": {
        "id": "gGd1poJIfqDH"
      },
      "source": [
        "# Binning total open amount to create Features\n",
        "\n",
        "bin_ranges=[1000,2000,4000,8000,16000,32000,64000,150000,300000,800000]\n",
        "bin_names=[1,2,3,4,5,6,7,8,9,]\n",
        "train['bin_total_open_amount'] = pd.cut( np.array(train['total_open_amount']),bins=bin_ranges)\n",
        "train['bin_total_open_amount'] = pd.cut( np.array(train['total_open_amount']),bins=bin_ranges, labels=bin_names)"
      ],
      "execution_count": null,
      "outputs": []
    },
    {
      "cell_type": "code",
      "metadata": {
        "colab": {
          "base_uri": "https://localhost:8080/"
        },
        "id": "JTst0ugbfRDB",
        "outputId": "a3306bcd-b35a-4c30-ffc1-9c2f00248d77"
      },
      "source": [
        "train['bin_total_open_amount'].value_counts()"
      ],
      "execution_count": null,
      "outputs": [
        {
          "output_type": "execute_result",
          "data": {
            "text/plain": [
              "6    6132\n",
              "5    5853\n",
              "4    5136\n",
              "7    4435\n",
              "3    2896\n",
              "2    2172\n",
              "1    1839\n",
              "8     428\n",
              "9      11\n",
              "Name: bin_total_open_amount, dtype: int64"
            ]
          },
          "metadata": {
            "tags": []
          },
          "execution_count": 1221
        }
      ]
    },
    {
      "cell_type": "code",
      "metadata": {
        "colab": {
          "base_uri": "https://localhost:8080/"
        },
        "id": "OZzPIajrsF2L",
        "outputId": "69947dc4-ac5e-4cb4-c9b6-65253cc29684"
      },
      "source": [
        "train['date_slab'].value_counts()"
      ],
      "execution_count": null,
      "outputs": [
        {
          "output_type": "execute_result",
          "data": {
            "text/plain": [
              "15     21383\n",
              "10       766\n",
              "11       749\n",
              "20       687\n",
              "35       625\n",
              "32       512\n",
              "0        503\n",
              "65       480\n",
              "30       466\n",
              "18       289\n",
              "12       272\n",
              "45       260\n",
              "19       202\n",
              "17       192\n",
              "16       183\n",
              "60       165\n",
              "34       145\n",
              "14       125\n",
              "90       103\n",
              "40        91\n",
              "13        87\n",
              "5         66\n",
              "21        62\n",
              "3         60\n",
              "4         59\n",
              "31        56\n",
              "1         45\n",
              "75        43\n",
              "2         38\n",
              "7         32\n",
              "6         32\n",
              "8         29\n",
              "36        14\n",
              "28        12\n",
              "22        12\n",
              "56        10\n",
              "9          9\n",
              "37         6\n",
              "120        6\n",
              "25         6\n",
              "66         3\n",
              "27         3\n",
              "43         2\n",
              "33         2\n",
              "23         2\n",
              "29         2\n",
              "113        1\n",
              "41         1\n",
              "52         1\n",
              "112        1\n",
              "44         1\n",
              "38         1\n",
              "Name: date_slab, dtype: int64"
            ]
          },
          "metadata": {
            "tags": []
          },
          "execution_count": 1222
        }
      ]
    },
    {
      "cell_type": "code",
      "metadata": {
        "id": "dJGHC4z2snnk"
      },
      "source": [
        "# Binning date Slab to create features\n",
        "\n",
        "bin_ranges=[0,10,20,30,40,50,60,70,120]\n",
        "bin_names=[1,2,3,4,5,6,7,8,]\n",
        "train['bin_date_slab'] = pd.cut( np.array(train['date_slab']),bins=bin_ranges)\n",
        "train['bin_date_slab'] = pd.cut( np.array(train['date_slab']),bins=bin_ranges, labels=bin_names)"
      ],
      "execution_count": null,
      "outputs": []
    },
    {
      "cell_type": "code",
      "metadata": {
        "colab": {
          "base_uri": "https://localhost:8080/"
        },
        "id": "fAHhPknPB8T1",
        "outputId": "71383ed5-6d28-49f4-fc7e-6236848a6217"
      },
      "source": [
        "train['bin_date_slab'].value_counts()"
      ],
      "execution_count": null,
      "outputs": [
        {
          "output_type": "execute_result",
          "data": {
            "text/plain": [
              "2    24169\n",
              "4     1452\n",
              "1     1136\n",
              "3      565\n",
              "7      483\n",
              "5      264\n",
              "6      176\n",
              "8      154\n",
              "Name: bin_date_slab, dtype: int64"
            ]
          },
          "metadata": {
            "tags": []
          },
          "execution_count": 1224
        }
      ]
    },
    {
      "cell_type": "code",
      "metadata": {
        "colab": {
          "base_uri": "https://localhost:8080/",
          "height": 419
        },
        "id": "jMDP9bhBDdG2",
        "outputId": "1feaa52f-a10e-48b9-efc2-371304a3b400"
      },
      "source": [
        "train"
      ],
      "execution_count": null,
      "outputs": [
        {
          "output_type": "execute_result",
          "data": {
            "text/html": [
              "<div>\n",
              "<style scoped>\n",
              "    .dataframe tbody tr th:only-of-type {\n",
              "        vertical-align: middle;\n",
              "    }\n",
              "\n",
              "    .dataframe tbody tr th {\n",
              "        vertical-align: top;\n",
              "    }\n",
              "\n",
              "    .dataframe thead th {\n",
              "        text-align: right;\n",
              "    }\n",
              "</style>\n",
              "<table border=\"1\" class=\"dataframe\">\n",
              "  <thead>\n",
              "    <tr style=\"text-align: right;\">\n",
              "      <th></th>\n",
              "      <th>total_open_amount</th>\n",
              "      <th>business_code</th>\n",
              "      <th>invoice_currency</th>\n",
              "      <th>cust_payment_terms</th>\n",
              "      <th>clear_date</th>\n",
              "      <th>posting_date</th>\n",
              "      <th>document_create_date.1</th>\n",
              "      <th>due_in_date</th>\n",
              "      <th>baseline_create_date</th>\n",
              "      <th>delay</th>\n",
              "      <th>due_month</th>\n",
              "      <th>due_quarter</th>\n",
              "      <th>date_slab</th>\n",
              "      <th>bin_total_open_amount</th>\n",
              "      <th>bin_date_slab</th>\n",
              "    </tr>\n",
              "  </thead>\n",
              "  <tbody>\n",
              "    <tr>\n",
              "      <th>11418</th>\n",
              "      <td>9398.57</td>\n",
              "      <td>U001</td>\n",
              "      <td>USD</td>\n",
              "      <td>NAA8</td>\n",
              "      <td>2019-01-12</td>\n",
              "      <td>2018-12-30</td>\n",
              "      <td>2018-12-30</td>\n",
              "      <td>2019-01-14</td>\n",
              "      <td>2018-12-30</td>\n",
              "      <td>-2</td>\n",
              "      <td>1</td>\n",
              "      <td>1</td>\n",
              "      <td>15</td>\n",
              "      <td>4</td>\n",
              "      <td>2</td>\n",
              "    </tr>\n",
              "    <tr>\n",
              "      <th>24215</th>\n",
              "      <td>17707.30</td>\n",
              "      <td>U001</td>\n",
              "      <td>USD</td>\n",
              "      <td>NAH4</td>\n",
              "      <td>2019-01-11</td>\n",
              "      <td>2018-12-30</td>\n",
              "      <td>2018-12-30</td>\n",
              "      <td>2019-01-14</td>\n",
              "      <td>2018-12-30</td>\n",
              "      <td>-3</td>\n",
              "      <td>1</td>\n",
              "      <td>1</td>\n",
              "      <td>15</td>\n",
              "      <td>5</td>\n",
              "      <td>2</td>\n",
              "    </tr>\n",
              "    <tr>\n",
              "      <th>9514</th>\n",
              "      <td>22221.15</td>\n",
              "      <td>U001</td>\n",
              "      <td>USD</td>\n",
              "      <td>NAH4</td>\n",
              "      <td>2019-01-10</td>\n",
              "      <td>2018-12-30</td>\n",
              "      <td>2018-12-30</td>\n",
              "      <td>2019-01-14</td>\n",
              "      <td>2018-12-30</td>\n",
              "      <td>-4</td>\n",
              "      <td>1</td>\n",
              "      <td>1</td>\n",
              "      <td>15</td>\n",
              "      <td>5</td>\n",
              "      <td>2</td>\n",
              "    </tr>\n",
              "    <tr>\n",
              "      <th>45305</th>\n",
              "      <td>35118.85</td>\n",
              "      <td>U001</td>\n",
              "      <td>USD</td>\n",
              "      <td>NAA8</td>\n",
              "      <td>2019-01-22</td>\n",
              "      <td>2018-12-30</td>\n",
              "      <td>2018-12-30</td>\n",
              "      <td>2019-01-14</td>\n",
              "      <td>2018-12-30</td>\n",
              "      <td>8</td>\n",
              "      <td>1</td>\n",
              "      <td>1</td>\n",
              "      <td>15</td>\n",
              "      <td>6</td>\n",
              "      <td>2</td>\n",
              "    </tr>\n",
              "    <tr>\n",
              "      <th>22406</th>\n",
              "      <td>20417.83</td>\n",
              "      <td>U001</td>\n",
              "      <td>USD</td>\n",
              "      <td>NAH4</td>\n",
              "      <td>2019-01-09</td>\n",
              "      <td>2018-12-30</td>\n",
              "      <td>2018-12-30</td>\n",
              "      <td>2019-01-14</td>\n",
              "      <td>2018-12-30</td>\n",
              "      <td>-5</td>\n",
              "      <td>1</td>\n",
              "      <td>1</td>\n",
              "      <td>15</td>\n",
              "      <td>5</td>\n",
              "      <td>2</td>\n",
              "    </tr>\n",
              "    <tr>\n",
              "      <th>...</th>\n",
              "      <td>...</td>\n",
              "      <td>...</td>\n",
              "      <td>...</td>\n",
              "      <td>...</td>\n",
              "      <td>...</td>\n",
              "      <td>...</td>\n",
              "      <td>...</td>\n",
              "      <td>...</td>\n",
              "      <td>...</td>\n",
              "      <td>...</td>\n",
              "      <td>...</td>\n",
              "      <td>...</td>\n",
              "      <td>...</td>\n",
              "      <td>...</td>\n",
              "      <td>...</td>\n",
              "    </tr>\n",
              "    <tr>\n",
              "      <th>35207</th>\n",
              "      <td>6780.20</td>\n",
              "      <td>U001</td>\n",
              "      <td>USD</td>\n",
              "      <td>NAWU</td>\n",
              "      <td>2019-11-27</td>\n",
              "      <td>2019-10-18</td>\n",
              "      <td>2019-10-18</td>\n",
              "      <td>2019-11-27</td>\n",
              "      <td>2019-10-18</td>\n",
              "      <td>0</td>\n",
              "      <td>11</td>\n",
              "      <td>4</td>\n",
              "      <td>40</td>\n",
              "      <td>3</td>\n",
              "      <td>4</td>\n",
              "    </tr>\n",
              "    <tr>\n",
              "      <th>13656</th>\n",
              "      <td>18771.48</td>\n",
              "      <td>U001</td>\n",
              "      <td>USD</td>\n",
              "      <td>NAC6</td>\n",
              "      <td>2019-11-04</td>\n",
              "      <td>2019-10-18</td>\n",
              "      <td>2019-10-18</td>\n",
              "      <td>2019-11-02</td>\n",
              "      <td>2019-10-18</td>\n",
              "      <td>2</td>\n",
              "      <td>11</td>\n",
              "      <td>4</td>\n",
              "      <td>15</td>\n",
              "      <td>5</td>\n",
              "      <td>2</td>\n",
              "    </tr>\n",
              "    <tr>\n",
              "      <th>22022</th>\n",
              "      <td>2835.34</td>\n",
              "      <td>U001</td>\n",
              "      <td>USD</td>\n",
              "      <td>NAM4</td>\n",
              "      <td>2019-11-01</td>\n",
              "      <td>2019-10-18</td>\n",
              "      <td>2019-10-18</td>\n",
              "      <td>2019-11-08</td>\n",
              "      <td>2019-10-16</td>\n",
              "      <td>-7</td>\n",
              "      <td>11</td>\n",
              "      <td>4</td>\n",
              "      <td>21</td>\n",
              "      <td>2</td>\n",
              "      <td>3</td>\n",
              "    </tr>\n",
              "    <tr>\n",
              "      <th>12675</th>\n",
              "      <td>23095.93</td>\n",
              "      <td>U001</td>\n",
              "      <td>USD</td>\n",
              "      <td>NAA8</td>\n",
              "      <td>2019-11-22</td>\n",
              "      <td>2019-10-18</td>\n",
              "      <td>2019-10-18</td>\n",
              "      <td>2019-11-02</td>\n",
              "      <td>2019-10-18</td>\n",
              "      <td>20</td>\n",
              "      <td>11</td>\n",
              "      <td>4</td>\n",
              "      <td>15</td>\n",
              "      <td>5</td>\n",
              "      <td>2</td>\n",
              "    </tr>\n",
              "    <tr>\n",
              "      <th>11019</th>\n",
              "      <td>79665.02</td>\n",
              "      <td>U001</td>\n",
              "      <td>USD</td>\n",
              "      <td>NAA8</td>\n",
              "      <td>2019-10-18</td>\n",
              "      <td>2019-10-18</td>\n",
              "      <td>2019-10-18</td>\n",
              "      <td>2019-11-02</td>\n",
              "      <td>2019-10-18</td>\n",
              "      <td>-15</td>\n",
              "      <td>11</td>\n",
              "      <td>4</td>\n",
              "      <td>15</td>\n",
              "      <td>7</td>\n",
              "      <td>2</td>\n",
              "    </tr>\n",
              "  </tbody>\n",
              "</table>\n",
              "<p>28902 rows × 15 columns</p>\n",
              "</div>"
            ],
            "text/plain": [
              "       total_open_amount business_code  ... bin_total_open_amount bin_date_slab\n",
              "11418            9398.57          U001  ...                     4             2\n",
              "24215           17707.30          U001  ...                     5             2\n",
              "9514            22221.15          U001  ...                     5             2\n",
              "45305           35118.85          U001  ...                     6             2\n",
              "22406           20417.83          U001  ...                     5             2\n",
              "...                  ...           ...  ...                   ...           ...\n",
              "35207            6780.20          U001  ...                     3             4\n",
              "13656           18771.48          U001  ...                     5             2\n",
              "22022            2835.34          U001  ...                     2             3\n",
              "12675           23095.93          U001  ...                     5             2\n",
              "11019           79665.02          U001  ...                     7             2\n",
              "\n",
              "[28902 rows x 15 columns]"
            ]
          },
          "metadata": {
            "tags": []
          },
          "execution_count": 1225
        }
      ]
    },
    {
      "cell_type": "markdown",
      "metadata": {
        "id": "VBvIp0VuttEx"
      },
      "source": [
        "Encoding the non numeric columns\n",
        "\n",
        "---\n",
        "\n"
      ]
    },
    {
      "cell_type": "code",
      "metadata": {
        "colab": {
          "base_uri": "https://localhost:8080/"
        },
        "id": "Dq3WJHDbzUJF",
        "outputId": "fd3e3986-6089-4dbc-f177-f78aa35ec478"
      },
      "source": [
        "train.info()"
      ],
      "execution_count": null,
      "outputs": [
        {
          "output_type": "stream",
          "text": [
            "<class 'pandas.core.frame.DataFrame'>\n",
            "Int64Index: 28902 entries, 11418 to 11019\n",
            "Data columns (total 15 columns):\n",
            " #   Column                  Non-Null Count  Dtype         \n",
            "---  ------                  --------------  -----         \n",
            " 0   total_open_amount       28902 non-null  float64       \n",
            " 1   business_code           28902 non-null  object        \n",
            " 2   invoice_currency        28902 non-null  object        \n",
            " 3   cust_payment_terms      28902 non-null  object        \n",
            " 4   clear_date              28902 non-null  datetime64[ns]\n",
            " 5   posting_date            28902 non-null  datetime64[ns]\n",
            " 6   document_create_date.1  28902 non-null  datetime64[ns]\n",
            " 7   due_in_date             28902 non-null  datetime64[ns]\n",
            " 8   baseline_create_date    28902 non-null  datetime64[ns]\n",
            " 9   delay                   28902 non-null  int64         \n",
            " 10  due_month               28902 non-null  int64         \n",
            " 11  due_quarter             28902 non-null  int64         \n",
            " 12  date_slab               28902 non-null  int64         \n",
            " 13  bin_total_open_amount   28902 non-null  category      \n",
            " 14  bin_date_slab           28399 non-null  category      \n",
            "dtypes: category(2), datetime64[ns](5), float64(1), int64(4), object(3)\n",
            "memory usage: 3.1+ MB\n"
          ],
          "name": "stdout"
        }
      ]
    },
    {
      "cell_type": "code",
      "metadata": {
        "id": "c8szA3ZTzjZN"
      },
      "source": [
        "# Converting object type to Category type \n",
        "\n",
        "train['business_code'] = train.business_code.astype('category')\n",
        "train['invoice_currency'] = train.invoice_currency.astype('category')\n",
        "train['cust_payment_terms'] = train.cust_payment_terms.astype('category')"
      ],
      "execution_count": null,
      "outputs": []
    },
    {
      "cell_type": "code",
      "metadata": {
        "id": "dDsZBvBszjcX"
      },
      "source": [
        "# Encoding category to integer\n",
        "\n",
        "train.business_code = train.business_code.cat.codes\n",
        "train.invoice_currency = train.invoice_currency.cat.codes\n",
        "train.cust_payment_terms = train.cust_payment_terms.cat.codes"
      ],
      "execution_count": null,
      "outputs": []
    },
    {
      "cell_type": "code",
      "metadata": {
        "colab": {
          "base_uri": "https://localhost:8080/"
        },
        "id": "vUNgEJaLFNB9",
        "outputId": "4b0607d3-6b3f-4b91-daa4-84563a9d0670"
      },
      "source": [
        "train['cust_payment_terms'].value_counts()"
      ],
      "execution_count": null,
      "outputs": [
        {
          "output_type": "execute_result",
          "data": {
            "text/plain": [
              "19    11424\n",
              "32     7502\n",
              "6      2392\n",
              "24     1032\n",
              "21      809\n",
              "      ...  \n",
              "55        1\n",
              "41        1\n",
              "29        1\n",
              "46        1\n",
              "0         1\n",
              "Name: cust_payment_terms, Length: 61, dtype: int64"
            ]
          },
          "metadata": {
            "tags": []
          },
          "execution_count": 1229
        }
      ]
    },
    {
      "cell_type": "code",
      "metadata": {
        "colab": {
          "base_uri": "https://localhost:8080/"
        },
        "id": "IscC2fphFgj0",
        "outputId": "a820ba88-e870-4d17-d43a-07a944895b1e"
      },
      "source": [
        "max = train[\"cust_payment_terms\"].max()\n",
        "print(max)"
      ],
      "execution_count": null,
      "outputs": [
        {
          "output_type": "stream",
          "text": [
            "60\n"
          ],
          "name": "stdout"
        }
      ]
    },
    {
      "cell_type": "code",
      "metadata": {
        "colab": {
          "base_uri": "https://localhost:8080/"
        },
        "id": "9RVllh1NFgmK",
        "outputId": "d9370088-7a40-41c9-f021-af343d20f2c8"
      },
      "source": [
        "min = train[\"cust_payment_terms\"].min()\n",
        "print(min)"
      ],
      "execution_count": null,
      "outputs": [
        {
          "output_type": "stream",
          "text": [
            "0\n"
          ],
          "name": "stdout"
        }
      ]
    },
    {
      "cell_type": "code",
      "metadata": {
        "id": "D2Z0_4KkFgx8"
      },
      "source": [
        "# binning costomer payment terms to enhance usability \n",
        "\n",
        "bin_ranges=[0,10,20,30,40,50,60,70,80,120]\n",
        "bin_names=[1,2,3,4,5,6,7,8,9,]\n",
        "train['bin_cust_payment_terms'] = pd.cut( np.array(train['cust_payment_terms']),bins=bin_ranges)\n",
        "train['bin_cust_payment_terms'] = pd.cut( np.array(train['cust_payment_terms']),bins=bin_ranges, labels=bin_names)"
      ],
      "execution_count": null,
      "outputs": []
    },
    {
      "cell_type": "code",
      "metadata": {
        "id": "bc78ycp-3nD0"
      },
      "source": [
        "#train['bin_total_open_amount'] = train.bin_total_open_amount.astype(int)\n",
        "#train['bin_date_slab'] = train.cust_payment_terms.astype(int)"
      ],
      "execution_count": null,
      "outputs": []
    },
    {
      "cell_type": "code",
      "metadata": {
        "colab": {
          "base_uri": "https://localhost:8080/",
          "height": 214
        },
        "id": "Jk5JEHvdrXJr",
        "outputId": "e86174b6-7416-4956-a36e-0c85e66a8a59"
      },
      "source": [
        "train.head()"
      ],
      "execution_count": null,
      "outputs": [
        {
          "output_type": "execute_result",
          "data": {
            "text/html": [
              "<div>\n",
              "<style scoped>\n",
              "    .dataframe tbody tr th:only-of-type {\n",
              "        vertical-align: middle;\n",
              "    }\n",
              "\n",
              "    .dataframe tbody tr th {\n",
              "        vertical-align: top;\n",
              "    }\n",
              "\n",
              "    .dataframe thead th {\n",
              "        text-align: right;\n",
              "    }\n",
              "</style>\n",
              "<table border=\"1\" class=\"dataframe\">\n",
              "  <thead>\n",
              "    <tr style=\"text-align: right;\">\n",
              "      <th></th>\n",
              "      <th>total_open_amount</th>\n",
              "      <th>business_code</th>\n",
              "      <th>invoice_currency</th>\n",
              "      <th>cust_payment_terms</th>\n",
              "      <th>clear_date</th>\n",
              "      <th>posting_date</th>\n",
              "      <th>document_create_date.1</th>\n",
              "      <th>due_in_date</th>\n",
              "      <th>baseline_create_date</th>\n",
              "      <th>delay</th>\n",
              "      <th>due_month</th>\n",
              "      <th>due_quarter</th>\n",
              "      <th>date_slab</th>\n",
              "      <th>bin_total_open_amount</th>\n",
              "      <th>bin_date_slab</th>\n",
              "      <th>bin_cust_payment_terms</th>\n",
              "    </tr>\n",
              "  </thead>\n",
              "  <tbody>\n",
              "    <tr>\n",
              "      <th>11418</th>\n",
              "      <td>9398.57</td>\n",
              "      <td>1</td>\n",
              "      <td>1</td>\n",
              "      <td>19</td>\n",
              "      <td>2019-01-12</td>\n",
              "      <td>2018-12-30</td>\n",
              "      <td>2018-12-30</td>\n",
              "      <td>2019-01-14</td>\n",
              "      <td>2018-12-30</td>\n",
              "      <td>-2</td>\n",
              "      <td>1</td>\n",
              "      <td>1</td>\n",
              "      <td>15</td>\n",
              "      <td>4</td>\n",
              "      <td>2</td>\n",
              "      <td>2</td>\n",
              "    </tr>\n",
              "    <tr>\n",
              "      <th>24215</th>\n",
              "      <td>17707.30</td>\n",
              "      <td>1</td>\n",
              "      <td>1</td>\n",
              "      <td>32</td>\n",
              "      <td>2019-01-11</td>\n",
              "      <td>2018-12-30</td>\n",
              "      <td>2018-12-30</td>\n",
              "      <td>2019-01-14</td>\n",
              "      <td>2018-12-30</td>\n",
              "      <td>-3</td>\n",
              "      <td>1</td>\n",
              "      <td>1</td>\n",
              "      <td>15</td>\n",
              "      <td>5</td>\n",
              "      <td>2</td>\n",
              "      <td>4</td>\n",
              "    </tr>\n",
              "    <tr>\n",
              "      <th>9514</th>\n",
              "      <td>22221.15</td>\n",
              "      <td>1</td>\n",
              "      <td>1</td>\n",
              "      <td>32</td>\n",
              "      <td>2019-01-10</td>\n",
              "      <td>2018-12-30</td>\n",
              "      <td>2018-12-30</td>\n",
              "      <td>2019-01-14</td>\n",
              "      <td>2018-12-30</td>\n",
              "      <td>-4</td>\n",
              "      <td>1</td>\n",
              "      <td>1</td>\n",
              "      <td>15</td>\n",
              "      <td>5</td>\n",
              "      <td>2</td>\n",
              "      <td>4</td>\n",
              "    </tr>\n",
              "    <tr>\n",
              "      <th>45305</th>\n",
              "      <td>35118.85</td>\n",
              "      <td>1</td>\n",
              "      <td>1</td>\n",
              "      <td>19</td>\n",
              "      <td>2019-01-22</td>\n",
              "      <td>2018-12-30</td>\n",
              "      <td>2018-12-30</td>\n",
              "      <td>2019-01-14</td>\n",
              "      <td>2018-12-30</td>\n",
              "      <td>8</td>\n",
              "      <td>1</td>\n",
              "      <td>1</td>\n",
              "      <td>15</td>\n",
              "      <td>6</td>\n",
              "      <td>2</td>\n",
              "      <td>2</td>\n",
              "    </tr>\n",
              "    <tr>\n",
              "      <th>22406</th>\n",
              "      <td>20417.83</td>\n",
              "      <td>1</td>\n",
              "      <td>1</td>\n",
              "      <td>32</td>\n",
              "      <td>2019-01-09</td>\n",
              "      <td>2018-12-30</td>\n",
              "      <td>2018-12-30</td>\n",
              "      <td>2019-01-14</td>\n",
              "      <td>2018-12-30</td>\n",
              "      <td>-5</td>\n",
              "      <td>1</td>\n",
              "      <td>1</td>\n",
              "      <td>15</td>\n",
              "      <td>5</td>\n",
              "      <td>2</td>\n",
              "      <td>4</td>\n",
              "    </tr>\n",
              "  </tbody>\n",
              "</table>\n",
              "</div>"
            ],
            "text/plain": [
              "       total_open_amount  business_code  ...  bin_date_slab  bin_cust_payment_terms\n",
              "11418            9398.57              1  ...              2                       2\n",
              "24215           17707.30              1  ...              2                       4\n",
              "9514            22221.15              1  ...              2                       4\n",
              "45305           35118.85              1  ...              2                       2\n",
              "22406           20417.83              1  ...              2                       4\n",
              "\n",
              "[5 rows x 16 columns]"
            ]
          },
          "metadata": {
            "tags": []
          },
          "execution_count": 1234
        }
      ]
    },
    {
      "cell_type": "code",
      "metadata": {
        "id": "36nS9A5W2D7o"
      },
      "source": [
        "# Dropping date time columns\n",
        "\n",
        "train.drop(['clear_date','posting_date',\"document_create_date.1\",\"due_in_date\",\"baseline_create_date\"], axis  = 1, inplace = True)"
      ],
      "execution_count": null,
      "outputs": []
    },
    {
      "cell_type": "code",
      "metadata": {
        "colab": {
          "base_uri": "https://localhost:8080/"
        },
        "id": "MRsj7ljC4EyK",
        "outputId": "d31b3ec2-abb4-48d4-b712-2edb66347e2e"
      },
      "source": [
        "train.info()"
      ],
      "execution_count": null,
      "outputs": [
        {
          "output_type": "stream",
          "text": [
            "<class 'pandas.core.frame.DataFrame'>\n",
            "Int64Index: 28902 entries, 11418 to 11019\n",
            "Data columns (total 11 columns):\n",
            " #   Column                  Non-Null Count  Dtype   \n",
            "---  ------                  --------------  -----   \n",
            " 0   total_open_amount       28902 non-null  float64 \n",
            " 1   business_code           28902 non-null  int8    \n",
            " 2   invoice_currency        28902 non-null  int8    \n",
            " 3   cust_payment_terms      28902 non-null  int8    \n",
            " 4   delay                   28902 non-null  int64   \n",
            " 5   due_month               28902 non-null  int64   \n",
            " 6   due_quarter             28902 non-null  int64   \n",
            " 7   date_slab               28902 non-null  int64   \n",
            " 8   bin_total_open_amount   28902 non-null  category\n",
            " 9   bin_date_slab           28399 non-null  category\n",
            " 10  bin_cust_payment_terms  28901 non-null  category\n",
            "dtypes: category(3), float64(1), int64(4), int8(3)\n",
            "memory usage: 1.5 MB\n"
          ],
          "name": "stdout"
        }
      ]
    },
    {
      "cell_type": "code",
      "metadata": {
        "colab": {
          "base_uri": "https://localhost:8080/",
          "height": 194
        },
        "id": "Q5uVHMkA2i51",
        "outputId": "b611a05d-d401-4830-8f6e-5557f38c0417"
      },
      "source": [
        "train.head()"
      ],
      "execution_count": null,
      "outputs": [
        {
          "output_type": "execute_result",
          "data": {
            "text/html": [
              "<div>\n",
              "<style scoped>\n",
              "    .dataframe tbody tr th:only-of-type {\n",
              "        vertical-align: middle;\n",
              "    }\n",
              "\n",
              "    .dataframe tbody tr th {\n",
              "        vertical-align: top;\n",
              "    }\n",
              "\n",
              "    .dataframe thead th {\n",
              "        text-align: right;\n",
              "    }\n",
              "</style>\n",
              "<table border=\"1\" class=\"dataframe\">\n",
              "  <thead>\n",
              "    <tr style=\"text-align: right;\">\n",
              "      <th></th>\n",
              "      <th>total_open_amount</th>\n",
              "      <th>business_code</th>\n",
              "      <th>invoice_currency</th>\n",
              "      <th>cust_payment_terms</th>\n",
              "      <th>delay</th>\n",
              "      <th>due_month</th>\n",
              "      <th>due_quarter</th>\n",
              "      <th>date_slab</th>\n",
              "      <th>bin_total_open_amount</th>\n",
              "      <th>bin_date_slab</th>\n",
              "      <th>bin_cust_payment_terms</th>\n",
              "    </tr>\n",
              "  </thead>\n",
              "  <tbody>\n",
              "    <tr>\n",
              "      <th>11418</th>\n",
              "      <td>9398.57</td>\n",
              "      <td>1</td>\n",
              "      <td>1</td>\n",
              "      <td>19</td>\n",
              "      <td>-2</td>\n",
              "      <td>1</td>\n",
              "      <td>1</td>\n",
              "      <td>15</td>\n",
              "      <td>4</td>\n",
              "      <td>2</td>\n",
              "      <td>2</td>\n",
              "    </tr>\n",
              "    <tr>\n",
              "      <th>24215</th>\n",
              "      <td>17707.30</td>\n",
              "      <td>1</td>\n",
              "      <td>1</td>\n",
              "      <td>32</td>\n",
              "      <td>-3</td>\n",
              "      <td>1</td>\n",
              "      <td>1</td>\n",
              "      <td>15</td>\n",
              "      <td>5</td>\n",
              "      <td>2</td>\n",
              "      <td>4</td>\n",
              "    </tr>\n",
              "    <tr>\n",
              "      <th>9514</th>\n",
              "      <td>22221.15</td>\n",
              "      <td>1</td>\n",
              "      <td>1</td>\n",
              "      <td>32</td>\n",
              "      <td>-4</td>\n",
              "      <td>1</td>\n",
              "      <td>1</td>\n",
              "      <td>15</td>\n",
              "      <td>5</td>\n",
              "      <td>2</td>\n",
              "      <td>4</td>\n",
              "    </tr>\n",
              "    <tr>\n",
              "      <th>45305</th>\n",
              "      <td>35118.85</td>\n",
              "      <td>1</td>\n",
              "      <td>1</td>\n",
              "      <td>19</td>\n",
              "      <td>8</td>\n",
              "      <td>1</td>\n",
              "      <td>1</td>\n",
              "      <td>15</td>\n",
              "      <td>6</td>\n",
              "      <td>2</td>\n",
              "      <td>2</td>\n",
              "    </tr>\n",
              "    <tr>\n",
              "      <th>22406</th>\n",
              "      <td>20417.83</td>\n",
              "      <td>1</td>\n",
              "      <td>1</td>\n",
              "      <td>32</td>\n",
              "      <td>-5</td>\n",
              "      <td>1</td>\n",
              "      <td>1</td>\n",
              "      <td>15</td>\n",
              "      <td>5</td>\n",
              "      <td>2</td>\n",
              "      <td>4</td>\n",
              "    </tr>\n",
              "  </tbody>\n",
              "</table>\n",
              "</div>"
            ],
            "text/plain": [
              "       total_open_amount  business_code  ...  bin_date_slab  bin_cust_payment_terms\n",
              "11418            9398.57              1  ...              2                       2\n",
              "24215           17707.30              1  ...              2                       4\n",
              "9514            22221.15              1  ...              2                       4\n",
              "45305           35118.85              1  ...              2                       2\n",
              "22406           20417.83              1  ...              2                       4\n",
              "\n",
              "[5 rows x 11 columns]"
            ]
          },
          "metadata": {
            "tags": []
          },
          "execution_count": 1237
        }
      ]
    },
    {
      "cell_type": "code",
      "metadata": {
        "colab": {
          "base_uri": "https://localhost:8080/",
          "height": 581
        },
        "id": "mU1Z3uHu2jis",
        "outputId": "2978a813-e838-4d31-db3d-d32f3e7931f7"
      },
      "source": [
        "# Plotting Heatmap To check Corelation\n",
        "\n",
        "f, ax = plt.subplots(figsize=(10, 8))\n",
        "corr = train.corr()\n",
        "sns.heatmap(corr, mask=np.zeros_like(corr, dtype=np.bool),cmap=sns.diverging_palette(220, 10, as_cmap=True), square=True, ax=ax, annot=True)\n",
        "plt.show()"
      ],
      "execution_count": null,
      "outputs": [
        {
          "output_type": "display_data",
          "data": {
            "image/png": "[encoded data removed]",
            "text/plain": [
              "<Figure size 720x576 with 2 Axes>"
            ]
          },
          "metadata": {
            "tags": [],
            "needs_background": "light"
          }
        }
      ]
    },
    {
      "cell_type": "markdown",
      "metadata": {
        "id": "Of7mOv6E5-O8"
      },
      "source": [
        "Feature Selection\n",
        "\n",
        "\n",
        "---\n",
        "\n",
        "---\n",
        "\n",
        "\n",
        "\n"
      ]
    },
    {
      "cell_type": "code",
      "metadata": {
        "id": "FkKR1Mmw2ya9",
        "colab": {
          "base_uri": "https://localhost:8080/"
        },
        "outputId": "26a6754c-d502-430c-ae03-2cc69fecb293"
      },
      "source": [
        "# Checking Corelation of numeric columns\n",
        "train.corr().loc['delay',:]"
      ],
      "execution_count": null,
      "outputs": [
        {
          "output_type": "execute_result",
          "data": {
            "text/plain": [
              "total_open_amount    -0.012611\n",
              "business_code         0.010364\n",
              "invoice_currency     -0.146421\n",
              "cust_payment_terms    0.077873\n",
              "delay                 1.000000\n",
              "due_month            -0.025099\n",
              "due_quarter          -0.023142\n",
              "date_slab            -0.185872\n",
              "Name: delay, dtype: float64"
            ]
          },
          "metadata": {
            "tags": []
          },
          "execution_count": 1239
        }
      ]
    },
    {
      "cell_type": "code",
      "metadata": {
        "id": "GtjmOhPM21jM"
      },
      "source": [
        "# Funtion to clean the dateset for Nan Values and infinite numbers and mismatch in datatype values\n",
        "\n",
        "def clean_dataset(df):\n",
        "    assert isinstance(df, pd.DataFrame), \"df needs to be a pd.DataFrame\"\n",
        "    df.dropna(inplace=True)\n",
        "    indices_to_keep = ~df.isin([np.nan, np.inf, -np.inf]).any(1)\n",
        "    return df[indices_to_keep].astype(np.float64)"
      ],
      "execution_count": null,
      "outputs": []
    },
    {
      "cell_type": "code",
      "metadata": {
        "colab": {
          "base_uri": "https://localhost:8080/",
          "height": 399
        },
        "id": "xpTkxjBC24N8",
        "outputId": "dcd9642d-3f80-4494-a0b2-c3275d813a89"
      },
      "source": [
        "# Calling the Cleaning Function\n",
        "clean_dataset(train)"
      ],
      "execution_count": null,
      "outputs": [
        {
          "output_type": "execute_result",
          "data": {
            "text/html": [
              "<div>\n",
              "<style scoped>\n",
              "    .dataframe tbody tr th:only-of-type {\n",
              "        vertical-align: middle;\n",
              "    }\n",
              "\n",
              "    .dataframe tbody tr th {\n",
              "        vertical-align: top;\n",
              "    }\n",
              "\n",
              "    .dataframe thead th {\n",
              "        text-align: right;\n",
              "    }\n",
              "</style>\n",
              "<table border=\"1\" class=\"dataframe\">\n",
              "  <thead>\n",
              "    <tr style=\"text-align: right;\">\n",
              "      <th></th>\n",
              "      <th>total_open_amount</th>\n",
              "      <th>business_code</th>\n",
              "      <th>invoice_currency</th>\n",
              "      <th>cust_payment_terms</th>\n",
              "      <th>delay</th>\n",
              "      <th>due_month</th>\n",
              "      <th>due_quarter</th>\n",
              "      <th>date_slab</th>\n",
              "      <th>bin_total_open_amount</th>\n",
              "      <th>bin_date_slab</th>\n",
              "      <th>bin_cust_payment_terms</th>\n",
              "    </tr>\n",
              "  </thead>\n",
              "  <tbody>\n",
              "    <tr>\n",
              "      <th>11418</th>\n",
              "      <td>9398.57</td>\n",
              "      <td>1.0</td>\n",
              "      <td>1.0</td>\n",
              "      <td>19.0</td>\n",
              "      <td>-2.0</td>\n",
              "      <td>1.0</td>\n",
              "      <td>1.0</td>\n",
              "      <td>15.0</td>\n",
              "      <td>4.0</td>\n",
              "      <td>2.0</td>\n",
              "      <td>2.0</td>\n",
              "    </tr>\n",
              "    <tr>\n",
              "      <th>24215</th>\n",
              "      <td>17707.30</td>\n",
              "      <td>1.0</td>\n",
              "      <td>1.0</td>\n",
              "      <td>32.0</td>\n",
              "      <td>-3.0</td>\n",
              "      <td>1.0</td>\n",
              "      <td>1.0</td>\n",
              "      <td>15.0</td>\n",
              "      <td>5.0</td>\n",
              "      <td>2.0</td>\n",
              "      <td>4.0</td>\n",
              "    </tr>\n",
              "    <tr>\n",
              "      <th>9514</th>\n",
              "      <td>22221.15</td>\n",
              "      <td>1.0</td>\n",
              "      <td>1.0</td>\n",
              "      <td>32.0</td>\n",
              "      <td>-4.0</td>\n",
              "      <td>1.0</td>\n",
              "      <td>1.0</td>\n",
              "      <td>15.0</td>\n",
              "      <td>5.0</td>\n",
              "      <td>2.0</td>\n",
              "      <td>4.0</td>\n",
              "    </tr>\n",
              "    <tr>\n",
              "      <th>45305</th>\n",
              "      <td>35118.85</td>\n",
              "      <td>1.0</td>\n",
              "      <td>1.0</td>\n",
              "      <td>19.0</td>\n",
              "      <td>8.0</td>\n",
              "      <td>1.0</td>\n",
              "      <td>1.0</td>\n",
              "      <td>15.0</td>\n",
              "      <td>6.0</td>\n",
              "      <td>2.0</td>\n",
              "      <td>2.0</td>\n",
              "    </tr>\n",
              "    <tr>\n",
              "      <th>22406</th>\n",
              "      <td>20417.83</td>\n",
              "      <td>1.0</td>\n",
              "      <td>1.0</td>\n",
              "      <td>32.0</td>\n",
              "      <td>-5.0</td>\n",
              "      <td>1.0</td>\n",
              "      <td>1.0</td>\n",
              "      <td>15.0</td>\n",
              "      <td>5.0</td>\n",
              "      <td>2.0</td>\n",
              "      <td>4.0</td>\n",
              "    </tr>\n",
              "    <tr>\n",
              "      <th>...</th>\n",
              "      <td>...</td>\n",
              "      <td>...</td>\n",
              "      <td>...</td>\n",
              "      <td>...</td>\n",
              "      <td>...</td>\n",
              "      <td>...</td>\n",
              "      <td>...</td>\n",
              "      <td>...</td>\n",
              "      <td>...</td>\n",
              "      <td>...</td>\n",
              "      <td>...</td>\n",
              "    </tr>\n",
              "    <tr>\n",
              "      <th>35207</th>\n",
              "      <td>6780.20</td>\n",
              "      <td>1.0</td>\n",
              "      <td>1.0</td>\n",
              "      <td>59.0</td>\n",
              "      <td>0.0</td>\n",
              "      <td>11.0</td>\n",
              "      <td>4.0</td>\n",
              "      <td>40.0</td>\n",
              "      <td>3.0</td>\n",
              "      <td>4.0</td>\n",
              "      <td>6.0</td>\n",
              "    </tr>\n",
              "    <tr>\n",
              "      <th>13656</th>\n",
              "      <td>18771.48</td>\n",
              "      <td>1.0</td>\n",
              "      <td>1.0</td>\n",
              "      <td>24.0</td>\n",
              "      <td>2.0</td>\n",
              "      <td>11.0</td>\n",
              "      <td>4.0</td>\n",
              "      <td>15.0</td>\n",
              "      <td>5.0</td>\n",
              "      <td>2.0</td>\n",
              "      <td>3.0</td>\n",
              "    </tr>\n",
              "    <tr>\n",
              "      <th>22022</th>\n",
              "      <td>2835.34</td>\n",
              "      <td>1.0</td>\n",
              "      <td>1.0</td>\n",
              "      <td>35.0</td>\n",
              "      <td>-7.0</td>\n",
              "      <td>11.0</td>\n",
              "      <td>4.0</td>\n",
              "      <td>21.0</td>\n",
              "      <td>2.0</td>\n",
              "      <td>3.0</td>\n",
              "      <td>4.0</td>\n",
              "    </tr>\n",
              "    <tr>\n",
              "      <th>12675</th>\n",
              "      <td>23095.93</td>\n",
              "      <td>1.0</td>\n",
              "      <td>1.0</td>\n",
              "      <td>19.0</td>\n",
              "      <td>20.0</td>\n",
              "      <td>11.0</td>\n",
              "      <td>4.0</td>\n",
              "      <td>15.0</td>\n",
              "      <td>5.0</td>\n",
              "      <td>2.0</td>\n",
              "      <td>2.0</td>\n",
              "    </tr>\n",
              "    <tr>\n",
              "      <th>11019</th>\n",
              "      <td>79665.02</td>\n",
              "      <td>1.0</td>\n",
              "      <td>1.0</td>\n",
              "      <td>19.0</td>\n",
              "      <td>-15.0</td>\n",
              "      <td>11.0</td>\n",
              "      <td>4.0</td>\n",
              "      <td>15.0</td>\n",
              "      <td>7.0</td>\n",
              "      <td>2.0</td>\n",
              "      <td>2.0</td>\n",
              "    </tr>\n",
              "  </tbody>\n",
              "</table>\n",
              "<p>28398 rows × 11 columns</p>\n",
              "</div>"
            ],
            "text/plain": [
              "       total_open_amount  business_code  ...  bin_date_slab  bin_cust_payment_terms\n",
              "11418            9398.57            1.0  ...            2.0                     2.0\n",
              "24215           17707.30            1.0  ...            2.0                     4.0\n",
              "9514            22221.15            1.0  ...            2.0                     4.0\n",
              "45305           35118.85            1.0  ...            2.0                     2.0\n",
              "22406           20417.83            1.0  ...            2.0                     4.0\n",
              "...                  ...            ...  ...            ...                     ...\n",
              "35207            6780.20            1.0  ...            4.0                     6.0\n",
              "13656           18771.48            1.0  ...            2.0                     3.0\n",
              "22022            2835.34            1.0  ...            3.0                     4.0\n",
              "12675           23095.93            1.0  ...            2.0                     2.0\n",
              "11019           79665.02            1.0  ...            2.0                     2.0\n",
              "\n",
              "[28398 rows x 11 columns]"
            ]
          },
          "metadata": {
            "tags": []
          },
          "execution_count": 1241
        }
      ]
    },
    {
      "cell_type": "code",
      "metadata": {
        "id": "svakYK9o5FKv"
      },
      "source": [
        "train.reset_index(drop=True,inplace=True)"
      ],
      "execution_count": null,
      "outputs": []
    },
    {
      "cell_type": "code",
      "metadata": {
        "id": "i7ytQbS05op1"
      },
      "source": [
        "# Separating the target Column from train Set\n",
        "target = train[['delay']]"
      ],
      "execution_count": null,
      "outputs": []
    },
    {
      "cell_type": "code",
      "metadata": {
        "id": "l_h1mvtN5pzo"
      },
      "source": [
        "# Dropping the Target column in train set\n",
        "\n",
        "train.drop('delay', axis = 1, inplace = True)"
      ],
      "execution_count": null,
      "outputs": []
    },
    {
      "cell_type": "code",
      "metadata": {
        "id": "RvgBG1tk2HvQ"
      },
      "source": [
        "train.reset_index(drop=True,inplace=True)"
      ],
      "execution_count": null,
      "outputs": []
    },
    {
      "cell_type": "code",
      "metadata": {
        "id": "bgU3wdrW6Er5"
      },
      "source": [
        "# Function for feature Selection Based on Corelation\n",
        "def cor(dataset,thres):\n",
        "    col_corr = set()\n",
        "    corr_matrix = dataset.corr()\n",
        "    for i in range(len(corr_matrix.columns)):\n",
        "        for j in range(i):\n",
        "            if abs(corr_matrix.iloc[i,j]) > thres:\n",
        "                colname = corr_matrix.columns[i]\n",
        "                col_corr.add(colname)\n",
        "    return col_corr            "
      ],
      "execution_count": null,
      "outputs": []
    },
    {
      "cell_type": "code",
      "metadata": {
        "colab": {
          "base_uri": "https://localhost:8080/"
        },
        "id": "nPBS44dg6F8b",
        "outputId": "8a640508-d3c5-4dc3-c711-c8b834e8a097"
      },
      "source": [
        "# Setting Threshold value for feature Selection\n",
        "\n",
        "corr_features = cor(train, 0.8)\n",
        "len(corr_features)"
      ],
      "execution_count": null,
      "outputs": [
        {
          "output_type": "execute_result",
          "data": {
            "text/plain": [
              "1"
            ]
          },
          "metadata": {
            "tags": []
          },
          "execution_count": 1247
        }
      ]
    },
    {
      "cell_type": "code",
      "metadata": {
        "colab": {
          "base_uri": "https://localhost:8080/"
        },
        "id": "Bv-bRzYC6MAr",
        "outputId": "10008e17-ffde-42a8-cfe6-cb77867ebd27"
      },
      "source": [
        "corr_features"
      ],
      "execution_count": null,
      "outputs": [
        {
          "output_type": "execute_result",
          "data": {
            "text/plain": [
              "{'due_quarter'}"
            ]
          },
          "metadata": {
            "tags": []
          },
          "execution_count": 1248
        }
      ]
    },
    {
      "cell_type": "code",
      "metadata": {
        "id": "FExWLgEU6lRF"
      },
      "source": [
        "# Dropping Columns that shows poor Features\n",
        "\n",
        "train.drop(labels=corr_features, axis = 1, inplace= True)"
      ],
      "execution_count": null,
      "outputs": []
    },
    {
      "cell_type": "code",
      "metadata": {
        "id": "4j1sZQq22S1j"
      },
      "source": [
        "train.reset_index(drop=True,inplace=True)"
      ],
      "execution_count": null,
      "outputs": []
    },
    {
      "cell_type": "code",
      "metadata": {
        "colab": {
          "base_uri": "https://localhost:8080/"
        },
        "id": "yGNILWhK6xNO",
        "outputId": "c6cd0f85-82e9-407f-e732-d1be51de23d7"
      },
      "source": [
        "train.info()"
      ],
      "execution_count": null,
      "outputs": [
        {
          "output_type": "stream",
          "text": [
            "<class 'pandas.core.frame.DataFrame'>\n",
            "RangeIndex: 28398 entries, 0 to 28397\n",
            "Data columns (total 9 columns):\n",
            " #   Column                  Non-Null Count  Dtype   \n",
            "---  ------                  --------------  -----   \n",
            " 0   total_open_amount       28398 non-null  float64 \n",
            " 1   business_code           28398 non-null  int8    \n",
            " 2   invoice_currency        28398 non-null  int8    \n",
            " 3   cust_payment_terms      28398 non-null  int8    \n",
            " 4   due_month               28398 non-null  int64   \n",
            " 5   date_slab               28398 non-null  int64   \n",
            " 6   bin_total_open_amount   28398 non-null  category\n",
            " 7   bin_date_slab           28398 non-null  category\n",
            " 8   bin_cust_payment_terms  28398 non-null  category\n",
            "dtypes: category(3), float64(1), int64(2), int8(3)\n",
            "memory usage: 833.2 KB\n"
          ],
          "name": "stdout"
        }
      ]
    },
    {
      "cell_type": "markdown",
      "metadata": {
        "id": "gigjHwr668PK"
      },
      "source": [
        "CREATING FEATURES FOR VALIDATION SET 1 AND VALIDATION SET 2 AND TEST\n",
        "\n",
        "---\n",
        "\n"
      ]
    },
    {
      "cell_type": "code",
      "metadata": {
        "colab": {
          "base_uri": "https://localhost:8080/"
        },
        "id": "owbz3t6f9nY0",
        "outputId": "c8ecd9a4-ee39-4bb5-a60d-d6705aefae3c"
      },
      "source": [
        "test.info()"
      ],
      "execution_count": null,
      "outputs": [
        {
          "output_type": "stream",
          "text": [
            "<class 'pandas.core.frame.DataFrame'>\n",
            "Int64Index: 4619 entries, 48205 to 47276\n",
            "Data columns (total 9 columns):\n",
            " #   Column                  Non-Null Count  Dtype         \n",
            "---  ------                  --------------  -----         \n",
            " 0   total_open_amount       4619 non-null   float64       \n",
            " 1   business_code           4619 non-null   object        \n",
            " 2   invoice_currency        4619 non-null   object        \n",
            " 3   cust_payment_terms      4619 non-null   object        \n",
            " 4   clear_date              0 non-null      datetime64[ns]\n",
            " 5   posting_date            4619 non-null   datetime64[ns]\n",
            " 6   document_create_date.1  4619 non-null   datetime64[ns]\n",
            " 7   due_in_date             4619 non-null   datetime64[ns]\n",
            " 8   baseline_create_date    4619 non-null   datetime64[ns]\n",
            "dtypes: datetime64[ns](5), float64(1), object(3)\n",
            "memory usage: 360.9+ KB\n"
          ],
          "name": "stdout"
        }
      ]
    },
    {
      "cell_type": "code",
      "metadata": {
        "id": "_412EU6R7Ek1"
      },
      "source": [
        "# Replicating Features on validation sets and test set\n",
        "val1['due_month'] = val1.due_in_date.dt.month\n",
        "val2['due_month'] = val2.due_in_date.dt.month\n",
        "test['due_month'] = test.due_in_date.dt.month"
      ],
      "execution_count": null,
      "outputs": []
    },
    {
      "cell_type": "code",
      "metadata": {
        "id": "YWYeW9-x_XpA"
      },
      "source": [
        "# Currency conversion from CAD to USD\n",
        "val1['total_open_amount'] = np.where(val1.invoice_currency == 'CAD', 0.78 * val1['total_open_amount'],val1['total_open_amount'])\n",
        "val2['total_open_amount'] = np.where(val2.invoice_currency == 'CAD', 0.78 * val2['total_open_amount'],val2['total_open_amount'])\n",
        "test['total_open_amount'] = np.where(test.invoice_currency == 'CAD', 0.78 * test['total_open_amount'],test['total_open_amount'])"
      ],
      "execution_count": null,
      "outputs": []
    },
    {
      "cell_type": "code",
      "metadata": {
        "id": "lowj6PCh_kox"
      },
      "source": [
        "val1['date_slab'] = val1['due_in_date'] - val1['posting_date']\n",
        "val1.date_slab = val1.date_slab.dt.days \n",
        "val2['date_slab'] = val2['due_in_date'] - val2['posting_date']\n",
        "val2.date_slab = val2.date_slab.dt.days \n",
        "test['date_slab'] = test['due_in_date'] - test['posting_date']\n",
        "test.date_slab = test.date_slab.dt.days "
      ],
      "execution_count": null,
      "outputs": []
    },
    {
      "cell_type": "markdown",
      "metadata": {
        "id": "Cy9TFzFgoNqd"
      },
      "source": [
        "Binning all the features in validation and test  \n",
        "\n",
        "---\n",
        "\n"
      ]
    },
    {
      "cell_type": "code",
      "metadata": {
        "id": "O_0H6W5D_yzn"
      },
      "source": [
        "bin_ranges=[1000,2000,4000,8000,16000,32000,64000,150000,300000,800000]\n",
        "bin_names=[1,2,3,4,5,6,7,8,9,]\n",
        "val1['bin_total_open_amount'] = pd.cut( np.array(val1['total_open_amount']),bins=bin_ranges)\n",
        "val1['bin_total_open_amount'] = pd.cut( np.array(val1['total_open_amount']),bins=bin_ranges, labels=bin_names)\n",
        "val2['bin_total_open_amount'] = pd.cut( np.array(val2['total_open_amount']),bins=bin_ranges)\n",
        "val2['bin_total_open_amount'] = pd.cut( np.array(val2['total_open_amount']),bins=bin_ranges, labels=bin_names)\n",
        "test['bin_total_open_amount'] = pd.cut( np.array(test['total_open_amount']),bins=bin_ranges)\n",
        "test['bin_total_open_amount'] = pd.cut( np.array(test['total_open_amount']),bins=bin_ranges, labels=bin_names)"
      ],
      "execution_count": null,
      "outputs": []
    },
    {
      "cell_type": "code",
      "metadata": {
        "id": "0cUj51-t_-qP"
      },
      "source": [
        "bin_ranges=[0,10,20,30,40,50,60,70,120]\n",
        "bin_names=[1,2,3,4,5,6,7,8,]\n",
        "val1['bin_date_slab'] = pd.cut( np.array(val1['date_slab']),bins=bin_ranges)\n",
        "val1['bin_date_slab'] = pd.cut( np.array(val1['date_slab']),bins=bin_ranges, labels=bin_names)\n",
        "val2['bin_date_slab'] = pd.cut( np.array(val2['date_slab']),bins=bin_ranges)\n",
        "val2['bin_date_slab'] = pd.cut( np.array(val2['date_slab']),bins=bin_ranges, labels=bin_names)\n",
        "test['bin_date_slab'] = pd.cut( np.array(test['date_slab']),bins=bin_ranges)\n",
        "test['bin_date_slab'] = pd.cut( np.array(test['date_slab']),bins=bin_ranges, labels=bin_names)"
      ],
      "execution_count": null,
      "outputs": []
    },
    {
      "cell_type": "markdown",
      "metadata": {
        "id": "ezlVs7wTocwi"
      },
      "source": [
        "DataType Conversion and Encoding\n",
        "\n",
        "---\n",
        "\n"
      ]
    },
    {
      "cell_type": "code",
      "metadata": {
        "id": "Arfgoc1WAL_n"
      },
      "source": [
        "val1['business_code'] = train.business_code.astype('category')\n",
        "val1['invoice_currency'] = train.invoice_currency.astype('category')\n",
        "val1['cust_payment_terms'] = train.cust_payment_terms.astype('category')\n",
        "val2['business_code'] = val2.business_code.astype('category')\n",
        "val2['invoice_currency'] = val2.invoice_currency.astype('category')\n",
        "val2['cust_payment_terms'] = val2.cust_payment_terms.astype('category')\n",
        "test['business_code'] = test.business_code.astype('category')\n",
        "test['invoice_currency'] = test.invoice_currency.astype('category')\n",
        "test['cust_payment_terms'] = test.cust_payment_terms.astype('category')"
      ],
      "execution_count": null,
      "outputs": []
    },
    {
      "cell_type": "code",
      "metadata": {
        "id": "cngYAMUXAM_r"
      },
      "source": [
        "val1.business_code = val1.business_code.cat.codes\n",
        "val1.invoice_currency = val1.invoice_currency.cat.codes\n",
        "val1.cust_payment_terms = val1.cust_payment_terms.cat.codes\n",
        "val2.business_code = val2.business_code.cat.codes\n",
        "val2.invoice_currency = val2.invoice_currency.cat.codes\n",
        "val2.cust_payment_terms = val2.cust_payment_terms.cat.codes\n",
        "test.business_code = test.business_code.cat.codes\n",
        "test.invoice_currency = test.invoice_currency.cat.codes\n",
        "test.cust_payment_terms = test.cust_payment_terms.cat.codes"
      ],
      "execution_count": null,
      "outputs": []
    },
    {
      "cell_type": "code",
      "metadata": {
        "id": "zhG3EEFlAXEG"
      },
      "source": [
        "bin_ranges=[0,10,20,30,40,50,60,70,80,120]\n",
        "bin_names=[1,2,3,4,5,6,7,8,9,]\n",
        "val1['bin_cust_payment_terms'] = pd.cut( np.array(val1['cust_payment_terms']),bins=bin_ranges)\n",
        "val1['bin_cust_payment_terms'] = pd.cut( np.array(val1['cust_payment_terms']),bins=bin_ranges, labels=bin_names)\n",
        "val2['bin_cust_payment_terms'] = pd.cut( np.array(val2['cust_payment_terms']),bins=bin_ranges)\n",
        "val2['bin_cust_payment_terms'] = pd.cut( np.array(val2['cust_payment_terms']),bins=bin_ranges, labels=bin_names)\n",
        "test['bin_cust_payment_terms'] = pd.cut( np.array(test['cust_payment_terms']),bins=bin_ranges)\n",
        "test['bin_cust_payment_terms'] = pd.cut( np.array(test['cust_payment_terms']),bins=bin_ranges, labels=bin_names)"
      ],
      "execution_count": null,
      "outputs": []
    },
    {
      "cell_type": "code",
      "metadata": {
        "id": "-pnmt5GdUYHe"
      },
      "source": [
        "test.reset_index(drop=True,inplace=True)"
      ],
      "execution_count": null,
      "outputs": []
    },
    {
      "cell_type": "markdown",
      "metadata": {
        "id": "bAQjcq9wowtN"
      },
      "source": [
        "Creating a Result data Frame to store due in date before Dropping for further addition to delay\n",
        "\n",
        "---\n",
        "\n"
      ]
    },
    {
      "cell_type": "code",
      "metadata": {
        "id": "THGeHEgubNg8"
      },
      "source": [
        "result = pd.DataFrame()"
      ],
      "execution_count": null,
      "outputs": []
    },
    {
      "cell_type": "code",
      "metadata": {
        "id": "3OCUKcUaMWc8"
      },
      "source": [
        "result[[\"due_date\"]] = test[[\"due_in_date\"]]"
      ],
      "execution_count": null,
      "outputs": []
    },
    {
      "cell_type": "code",
      "metadata": {
        "id": "oO0Vfkoidsuo"
      },
      "source": [
        "result.reset_index(drop=True,inplace=True)"
      ],
      "execution_count": null,
      "outputs": []
    },
    {
      "cell_type": "code",
      "metadata": {
        "colab": {
          "base_uri": "https://localhost:8080/"
        },
        "id": "pbpxCNO6Qpy3",
        "outputId": "24a82a1c-751b-4475-fa85-a630cb5c8191"
      },
      "source": [
        "result[\"due_date\"]"
      ],
      "execution_count": null,
      "outputs": [
        {
          "output_type": "execute_result",
          "data": {
            "text/plain": [
              "0      2020-05-02\n",
              "1      2020-03-09\n",
              "2      2020-03-13\n",
              "3      2020-04-27\n",
              "4      2020-03-13\n",
              "          ...    \n",
              "4614   2020-05-24\n",
              "4615   2020-06-02\n",
              "4616   2020-06-03\n",
              "4617   2020-06-20\n",
              "4618   2020-06-01\n",
              "Name: due_date, Length: 4619, dtype: datetime64[ns]"
            ]
          },
          "metadata": {
            "tags": []
          },
          "execution_count": 1265
        }
      ]
    },
    {
      "cell_type": "markdown",
      "metadata": {
        "id": "N6lBKOe-pEYG"
      },
      "source": [
        "Dropping and cleaning data from validation and test\n",
        "\n",
        "---\n",
        "\n"
      ]
    },
    {
      "cell_type": "code",
      "metadata": {
        "id": "y7Gy5wDA8-iJ"
      },
      "source": [
        "val1.drop(['clear_date','posting_date',\"document_create_date.1\",\"due_in_date\",\"baseline_create_date\"], axis  = 1, inplace = True)\n",
        "val2.drop(['clear_date','posting_date',\"document_create_date.1\",\"due_in_date\",\"baseline_create_date\"], axis  = 1, inplace = True)\n",
        "test.drop(['clear_date','posting_date',\"document_create_date.1\",\"due_in_date\",\"baseline_create_date\"], axis  = 1, inplace = True)"
      ],
      "execution_count": null,
      "outputs": []
    },
    {
      "cell_type": "code",
      "metadata": {
        "colab": {
          "base_uri": "https://localhost:8080/",
          "height": 399
        },
        "id": "fFrMyCgZ8-lc",
        "outputId": "5f96497a-f067-45a4-fd2d-3757fd458a03"
      },
      "source": [
        "clean_dataset(val1)\n",
        "clean_dataset(val2)\n",
        "clean_dataset(test)"
      ],
      "execution_count": null,
      "outputs": [
        {
          "output_type": "execute_result",
          "data": {
            "text/html": [
              "<div>\n",
              "<style scoped>\n",
              "    .dataframe tbody tr th:only-of-type {\n",
              "        vertical-align: middle;\n",
              "    }\n",
              "\n",
              "    .dataframe tbody tr th {\n",
              "        vertical-align: top;\n",
              "    }\n",
              "\n",
              "    .dataframe thead th {\n",
              "        text-align: right;\n",
              "    }\n",
              "</style>\n",
              "<table border=\"1\" class=\"dataframe\">\n",
              "  <thead>\n",
              "    <tr style=\"text-align: right;\">\n",
              "      <th></th>\n",
              "      <th>total_open_amount</th>\n",
              "      <th>business_code</th>\n",
              "      <th>invoice_currency</th>\n",
              "      <th>cust_payment_terms</th>\n",
              "      <th>due_month</th>\n",
              "      <th>date_slab</th>\n",
              "      <th>bin_total_open_amount</th>\n",
              "      <th>bin_date_slab</th>\n",
              "      <th>bin_cust_payment_terms</th>\n",
              "    </tr>\n",
              "  </thead>\n",
              "  <tbody>\n",
              "    <tr>\n",
              "      <th>0</th>\n",
              "      <td>4439.5500</td>\n",
              "      <td>1.0</td>\n",
              "      <td>1.0</td>\n",
              "      <td>22.0</td>\n",
              "      <td>5.0</td>\n",
              "      <td>65.0</td>\n",
              "      <td>3.0</td>\n",
              "      <td>7.0</td>\n",
              "      <td>3.0</td>\n",
              "    </tr>\n",
              "    <tr>\n",
              "      <th>1</th>\n",
              "      <td>121299.0168</td>\n",
              "      <td>0.0</td>\n",
              "      <td>0.0</td>\n",
              "      <td>1.0</td>\n",
              "      <td>3.0</td>\n",
              "      <td>11.0</td>\n",
              "      <td>7.0</td>\n",
              "      <td>2.0</td>\n",
              "      <td>1.0</td>\n",
              "    </tr>\n",
              "    <tr>\n",
              "      <th>2</th>\n",
              "      <td>4343.6500</td>\n",
              "      <td>1.0</td>\n",
              "      <td>1.0</td>\n",
              "      <td>10.0</td>\n",
              "      <td>3.0</td>\n",
              "      <td>15.0</td>\n",
              "      <td>3.0</td>\n",
              "      <td>2.0</td>\n",
              "      <td>1.0</td>\n",
              "    </tr>\n",
              "    <tr>\n",
              "      <th>3</th>\n",
              "      <td>17946.0100</td>\n",
              "      <td>1.0</td>\n",
              "      <td>1.0</td>\n",
              "      <td>33.0</td>\n",
              "      <td>4.0</td>\n",
              "      <td>60.0</td>\n",
              "      <td>5.0</td>\n",
              "      <td>6.0</td>\n",
              "      <td>4.0</td>\n",
              "    </tr>\n",
              "    <tr>\n",
              "      <th>4</th>\n",
              "      <td>62422.7500</td>\n",
              "      <td>1.0</td>\n",
              "      <td>1.0</td>\n",
              "      <td>10.0</td>\n",
              "      <td>3.0</td>\n",
              "      <td>15.0</td>\n",
              "      <td>6.0</td>\n",
              "      <td>2.0</td>\n",
              "      <td>1.0</td>\n",
              "    </tr>\n",
              "    <tr>\n",
              "      <th>...</th>\n",
              "      <td>...</td>\n",
              "      <td>...</td>\n",
              "      <td>...</td>\n",
              "      <td>...</td>\n",
              "      <td>...</td>\n",
              "      <td>...</td>\n",
              "      <td>...</td>\n",
              "      <td>...</td>\n",
              "      <td>...</td>\n",
              "    </tr>\n",
              "    <tr>\n",
              "      <th>4611</th>\n",
              "      <td>3434.1606</td>\n",
              "      <td>0.0</td>\n",
              "      <td>0.0</td>\n",
              "      <td>1.0</td>\n",
              "      <td>5.0</td>\n",
              "      <td>14.0</td>\n",
              "      <td>2.0</td>\n",
              "      <td>2.0</td>\n",
              "      <td>1.0</td>\n",
              "    </tr>\n",
              "    <tr>\n",
              "      <th>4613</th>\n",
              "      <td>6000.0000</td>\n",
              "      <td>1.0</td>\n",
              "      <td>1.0</td>\n",
              "      <td>10.0</td>\n",
              "      <td>5.0</td>\n",
              "      <td>15.0</td>\n",
              "      <td>3.0</td>\n",
              "      <td>2.0</td>\n",
              "      <td>1.0</td>\n",
              "    </tr>\n",
              "    <tr>\n",
              "      <th>4614</th>\n",
              "      <td>2925.6474</td>\n",
              "      <td>0.0</td>\n",
              "      <td>0.0</td>\n",
              "      <td>1.0</td>\n",
              "      <td>5.0</td>\n",
              "      <td>10.0</td>\n",
              "      <td>2.0</td>\n",
              "      <td>1.0</td>\n",
              "      <td>1.0</td>\n",
              "    </tr>\n",
              "    <tr>\n",
              "      <th>4615</th>\n",
              "      <td>9291.0000</td>\n",
              "      <td>1.0</td>\n",
              "      <td>1.0</td>\n",
              "      <td>10.0</td>\n",
              "      <td>6.0</td>\n",
              "      <td>15.0</td>\n",
              "      <td>4.0</td>\n",
              "      <td>2.0</td>\n",
              "      <td>1.0</td>\n",
              "    </tr>\n",
              "    <tr>\n",
              "      <th>4616</th>\n",
              "      <td>8326.8700</td>\n",
              "      <td>1.0</td>\n",
              "      <td>1.0</td>\n",
              "      <td>10.0</td>\n",
              "      <td>6.0</td>\n",
              "      <td>15.0</td>\n",
              "      <td>4.0</td>\n",
              "      <td>2.0</td>\n",
              "      <td>1.0</td>\n",
              "    </tr>\n",
              "  </tbody>\n",
              "</table>\n",
              "<p>4098 rows × 9 columns</p>\n",
              "</div>"
            ],
            "text/plain": [
              "      total_open_amount  business_code  ...  bin_date_slab  bin_cust_payment_terms\n",
              "0             4439.5500            1.0  ...            7.0                     3.0\n",
              "1           121299.0168            0.0  ...            2.0                     1.0\n",
              "2             4343.6500            1.0  ...            2.0                     1.0\n",
              "3            17946.0100            1.0  ...            6.0                     4.0\n",
              "4            62422.7500            1.0  ...            2.0                     1.0\n",
              "...                 ...            ...  ...            ...                     ...\n",
              "4611          3434.1606            0.0  ...            2.0                     1.0\n",
              "4613          6000.0000            1.0  ...            2.0                     1.0\n",
              "4614          2925.6474            0.0  ...            1.0                     1.0\n",
              "4615          9291.0000            1.0  ...            2.0                     1.0\n",
              "4616          8326.8700            1.0  ...            2.0                     1.0\n",
              "\n",
              "[4098 rows x 9 columns]"
            ]
          },
          "metadata": {
            "tags": []
          },
          "execution_count": 1267
        }
      ]
    },
    {
      "cell_type": "code",
      "metadata": {
        "id": "appMMIKc8-pV"
      },
      "source": [
        "val1.reset_index(drop=True,inplace=True)\n",
        "val2.reset_index(drop=True,inplace=True)\n",
        "test.reset_index(drop=True,inplace=True)"
      ],
      "execution_count": null,
      "outputs": []
    },
    {
      "cell_type": "markdown",
      "metadata": {
        "id": "Jvaisp9HpNyZ"
      },
      "source": [
        "Creating target variable for validation sets\n",
        "\n",
        "---\n",
        "\n"
      ]
    },
    {
      "cell_type": "code",
      "metadata": {
        "id": "_DWyFJ1tGvAN"
      },
      "source": [
        "target_val1 = val1[['delay']]\n",
        "target_val2 = val2[['delay']]"
      ],
      "execution_count": null,
      "outputs": []
    },
    {
      "cell_type": "code",
      "metadata": {
        "id": "z9ZjASxpG7cA"
      },
      "source": [
        "val1.drop('delay', axis = 1, inplace = True)\n",
        "val2.drop('delay', axis = 1, inplace = True)"
      ],
      "execution_count": null,
      "outputs": []
    },
    {
      "cell_type": "code",
      "metadata": {
        "id": "0TqmStgKHIQR"
      },
      "source": [
        "val1.reset_index(drop=True,inplace=True)\n",
        "val2.reset_index(drop=True,inplace=True)\n"
      ],
      "execution_count": null,
      "outputs": []
    },
    {
      "cell_type": "code",
      "metadata": {
        "colab": {
          "base_uri": "https://localhost:8080/",
          "height": 399
        },
        "id": "CIg5fYli7Epq",
        "outputId": "3a00fbdd-6df4-4c93-a76f-a78e766893e8"
      },
      "source": [
        "val1"
      ],
      "execution_count": null,
      "outputs": [
        {
          "output_type": "execute_result",
          "data": {
            "text/html": [
              "<div>\n",
              "<style scoped>\n",
              "    .dataframe tbody tr th:only-of-type {\n",
              "        vertical-align: middle;\n",
              "    }\n",
              "\n",
              "    .dataframe tbody tr th {\n",
              "        vertical-align: top;\n",
              "    }\n",
              "\n",
              "    .dataframe thead th {\n",
              "        text-align: right;\n",
              "    }\n",
              "</style>\n",
              "<table border=\"1\" class=\"dataframe\">\n",
              "  <thead>\n",
              "    <tr style=\"text-align: right;\">\n",
              "      <th></th>\n",
              "      <th>total_open_amount</th>\n",
              "      <th>business_code</th>\n",
              "      <th>invoice_currency</th>\n",
              "      <th>cust_payment_terms</th>\n",
              "      <th>due_month</th>\n",
              "      <th>date_slab</th>\n",
              "      <th>bin_total_open_amount</th>\n",
              "      <th>bin_date_slab</th>\n",
              "      <th>bin_cust_payment_terms</th>\n",
              "    </tr>\n",
              "  </thead>\n",
              "  <tbody>\n",
              "    <tr>\n",
              "      <th>0</th>\n",
              "      <td>3518.00</td>\n",
              "      <td>1</td>\n",
              "      <td>1</td>\n",
              "      <td>17</td>\n",
              "      <td>12</td>\n",
              "      <td>15</td>\n",
              "      <td>2</td>\n",
              "      <td>2</td>\n",
              "      <td>2</td>\n",
              "    </tr>\n",
              "    <tr>\n",
              "      <th>1</th>\n",
              "      <td>20541.02</td>\n",
              "      <td>1</td>\n",
              "      <td>1</td>\n",
              "      <td>17</td>\n",
              "      <td>12</td>\n",
              "      <td>15</td>\n",
              "      <td>5</td>\n",
              "      <td>2</td>\n",
              "      <td>2</td>\n",
              "    </tr>\n",
              "    <tr>\n",
              "      <th>2</th>\n",
              "      <td>15395.59</td>\n",
              "      <td>1</td>\n",
              "      <td>1</td>\n",
              "      <td>17</td>\n",
              "      <td>12</td>\n",
              "      <td>15</td>\n",
              "      <td>4</td>\n",
              "      <td>2</td>\n",
              "      <td>2</td>\n",
              "    </tr>\n",
              "    <tr>\n",
              "      <th>3</th>\n",
              "      <td>7958.25</td>\n",
              "      <td>1</td>\n",
              "      <td>1</td>\n",
              "      <td>29</td>\n",
              "      <td>12</td>\n",
              "      <td>15</td>\n",
              "      <td>3</td>\n",
              "      <td>2</td>\n",
              "      <td>3</td>\n",
              "    </tr>\n",
              "    <tr>\n",
              "      <th>4</th>\n",
              "      <td>97337.03</td>\n",
              "      <td>1</td>\n",
              "      <td>1</td>\n",
              "      <td>19</td>\n",
              "      <td>12</td>\n",
              "      <td>15</td>\n",
              "      <td>7</td>\n",
              "      <td>2</td>\n",
              "      <td>2</td>\n",
              "    </tr>\n",
              "    <tr>\n",
              "      <th>...</th>\n",
              "      <td>...</td>\n",
              "      <td>...</td>\n",
              "      <td>...</td>\n",
              "      <td>...</td>\n",
              "      <td>...</td>\n",
              "      <td>...</td>\n",
              "      <td>...</td>\n",
              "      <td>...</td>\n",
              "      <td>...</td>\n",
              "    </tr>\n",
              "    <tr>\n",
              "      <th>3686</th>\n",
              "      <td>84202.93</td>\n",
              "      <td>1</td>\n",
              "      <td>1</td>\n",
              "      <td>19</td>\n",
              "      <td>3</td>\n",
              "      <td>15</td>\n",
              "      <td>7</td>\n",
              "      <td>2</td>\n",
              "      <td>2</td>\n",
              "    </tr>\n",
              "    <tr>\n",
              "      <th>3687</th>\n",
              "      <td>34578.99</td>\n",
              "      <td>1</td>\n",
              "      <td>1</td>\n",
              "      <td>17</td>\n",
              "      <td>3</td>\n",
              "      <td>15</td>\n",
              "      <td>6</td>\n",
              "      <td>2</td>\n",
              "      <td>2</td>\n",
              "    </tr>\n",
              "    <tr>\n",
              "      <th>3688</th>\n",
              "      <td>76194.86</td>\n",
              "      <td>1</td>\n",
              "      <td>1</td>\n",
              "      <td>23</td>\n",
              "      <td>3</td>\n",
              "      <td>15</td>\n",
              "      <td>7</td>\n",
              "      <td>2</td>\n",
              "      <td>3</td>\n",
              "    </tr>\n",
              "    <tr>\n",
              "      <th>3689</th>\n",
              "      <td>71300.88</td>\n",
              "      <td>1</td>\n",
              "      <td>1</td>\n",
              "      <td>29</td>\n",
              "      <td>4</td>\n",
              "      <td>35</td>\n",
              "      <td>7</td>\n",
              "      <td>4</td>\n",
              "      <td>3</td>\n",
              "    </tr>\n",
              "    <tr>\n",
              "      <th>3690</th>\n",
              "      <td>7465.20</td>\n",
              "      <td>1</td>\n",
              "      <td>1</td>\n",
              "      <td>17</td>\n",
              "      <td>3</td>\n",
              "      <td>32</td>\n",
              "      <td>3</td>\n",
              "      <td>4</td>\n",
              "      <td>2</td>\n",
              "    </tr>\n",
              "  </tbody>\n",
              "</table>\n",
              "<p>3691 rows × 9 columns</p>\n",
              "</div>"
            ],
            "text/plain": [
              "      total_open_amount  business_code  ...  bin_date_slab  bin_cust_payment_terms\n",
              "0               3518.00              1  ...              2                       2\n",
              "1              20541.02              1  ...              2                       2\n",
              "2              15395.59              1  ...              2                       2\n",
              "3               7958.25              1  ...              2                       3\n",
              "4              97337.03              1  ...              2                       2\n",
              "...                 ...            ...  ...            ...                     ...\n",
              "3686           84202.93              1  ...              2                       2\n",
              "3687           34578.99              1  ...              2                       2\n",
              "3688           76194.86              1  ...              2                       3\n",
              "3689           71300.88              1  ...              4                       3\n",
              "3690            7465.20              1  ...              4                       2\n",
              "\n",
              "[3691 rows x 9 columns]"
            ]
          },
          "metadata": {
            "tags": []
          },
          "execution_count": 1272
        }
      ]
    },
    {
      "cell_type": "code",
      "metadata": {
        "colab": {
          "base_uri": "https://localhost:8080/",
          "height": 399
        },
        "id": "aHg3ZdDV7Et4",
        "outputId": "ed65e8cf-e037-40aa-c2fa-7c3c96d19de4"
      },
      "source": [
        "val2"
      ],
      "execution_count": null,
      "outputs": [
        {
          "output_type": "execute_result",
          "data": {
            "text/html": [
              "<div>\n",
              "<style scoped>\n",
              "    .dataframe tbody tr th:only-of-type {\n",
              "        vertical-align: middle;\n",
              "    }\n",
              "\n",
              "    .dataframe tbody tr th {\n",
              "        vertical-align: top;\n",
              "    }\n",
              "\n",
              "    .dataframe thead th {\n",
              "        text-align: right;\n",
              "    }\n",
              "</style>\n",
              "<table border=\"1\" class=\"dataframe\">\n",
              "  <thead>\n",
              "    <tr style=\"text-align: right;\">\n",
              "      <th></th>\n",
              "      <th>total_open_amount</th>\n",
              "      <th>business_code</th>\n",
              "      <th>invoice_currency</th>\n",
              "      <th>cust_payment_terms</th>\n",
              "      <th>due_month</th>\n",
              "      <th>date_slab</th>\n",
              "      <th>bin_total_open_amount</th>\n",
              "      <th>bin_date_slab</th>\n",
              "      <th>bin_cust_payment_terms</th>\n",
              "    </tr>\n",
              "  </thead>\n",
              "  <tbody>\n",
              "    <tr>\n",
              "      <th>0</th>\n",
              "      <td>122284.55</td>\n",
              "      <td>3</td>\n",
              "      <td>1</td>\n",
              "      <td>32</td>\n",
              "      <td>11</td>\n",
              "      <td>30</td>\n",
              "      <td>7</td>\n",
              "      <td>3</td>\n",
              "      <td>4</td>\n",
              "    </tr>\n",
              "    <tr>\n",
              "      <th>1</th>\n",
              "      <td>1819.84</td>\n",
              "      <td>1</td>\n",
              "      <td>1</td>\n",
              "      <td>10</td>\n",
              "      <td>11</td>\n",
              "      <td>15</td>\n",
              "      <td>1</td>\n",
              "      <td>2</td>\n",
              "      <td>1</td>\n",
              "    </tr>\n",
              "    <tr>\n",
              "      <th>2</th>\n",
              "      <td>435506.38</td>\n",
              "      <td>1</td>\n",
              "      <td>1</td>\n",
              "      <td>22</td>\n",
              "      <td>10</td>\n",
              "      <td>5</td>\n",
              "      <td>9</td>\n",
              "      <td>1</td>\n",
              "      <td>3</td>\n",
              "    </tr>\n",
              "    <tr>\n",
              "      <th>3</th>\n",
              "      <td>61045.16</td>\n",
              "      <td>1</td>\n",
              "      <td>1</td>\n",
              "      <td>10</td>\n",
              "      <td>11</td>\n",
              "      <td>15</td>\n",
              "      <td>6</td>\n",
              "      <td>2</td>\n",
              "      <td>1</td>\n",
              "    </tr>\n",
              "    <tr>\n",
              "      <th>4</th>\n",
              "      <td>32715.47</td>\n",
              "      <td>1</td>\n",
              "      <td>1</td>\n",
              "      <td>12</td>\n",
              "      <td>11</td>\n",
              "      <td>15</td>\n",
              "      <td>6</td>\n",
              "      <td>2</td>\n",
              "      <td>2</td>\n",
              "    </tr>\n",
              "    <tr>\n",
              "      <th>...</th>\n",
              "      <td>...</td>\n",
              "      <td>...</td>\n",
              "      <td>...</td>\n",
              "      <td>...</td>\n",
              "      <td>...</td>\n",
              "      <td>...</td>\n",
              "      <td>...</td>\n",
              "      <td>...</td>\n",
              "      <td>...</td>\n",
              "    </tr>\n",
              "    <tr>\n",
              "      <th>5115</th>\n",
              "      <td>31019.72</td>\n",
              "      <td>1</td>\n",
              "      <td>1</td>\n",
              "      <td>16</td>\n",
              "      <td>12</td>\n",
              "      <td>20</td>\n",
              "      <td>5</td>\n",
              "      <td>2</td>\n",
              "      <td>2</td>\n",
              "    </tr>\n",
              "    <tr>\n",
              "      <th>5116</th>\n",
              "      <td>47307.24</td>\n",
              "      <td>1</td>\n",
              "      <td>1</td>\n",
              "      <td>21</td>\n",
              "      <td>12</td>\n",
              "      <td>15</td>\n",
              "      <td>6</td>\n",
              "      <td>2</td>\n",
              "      <td>3</td>\n",
              "    </tr>\n",
              "    <tr>\n",
              "      <th>5117</th>\n",
              "      <td>18196.20</td>\n",
              "      <td>1</td>\n",
              "      <td>1</td>\n",
              "      <td>21</td>\n",
              "      <td>12</td>\n",
              "      <td>15</td>\n",
              "      <td>5</td>\n",
              "      <td>2</td>\n",
              "      <td>3</td>\n",
              "    </tr>\n",
              "    <tr>\n",
              "      <th>5118</th>\n",
              "      <td>32363.40</td>\n",
              "      <td>1</td>\n",
              "      <td>1</td>\n",
              "      <td>21</td>\n",
              "      <td>12</td>\n",
              "      <td>15</td>\n",
              "      <td>6</td>\n",
              "      <td>2</td>\n",
              "      <td>3</td>\n",
              "    </tr>\n",
              "    <tr>\n",
              "      <th>5119</th>\n",
              "      <td>3569.92</td>\n",
              "      <td>1</td>\n",
              "      <td>1</td>\n",
              "      <td>10</td>\n",
              "      <td>12</td>\n",
              "      <td>15</td>\n",
              "      <td>2</td>\n",
              "      <td>2</td>\n",
              "      <td>1</td>\n",
              "    </tr>\n",
              "  </tbody>\n",
              "</table>\n",
              "<p>5120 rows × 9 columns</p>\n",
              "</div>"
            ],
            "text/plain": [
              "      total_open_amount  business_code  ...  bin_date_slab  bin_cust_payment_terms\n",
              "0             122284.55              3  ...              3                       4\n",
              "1               1819.84              1  ...              2                       1\n",
              "2             435506.38              1  ...              1                       3\n",
              "3              61045.16              1  ...              2                       1\n",
              "4              32715.47              1  ...              2                       2\n",
              "...                 ...            ...  ...            ...                     ...\n",
              "5115           31019.72              1  ...              2                       2\n",
              "5116           47307.24              1  ...              2                       3\n",
              "5117           18196.20              1  ...              2                       3\n",
              "5118           32363.40              1  ...              2                       3\n",
              "5119            3569.92              1  ...              2                       1\n",
              "\n",
              "[5120 rows x 9 columns]"
            ]
          },
          "metadata": {
            "tags": []
          },
          "execution_count": 1273
        }
      ]
    },
    {
      "cell_type": "code",
      "metadata": {
        "colab": {
          "base_uri": "https://localhost:8080/",
          "height": 399
        },
        "id": "QIUgOTssEL5L",
        "outputId": "458b49fa-cd89-476c-9130-321c4f67f1c8"
      },
      "source": [
        "test"
      ],
      "execution_count": null,
      "outputs": [
        {
          "output_type": "execute_result",
          "data": {
            "text/html": [
              "<div>\n",
              "<style scoped>\n",
              "    .dataframe tbody tr th:only-of-type {\n",
              "        vertical-align: middle;\n",
              "    }\n",
              "\n",
              "    .dataframe tbody tr th {\n",
              "        vertical-align: top;\n",
              "    }\n",
              "\n",
              "    .dataframe thead th {\n",
              "        text-align: right;\n",
              "    }\n",
              "</style>\n",
              "<table border=\"1\" class=\"dataframe\">\n",
              "  <thead>\n",
              "    <tr style=\"text-align: right;\">\n",
              "      <th></th>\n",
              "      <th>total_open_amount</th>\n",
              "      <th>business_code</th>\n",
              "      <th>invoice_currency</th>\n",
              "      <th>cust_payment_terms</th>\n",
              "      <th>due_month</th>\n",
              "      <th>date_slab</th>\n",
              "      <th>bin_total_open_amount</th>\n",
              "      <th>bin_date_slab</th>\n",
              "      <th>bin_cust_payment_terms</th>\n",
              "    </tr>\n",
              "  </thead>\n",
              "  <tbody>\n",
              "    <tr>\n",
              "      <th>0</th>\n",
              "      <td>4439.5500</td>\n",
              "      <td>1</td>\n",
              "      <td>1</td>\n",
              "      <td>22</td>\n",
              "      <td>5</td>\n",
              "      <td>65</td>\n",
              "      <td>3</td>\n",
              "      <td>7</td>\n",
              "      <td>3</td>\n",
              "    </tr>\n",
              "    <tr>\n",
              "      <th>1</th>\n",
              "      <td>121299.0168</td>\n",
              "      <td>0</td>\n",
              "      <td>0</td>\n",
              "      <td>1</td>\n",
              "      <td>3</td>\n",
              "      <td>11</td>\n",
              "      <td>7</td>\n",
              "      <td>2</td>\n",
              "      <td>1</td>\n",
              "    </tr>\n",
              "    <tr>\n",
              "      <th>2</th>\n",
              "      <td>4343.6500</td>\n",
              "      <td>1</td>\n",
              "      <td>1</td>\n",
              "      <td>10</td>\n",
              "      <td>3</td>\n",
              "      <td>15</td>\n",
              "      <td>3</td>\n",
              "      <td>2</td>\n",
              "      <td>1</td>\n",
              "    </tr>\n",
              "    <tr>\n",
              "      <th>3</th>\n",
              "      <td>17946.0100</td>\n",
              "      <td>1</td>\n",
              "      <td>1</td>\n",
              "      <td>33</td>\n",
              "      <td>4</td>\n",
              "      <td>60</td>\n",
              "      <td>5</td>\n",
              "      <td>6</td>\n",
              "      <td>4</td>\n",
              "    </tr>\n",
              "    <tr>\n",
              "      <th>4</th>\n",
              "      <td>62422.7500</td>\n",
              "      <td>1</td>\n",
              "      <td>1</td>\n",
              "      <td>10</td>\n",
              "      <td>3</td>\n",
              "      <td>15</td>\n",
              "      <td>6</td>\n",
              "      <td>2</td>\n",
              "      <td>1</td>\n",
              "    </tr>\n",
              "    <tr>\n",
              "      <th>...</th>\n",
              "      <td>...</td>\n",
              "      <td>...</td>\n",
              "      <td>...</td>\n",
              "      <td>...</td>\n",
              "      <td>...</td>\n",
              "      <td>...</td>\n",
              "      <td>...</td>\n",
              "      <td>...</td>\n",
              "      <td>...</td>\n",
              "    </tr>\n",
              "    <tr>\n",
              "      <th>4093</th>\n",
              "      <td>3434.1606</td>\n",
              "      <td>0</td>\n",
              "      <td>0</td>\n",
              "      <td>1</td>\n",
              "      <td>5</td>\n",
              "      <td>14</td>\n",
              "      <td>2</td>\n",
              "      <td>2</td>\n",
              "      <td>1</td>\n",
              "    </tr>\n",
              "    <tr>\n",
              "      <th>4094</th>\n",
              "      <td>6000.0000</td>\n",
              "      <td>1</td>\n",
              "      <td>1</td>\n",
              "      <td>10</td>\n",
              "      <td>5</td>\n",
              "      <td>15</td>\n",
              "      <td>3</td>\n",
              "      <td>2</td>\n",
              "      <td>1</td>\n",
              "    </tr>\n",
              "    <tr>\n",
              "      <th>4095</th>\n",
              "      <td>2925.6474</td>\n",
              "      <td>0</td>\n",
              "      <td>0</td>\n",
              "      <td>1</td>\n",
              "      <td>5</td>\n",
              "      <td>10</td>\n",
              "      <td>2</td>\n",
              "      <td>1</td>\n",
              "      <td>1</td>\n",
              "    </tr>\n",
              "    <tr>\n",
              "      <th>4096</th>\n",
              "      <td>9291.0000</td>\n",
              "      <td>1</td>\n",
              "      <td>1</td>\n",
              "      <td>10</td>\n",
              "      <td>6</td>\n",
              "      <td>15</td>\n",
              "      <td>4</td>\n",
              "      <td>2</td>\n",
              "      <td>1</td>\n",
              "    </tr>\n",
              "    <tr>\n",
              "      <th>4097</th>\n",
              "      <td>8326.8700</td>\n",
              "      <td>1</td>\n",
              "      <td>1</td>\n",
              "      <td>10</td>\n",
              "      <td>6</td>\n",
              "      <td>15</td>\n",
              "      <td>4</td>\n",
              "      <td>2</td>\n",
              "      <td>1</td>\n",
              "    </tr>\n",
              "  </tbody>\n",
              "</table>\n",
              "<p>4098 rows × 9 columns</p>\n",
              "</div>"
            ],
            "text/plain": [
              "      total_open_amount  business_code  ...  bin_date_slab  bin_cust_payment_terms\n",
              "0             4439.5500              1  ...              7                       3\n",
              "1           121299.0168              0  ...              2                       1\n",
              "2             4343.6500              1  ...              2                       1\n",
              "3            17946.0100              1  ...              6                       4\n",
              "4            62422.7500              1  ...              2                       1\n",
              "...                 ...            ...  ...            ...                     ...\n",
              "4093          3434.1606              0  ...              2                       1\n",
              "4094          6000.0000              1  ...              2                       1\n",
              "4095          2925.6474              0  ...              1                       1\n",
              "4096          9291.0000              1  ...              2                       1\n",
              "4097          8326.8700              1  ...              2                       1\n",
              "\n",
              "[4098 rows x 9 columns]"
            ]
          },
          "metadata": {
            "tags": []
          },
          "execution_count": 1274
        }
      ]
    },
    {
      "cell_type": "markdown",
      "metadata": {
        "id": "gTCfxStQ8Hea"
      },
      "source": [
        "Linear Regression\n",
        "\n",
        "---\n",
        "\n"
      ]
    },
    {
      "cell_type": "code",
      "metadata": {
        "id": "UO4SXoky8GNO",
        "colab": {
          "base_uri": "https://localhost:8080/"
        },
        "outputId": "300c7dfc-4189-4b85-d572-ee8ae4c3e496"
      },
      "source": [
        "lr = LinearRegression()\n",
        "lr.fit(train, target)\n"
      ],
      "execution_count": null,
      "outputs": [
        {
          "output_type": "execute_result",
          "data": {
            "text/plain": [
              "LinearRegression(copy_X=True, fit_intercept=True, n_jobs=None, normalize=False)"
            ]
          },
          "metadata": {
            "tags": []
          },
          "execution_count": 1275
        }
      ]
    },
    {
      "cell_type": "markdown",
      "metadata": {
        "id": "nQEso84Dpb3K"
      },
      "source": [
        "Training Scores\n",
        "\n",
        "---\n",
        "\n"
      ]
    },
    {
      "cell_type": "code",
      "metadata": {
        "colab": {
          "base_uri": "https://localhost:8080/"
        },
        "id": "KCeVCiPi6yX0",
        "outputId": "6317a39b-f24b-46d7-cedc-079e8c290740"
      },
      "source": [
        "predict = lr.predict(train)\n",
        "MSE = mean_squared_error(target, predict)\n",
        "RMSE = np.sqrt(MSE)\n",
        "R2_SCORE = r2_score(target, predict)\n",
        "SCORE = lr.score(train, target)\n",
        "print(MSE, '\\n',RMSE, '\\n' ,R2_SCORE, '\\n', SCORE, '\\n')"
      ],
      "execution_count": null,
      "outputs": [
        {
          "output_type": "stream",
          "text": [
            "77.36696919124682 \n",
            " 8.795849543463486 \n",
            " 0.10396643293324381 \n",
            " 0.10396643293324381 \n",
            "\n"
          ],
          "name": "stdout"
        }
      ]
    },
    {
      "cell_type": "markdown",
      "metadata": {
        "id": "6bqZA8_5pgUD"
      },
      "source": [
        "validation Scores\n",
        "\n",
        "---\n",
        "\n"
      ]
    },
    {
      "cell_type": "code",
      "metadata": {
        "colab": {
          "base_uri": "https://localhost:8080/"
        },
        "id": "a5-erLTfwiP3",
        "outputId": "be8327f2-7047-4f1f-d384-ae201221cfd9"
      },
      "source": [
        "predict = lr.predict(val1)\n",
        "MSE = mean_squared_error(target_val1, predict)\n",
        "RMSE = np.sqrt(MSE)\n",
        "R2_SCORE = r2_score(target_val1, predict)\n",
        "SCORE = lr.score(val1, target_val1)\n",
        "print(MSE, '\\n',RMSE, '\\n' ,R2_SCORE, '\\n', SCORE, '\\n')"
      ],
      "execution_count": null,
      "outputs": [
        {
          "output_type": "stream",
          "text": [
            "75.26220092006851 \n",
            " 8.675379007286569 \n",
            " -0.04825242145146569 \n",
            " -0.04825242145146569 \n",
            "\n"
          ],
          "name": "stdout"
        }
      ]
    },
    {
      "cell_type": "code",
      "metadata": {
        "colab": {
          "base_uri": "https://localhost:8080/"
        },
        "id": "p-uCLF_MFoGa",
        "outputId": "9a9efa02-57e2-48e7-8ea3-a193dbd61618"
      },
      "source": [
        "predict = lr.predict(val2)\n",
        "MSE = mean_squared_error(target_val2, predict)\n",
        "RMSE = np.sqrt(MSE)\n",
        "R2_SCORE = r2_score(target_val2, predict)\n",
        "SCORE = lr.score(val2, target_val2)\n",
        "print(MSE, '\\n',RMSE, '\\n' ,R2_SCORE, '\\n', SCORE, '\\n')"
      ],
      "execution_count": null,
      "outputs": [
        {
          "output_type": "stream",
          "text": [
            "19.950084066585042 \n",
            " 4.466551697516222 \n",
            " 0.15310584728783527 \n",
            " 0.15310584728783527 \n",
            "\n"
          ],
          "name": "stdout"
        }
      ]
    },
    {
      "cell_type": "markdown",
      "metadata": {
        "id": "oWeIcW9EHZ71"
      },
      "source": [
        "Decision Tree Regressor\n",
        "\n",
        "---\n",
        "\n"
      ]
    },
    {
      "cell_type": "code",
      "metadata": {
        "id": "oXCiJdHOHOzZ",
        "colab": {
          "base_uri": "https://localhost:8080/"
        },
        "outputId": "bbfdadb5-3de5-4c2d-dea6-67763f2f7aed"
      },
      "source": [
        "dtr = DecisionTreeRegressor()\n",
        "dtr.fit(train, target)\n"
      ],
      "execution_count": null,
      "outputs": [
        {
          "output_type": "execute_result",
          "data": {
            "text/plain": [
              "DecisionTreeRegressor(ccp_alpha=0.0, criterion='mse', max_depth=None,\n",
              "                      max_features=None, max_leaf_nodes=None,\n",
              "                      min_impurity_decrease=0.0, min_impurity_split=None,\n",
              "                      min_samples_leaf=1, min_samples_split=2,\n",
              "                      min_weight_fraction_leaf=0.0, presort='deprecated',\n",
              "                      random_state=None, splitter='best')"
            ]
          },
          "metadata": {
            "tags": []
          },
          "execution_count": 1279
        }
      ]
    },
    {
      "cell_type": "markdown",
      "metadata": {
        "id": "T-etdH84pybk"
      },
      "source": [
        "Traing Score\n",
        "\n",
        "---\n",
        "\n"
      ]
    },
    {
      "cell_type": "code",
      "metadata": {
        "colab": {
          "base_uri": "https://localhost:8080/"
        },
        "id": "sVTaUjcSHlEm",
        "outputId": "47f706bb-2781-4322-c5d4-18b734bf5010"
      },
      "source": [
        "predict = dtr.predict(train)\n",
        "MSE = mean_squared_error(target, predict)\n",
        "RMSE = np.sqrt(MSE)\n",
        "R2_SCORE = r2_score(target, predict)\n",
        "SCORE = dtr.score(train, target)\n",
        "print(MSE, '\\n',RMSE, '\\n' ,R2_SCORE, '\\n', SCORE, '\\n')"
      ],
      "execution_count": null,
      "outputs": [
        {
          "output_type": "stream",
          "text": [
            "1.826731390234827 \n",
            " 1.3515662729717797 \n",
            " 0.9788435211980604 \n",
            " 0.9788435211980604 \n",
            "\n"
          ],
          "name": "stdout"
        }
      ]
    },
    {
      "cell_type": "markdown",
      "metadata": {
        "id": "rXHBEeuKp10e"
      },
      "source": [
        "Validation Score\n",
        "\n",
        "---\n",
        "\n"
      ]
    },
    {
      "cell_type": "code",
      "metadata": {
        "colab": {
          "base_uri": "https://localhost:8080/"
        },
        "id": "SZzS5aNW4XAP",
        "outputId": "66b9175e-bff8-4467-8e1f-7d8cf908d0a4"
      },
      "source": [
        "predict = dtr.predict(val1)\n",
        "MSE = mean_squared_error(target_val1, predict)\n",
        "RMSE = np.sqrt(MSE)\n",
        "R2_SCORE = r2_score(target_val1, predict)\n",
        "SCORE = dtr.score(val1, target_val1)\n",
        "print(MSE, '\\n',RMSE, '\\n' ,R2_SCORE, '\\n', SCORE, '\\n')"
      ],
      "execution_count": null,
      "outputs": [
        {
          "output_type": "stream",
          "text": [
            "707.3223456455644 \n",
            " 26.595532437715256 \n",
            " -8.851590207375754 \n",
            " -8.851590207375754 \n",
            "\n"
          ],
          "name": "stdout"
        }
      ]
    },
    {
      "cell_type": "code",
      "metadata": {
        "colab": {
          "base_uri": "https://localhost:8080/"
        },
        "id": "HETxKPzTHgqz",
        "outputId": "5ebfc3fb-b5e1-4674-f2c9-b201ea51fddc"
      },
      "source": [
        "predict = dtr.predict(val2)\n",
        "MSE = mean_squared_error(target_val2, predict)\n",
        "RMSE = np.sqrt(MSE)\n",
        "R2_SCORE = r2_score(target_val2, predict)\n",
        "SCORE = dtr.score(val2, target_val2)\n",
        "print(MSE, '\\n',RMSE, '\\n' ,R2_SCORE, '\\n', SCORE, '\\n')"
      ],
      "execution_count": null,
      "outputs": [
        {
          "output_type": "stream",
          "text": [
            "103.09613324652778 \n",
            " 10.153626605628542 \n",
            " -3.3764984709993824 \n",
            " -3.3764984709993824 \n",
            "\n"
          ],
          "name": "stdout"
        }
      ]
    },
    {
      "cell_type": "markdown",
      "metadata": {
        "id": "YrjjDZYhBADc"
      },
      "source": [
        "Random Forest Regressor\n",
        "\n",
        "---\n",
        "\n"
      ]
    },
    {
      "cell_type": "code",
      "metadata": {
        "id": "kOSemdoE-9fj",
        "colab": {
          "base_uri": "https://localhost:8080/"
        },
        "outputId": "c119f3ed-549e-4b54-e04d-3e408d89334a"
      },
      "source": [
        "rf = RandomForestRegressor(n_estimators= 100, random_state= 10)\n",
        "rf.fit(train, target)\n"
      ],
      "execution_count": null,
      "outputs": [
        {
          "output_type": "execute_result",
          "data": {
            "text/plain": [
              "RandomForestRegressor(bootstrap=True, ccp_alpha=0.0, criterion='mse',\n",
              "                      max_depth=None, max_features='auto', max_leaf_nodes=None,\n",
              "                      max_samples=None, min_impurity_decrease=0.0,\n",
              "                      min_impurity_split=None, min_samples_leaf=1,\n",
              "                      min_samples_split=2, min_weight_fraction_leaf=0.0,\n",
              "                      n_estimators=100, n_jobs=None, oob_score=False,\n",
              "                      random_state=10, verbose=0, warm_start=False)"
            ]
          },
          "metadata": {
            "tags": []
          },
          "execution_count": 1283
        }
      ]
    },
    {
      "cell_type": "markdown",
      "metadata": {
        "id": "7AKzVcpvp6t2"
      },
      "source": [
        "Traning Score\n",
        "\n",
        "---\n",
        "\n"
      ]
    },
    {
      "cell_type": "code",
      "metadata": {
        "colab": {
          "base_uri": "https://localhost:8080/"
        },
        "id": "XJniZ1ZxBT9d",
        "outputId": "f6c0933e-7f29-4260-a187-4376ab03fcbf"
      },
      "source": [
        "predict = rf.predict(train)\n",
        "MSE = mean_squared_error(target, predict)\n",
        "RMSE = np.sqrt(MSE)\n",
        "R2_SCORE = r2_score(target, predict)\n",
        "SCORE = rf.score(train, target)\n",
        "print(MSE, '\\n',RMSE, '\\n' ,R2_SCORE, '\\n', SCORE, '\\n')"
      ],
      "execution_count": null,
      "outputs": [
        {
          "output_type": "stream",
          "text": [
            "12.304038349811997 \n",
            " 3.5077112694479284 \n",
            " 0.857499505445852 \n",
            " 0.857499505445852 \n",
            "\n"
          ],
          "name": "stdout"
        }
      ]
    },
    {
      "cell_type": "markdown",
      "metadata": {
        "id": "GnxK6wUDp-dL"
      },
      "source": [
        "Validation Score\n",
        "\n",
        "---\n",
        "\n"
      ]
    },
    {
      "cell_type": "code",
      "metadata": {
        "colab": {
          "base_uri": "https://localhost:8080/"
        },
        "id": "MDP69721ISeU",
        "outputId": "2d181536-7ef3-4896-dda7-ae62adfbe322"
      },
      "source": [
        "predict = rf.predict(val1)\n",
        "MSE = mean_squared_error(target_val1, predict)\n",
        "RMSE = np.sqrt(MSE)\n",
        "R2_SCORE = r2_score(target_val1, predict)\n",
        "SCORE = rf.score(val1, target_val1)\n",
        "print(MSE, '\\n',RMSE, '\\n' ,R2_SCORE, '\\n', SCORE, '\\n')"
      ],
      "execution_count": null,
      "outputs": [
        {
          "output_type": "stream",
          "text": [
            "251.16143231936948 \n",
            " 15.848073457659435 \n",
            " -2.4981780546600283 \n",
            " -2.4981780546600283 \n",
            "\n"
          ],
          "name": "stdout"
        }
      ]
    },
    {
      "cell_type": "code",
      "metadata": {
        "colab": {
          "base_uri": "https://localhost:8080/"
        },
        "id": "j7XVY5uUIVYi",
        "outputId": "bd055f8d-922a-4d18-e27e-2557634661a3"
      },
      "source": [
        "predict = rf.predict(val2)\n",
        "MSE = mean_squared_error(target_val2, predict)\n",
        "RMSE = np.sqrt(MSE)\n",
        "R2_SCORE = r2_score(target_val2, predict)\n",
        "SCORE = rf.score(val2, target_val2)\n",
        "print(MSE, '\\n',RMSE, '\\n' ,R2_SCORE, '\\n', SCORE, '\\n')"
      ],
      "execution_count": null,
      "outputs": [
        {
          "output_type": "stream",
          "text": [
            "47.06199996853617 \n",
            " 6.860174922590252 \n",
            " -0.9978127638594863 \n",
            " -0.9978127638594863 \n",
            "\n"
          ],
          "name": "stdout"
        }
      ]
    },
    {
      "cell_type": "markdown",
      "metadata": {
        "id": "zb-IHdFn-mDu"
      },
      "source": [
        "Support Vector Regressor\n",
        "\n",
        "---\n",
        "\n"
      ]
    },
    {
      "cell_type": "code",
      "metadata": {
        "id": "0lNCnEQG-Wkl"
      },
      "source": [
        "sr = SVR()\n",
        "sr.fit(train, target)\n",
        "predict = sr.predict(train)"
      ],
      "execution_count": null,
      "outputs": []
    },
    {
      "cell_type": "markdown",
      "metadata": {
        "id": "_yY_tgafqiXB"
      },
      "source": [
        "Training Score\n",
        "\n",
        "---\n",
        "\n"
      ]
    },
    {
      "cell_type": "code",
      "metadata": {
        "colab": {
          "base_uri": "https://localhost:8080/"
        },
        "id": "8DnjUqASqYax",
        "outputId": "bf6c2352-61bb-4c33-dbdd-a584b90179a2"
      },
      "source": [
        "predict = sr.predict(train)\n",
        "MSE = mean_squared_error(target, predict)\n",
        "RMSE = np.sqrt(MSE)\n",
        "R2_SCORE = r2_score(target, predict)\n",
        "SCORE = sr.score(train, target)\n",
        "print(MSE, '\\n',RMSE, '\\n' ,R2_SCORE, '\\n', SCORE, '\\n')"
      ],
      "execution_count": null,
      "outputs": [
        {
          "output_type": "stream",
          "text": [
            "86.44554577233765 \n",
            " 9.297609680575844 \n",
            " -0.001178042065317797 \n",
            " -0.001178042065317797 \n",
            "\n"
          ],
          "name": "stdout"
        }
      ]
    },
    {
      "cell_type": "markdown",
      "metadata": {
        "id": "belN_-Zfqqar"
      },
      "source": [
        "Validation Scores\n",
        "\n",
        "---\n",
        "\n"
      ]
    },
    {
      "cell_type": "code",
      "metadata": {
        "colab": {
          "base_uri": "https://localhost:8080/"
        },
        "id": "9RahROZAqYe1",
        "outputId": "75f716cc-8408-4f16-d537-91242e426427"
      },
      "source": [
        "predict = sr.predict(val1)\n",
        "MSE = mean_squared_error(target_val1, predict)\n",
        "RMSE = np.sqrt(MSE)\n",
        "R2_SCORE = r2_score(target_val1, predict)\n",
        "SCORE = sr.score(val1, target_val1)\n",
        "print(MSE, '\\n',RMSE, '\\n' ,R2_SCORE, '\\n', SCORE, '\\n')"
      ],
      "execution_count": null,
      "outputs": [
        {
          "output_type": "stream",
          "text": [
            "71.77738686305405 \n",
            " 8.472153614226672 \n",
            " 0.000284091285560395 \n",
            " 0.000284091285560395 \n",
            "\n"
          ],
          "name": "stdout"
        }
      ]
    },
    {
      "cell_type": "code",
      "metadata": {
        "colab": {
          "base_uri": "https://localhost:8080/"
        },
        "id": "qY9EBk1NqYzg",
        "outputId": "1c649055-080e-4eff-abc2-31b4174212a8"
      },
      "source": [
        "predict = sr.predict(val2)\n",
        "MSE = mean_squared_error(target_val2, predict)\n",
        "RMSE = np.sqrt(MSE)\n",
        "R2_SCORE = r2_score(target_val2, predict)\n",
        "SCORE = sr.score(val2, target_val2)\n",
        "print(MSE, '\\n',RMSE, '\\n' ,R2_SCORE, '\\n', SCORE, '\\n')"
      ],
      "execution_count": null,
      "outputs": [
        {
          "output_type": "stream",
          "text": [
            "23.53782308664896 \n",
            " 4.851579442475302 \n",
            " 0.000803972899317551 \n",
            " 0.000803972899317551 \n",
            "\n"
          ],
          "name": "stdout"
        }
      ]
    },
    {
      "cell_type": "markdown",
      "metadata": {
        "id": "5BwyMz7SqUjd"
      },
      "source": [
        "Predicting the Delay Results\n",
        "\n",
        "---\n",
        "\n",
        "---\n",
        "\n",
        "\n",
        "\n"
      ]
    },
    {
      "cell_type": "code",
      "metadata": {
        "id": "PoAjcdmQc-B-"
      },
      "source": [
        "test.reset_index(drop=True,inplace=True)"
      ],
      "execution_count": null,
      "outputs": []
    },
    {
      "cell_type": "markdown",
      "metadata": {
        "id": "xrT5IVpStGFm"
      },
      "source": [
        "Using Random Forest Regressor \n",
        "\n",
        "---\n",
        "\n"
      ]
    },
    {
      "cell_type": "code",
      "metadata": {
        "id": "Qh0ChycjJy7p"
      },
      "source": [
        "predict =rf.predict(test)"
      ],
      "execution_count": null,
      "outputs": []
    },
    {
      "cell_type": "code",
      "metadata": {
        "id": "NLPOyo7DKH9b"
      },
      "source": [
        "# Predicting the Final Delay Scores\n",
        "\n",
        "result[\"delay\"] = pd.DataFrame(predict, columns=['delay'])"
      ],
      "execution_count": null,
      "outputs": []
    },
    {
      "cell_type": "code",
      "metadata": {
        "id": "_u5_1NJ-fFV0"
      },
      "source": [
        "result.dropna(inplace = True)"
      ],
      "execution_count": null,
      "outputs": []
    },
    {
      "cell_type": "code",
      "metadata": {
        "id": "i1kRAywfdhaR"
      },
      "source": [
        "result.reset_index(drop=True,inplace=True)"
      ],
      "execution_count": null,
      "outputs": []
    },
    {
      "cell_type": "code",
      "metadata": {
        "colab": {
          "base_uri": "https://localhost:8080/",
          "height": 194
        },
        "id": "xXBCrGH0KXpJ",
        "outputId": "ecf1a13f-9a98-431a-b93e-1f819c0e8f9d"
      },
      "source": [
        "result.head()"
      ],
      "execution_count": null,
      "outputs": [
        {
          "output_type": "execute_result",
          "data": {
            "text/html": [
              "<div>\n",
              "<style scoped>\n",
              "    .dataframe tbody tr th:only-of-type {\n",
              "        vertical-align: middle;\n",
              "    }\n",
              "\n",
              "    .dataframe tbody tr th {\n",
              "        vertical-align: top;\n",
              "    }\n",
              "\n",
              "    .dataframe thead th {\n",
              "        text-align: right;\n",
              "    }\n",
              "</style>\n",
              "<table border=\"1\" class=\"dataframe\">\n",
              "  <thead>\n",
              "    <tr style=\"text-align: right;\">\n",
              "      <th></th>\n",
              "      <th>due_date</th>\n",
              "      <th>delay</th>\n",
              "    </tr>\n",
              "  </thead>\n",
              "  <tbody>\n",
              "    <tr>\n",
              "      <th>0</th>\n",
              "      <td>2020-05-02</td>\n",
              "      <td>1.310</td>\n",
              "    </tr>\n",
              "    <tr>\n",
              "      <th>1</th>\n",
              "      <td>2020-03-09</td>\n",
              "      <td>11.860</td>\n",
              "    </tr>\n",
              "    <tr>\n",
              "      <th>2</th>\n",
              "      <td>2020-03-13</td>\n",
              "      <td>22.520</td>\n",
              "    </tr>\n",
              "    <tr>\n",
              "      <th>3</th>\n",
              "      <td>2020-04-27</td>\n",
              "      <td>-6.430</td>\n",
              "    </tr>\n",
              "    <tr>\n",
              "      <th>4</th>\n",
              "      <td>2020-03-13</td>\n",
              "      <td>1.414</td>\n",
              "    </tr>\n",
              "  </tbody>\n",
              "</table>\n",
              "</div>"
            ],
            "text/plain": [
              "    due_date   delay\n",
              "0 2020-05-02   1.310\n",
              "1 2020-03-09  11.860\n",
              "2 2020-03-13  22.520\n",
              "3 2020-04-27  -6.430\n",
              "4 2020-03-13   1.414"
            ]
          },
          "metadata": {
            "tags": []
          },
          "execution_count": 1296
        }
      ]
    },
    {
      "cell_type": "code",
      "metadata": {
        "colab": {
          "base_uri": "https://localhost:8080/"
        },
        "id": "hjtfPnYSeCR3",
        "outputId": "8259a9de-ba96-4b5f-9ad9-eac76f3a70f4"
      },
      "source": [
        "result[\"delay\"]"
      ],
      "execution_count": null,
      "outputs": [
        {
          "output_type": "execute_result",
          "data": {
            "text/plain": [
              "0        1.310000\n",
              "1       11.860000\n",
              "2       22.520000\n",
              "3       -6.430000\n",
              "4        1.414000\n",
              "          ...    \n",
              "4093    16.920000\n",
              "4094     5.880000\n",
              "4095     8.686667\n",
              "4096     2.860000\n",
              "4097     4.395833\n",
              "Name: delay, Length: 4098, dtype: float64"
            ]
          },
          "metadata": {
            "tags": []
          },
          "execution_count": 1297
        }
      ]
    },
    {
      "cell_type": "code",
      "metadata": {
        "colab": {
          "base_uri": "https://localhost:8080/"
        },
        "id": "P6zmjI5BKlVh",
        "outputId": "66f7e5c3-0ab2-454d-e4ac-fa929ff3f834"
      },
      "source": [
        "min = result[\"delay\"].min()\n",
        "max = result[\"delay\"].max()\n",
        "print(min, '\\n' , max , '\\n')"
      ],
      "execution_count": null,
      "outputs": [
        {
          "output_type": "stream",
          "text": [
            "-16.66 \n",
            " 79.47 \n",
            "\n"
          ],
          "name": "stdout"
        }
      ]
    },
    {
      "cell_type": "code",
      "metadata": {
        "id": "V913l8tFWGuT"
      },
      "source": [
        "# Bucketing Delay into various Buckets\n",
        "\n",
        "bin_ranges=[-80,15,30,45,60,130]\n",
        "bin_names=[\"bucket_1\",\"bucket_2\",\"bucket_3\",\"bucket_4\",\"bucket_5\",]\n",
        "result['bin_delay'] = pd.cut( np.array(result['delay']),bins=bin_ranges)\n",
        "result['bin_delay'] = pd.cut( np.array(result['delay']),bins=bin_ranges, labels=bin_names)\n"
      ],
      "execution_count": null,
      "outputs": []
    },
    {
      "cell_type": "code",
      "metadata": {
        "colab": {
          "base_uri": "https://localhost:8080/"
        },
        "id": "OCY6GyVlWsRP",
        "outputId": "83ec2d49-baab-4213-f681-26dac06d5c1e"
      },
      "source": [
        "result[\"bin_delay\"]"
      ],
      "execution_count": null,
      "outputs": [
        {
          "output_type": "execute_result",
          "data": {
            "text/plain": [
              "0       bucket_1\n",
              "1       bucket_1\n",
              "2       bucket_2\n",
              "3       bucket_1\n",
              "4       bucket_1\n",
              "          ...   \n",
              "4093    bucket_2\n",
              "4094    bucket_1\n",
              "4095    bucket_1\n",
              "4096    bucket_1\n",
              "4097    bucket_1\n",
              "Name: bin_delay, Length: 4098, dtype: category\n",
              "Categories (5, object): ['bucket_1' < 'bucket_2' < 'bucket_3' < 'bucket_4' < 'bucket_5']"
            ]
          },
          "metadata": {
            "tags": []
          },
          "execution_count": 1300
        }
      ]
    },
    {
      "cell_type": "code",
      "metadata": {
        "colab": {
          "base_uri": "https://localhost:8080/"
        },
        "id": "Ku4-zBTsX5eU",
        "outputId": "cf90698d-c139-4e53-9eea-2d827ca3f1a7"
      },
      "source": [
        "result[\"delay\"]"
      ],
      "execution_count": null,
      "outputs": [
        {
          "output_type": "execute_result",
          "data": {
            "text/plain": [
              "0        1.310000\n",
              "1       11.860000\n",
              "2       22.520000\n",
              "3       -6.430000\n",
              "4        1.414000\n",
              "          ...    \n",
              "4093    16.920000\n",
              "4094     5.880000\n",
              "4095     8.686667\n",
              "4096     2.860000\n",
              "4097     4.395833\n",
              "Name: delay, Length: 4098, dtype: float64"
            ]
          },
          "metadata": {
            "tags": []
          },
          "execution_count": 1301
        }
      ]
    },
    {
      "cell_type": "code",
      "metadata": {
        "id": "295HN6vwVSEV"
      },
      "source": [
        "# converting Delay to date and time format for addtion\n",
        "\n",
        "temp = result['delay'].apply(lambda x: pd.Timedelta(x, unit='D'))\n",
        "result['predicted_clear_date'] = result['due_date'] + temp"
      ],
      "execution_count": null,
      "outputs": []
    },
    {
      "cell_type": "markdown",
      "metadata": {
        "id": "ZBiGxagqrZ53"
      },
      "source": [
        "Final Prediction results of Clear Date and Delay Buckets\n",
        "\n",
        "---\n",
        "\n"
      ]
    },
    {
      "cell_type": "code",
      "metadata": {
        "colab": {
          "base_uri": "https://localhost:8080/",
          "height": 399
        },
        "id": "uIy0lpcwXn65",
        "outputId": "a65de1be-dfaf-4a1e-a1fa-eab3a8353792"
      },
      "source": [
        "result"
      ],
      "execution_count": null,
      "outputs": [
        {
          "output_type": "execute_result",
          "data": {
            "text/html": [
              "<div>\n",
              "<style scoped>\n",
              "    .dataframe tbody tr th:only-of-type {\n",
              "        vertical-align: middle;\n",
              "    }\n",
              "\n",
              "    .dataframe tbody tr th {\n",
              "        vertical-align: top;\n",
              "    }\n",
              "\n",
              "    .dataframe thead th {\n",
              "        text-align: right;\n",
              "    }\n",
              "</style>\n",
              "<table border=\"1\" class=\"dataframe\">\n",
              "  <thead>\n",
              "    <tr style=\"text-align: right;\">\n",
              "      <th></th>\n",
              "      <th>due_date</th>\n",
              "      <th>delay</th>\n",
              "      <th>bin_delay</th>\n",
              "      <th>predicted_clear_date</th>\n",
              "    </tr>\n",
              "  </thead>\n",
              "  <tbody>\n",
              "    <tr>\n",
              "      <th>0</th>\n",
              "      <td>2020-05-02</td>\n",
              "      <td>1.310000</td>\n",
              "      <td>bucket_1</td>\n",
              "      <td>2020-05-03 07:26:24.000000000</td>\n",
              "    </tr>\n",
              "    <tr>\n",
              "      <th>1</th>\n",
              "      <td>2020-03-09</td>\n",
              "      <td>11.860000</td>\n",
              "      <td>bucket_1</td>\n",
              "      <td>2020-03-20 20:38:24.000000000</td>\n",
              "    </tr>\n",
              "    <tr>\n",
              "      <th>2</th>\n",
              "      <td>2020-03-13</td>\n",
              "      <td>22.520000</td>\n",
              "      <td>bucket_2</td>\n",
              "      <td>2020-04-04 12:28:48.000000000</td>\n",
              "    </tr>\n",
              "    <tr>\n",
              "      <th>3</th>\n",
              "      <td>2020-04-27</td>\n",
              "      <td>-6.430000</td>\n",
              "      <td>bucket_1</td>\n",
              "      <td>2020-04-20 13:40:48.000000000</td>\n",
              "    </tr>\n",
              "    <tr>\n",
              "      <th>4</th>\n",
              "      <td>2020-03-13</td>\n",
              "      <td>1.414000</td>\n",
              "      <td>bucket_1</td>\n",
              "      <td>2020-03-14 09:56:09.600000000</td>\n",
              "    </tr>\n",
              "    <tr>\n",
              "      <th>...</th>\n",
              "      <td>...</td>\n",
              "      <td>...</td>\n",
              "      <td>...</td>\n",
              "      <td>...</td>\n",
              "    </tr>\n",
              "    <tr>\n",
              "      <th>4093</th>\n",
              "      <td>2020-05-15</td>\n",
              "      <td>16.920000</td>\n",
              "      <td>bucket_2</td>\n",
              "      <td>2020-05-31 22:04:48.000000000</td>\n",
              "    </tr>\n",
              "    <tr>\n",
              "      <th>4094</th>\n",
              "      <td>2020-05-20</td>\n",
              "      <td>5.880000</td>\n",
              "      <td>bucket_1</td>\n",
              "      <td>2020-05-25 21:07:12.000000000</td>\n",
              "    </tr>\n",
              "    <tr>\n",
              "      <th>4095</th>\n",
              "      <td>2020-05-15</td>\n",
              "      <td>8.686667</td>\n",
              "      <td>bucket_1</td>\n",
              "      <td>2020-05-23 16:28:48.000028800</td>\n",
              "    </tr>\n",
              "    <tr>\n",
              "      <th>4096</th>\n",
              "      <td>2020-05-15</td>\n",
              "      <td>2.860000</td>\n",
              "      <td>bucket_1</td>\n",
              "      <td>2020-05-17 20:38:24.000000000</td>\n",
              "    </tr>\n",
              "    <tr>\n",
              "      <th>4097</th>\n",
              "      <td>2020-05-15</td>\n",
              "      <td>4.395833</td>\n",
              "      <td>bucket_1</td>\n",
              "      <td>2020-05-19 09:29:59.999971200</td>\n",
              "    </tr>\n",
              "  </tbody>\n",
              "</table>\n",
              "<p>4098 rows × 4 columns</p>\n",
              "</div>"
            ],
            "text/plain": [
              "       due_date      delay bin_delay          predicted_clear_date\n",
              "0    2020-05-02   1.310000  bucket_1 2020-05-03 07:26:24.000000000\n",
              "1    2020-03-09  11.860000  bucket_1 2020-03-20 20:38:24.000000000\n",
              "2    2020-03-13  22.520000  bucket_2 2020-04-04 12:28:48.000000000\n",
              "3    2020-04-27  -6.430000  bucket_1 2020-04-20 13:40:48.000000000\n",
              "4    2020-03-13   1.414000  bucket_1 2020-03-14 09:56:09.600000000\n",
              "...         ...        ...       ...                           ...\n",
              "4093 2020-05-15  16.920000  bucket_2 2020-05-31 22:04:48.000000000\n",
              "4094 2020-05-20   5.880000  bucket_1 2020-05-25 21:07:12.000000000\n",
              "4095 2020-05-15   8.686667  bucket_1 2020-05-23 16:28:48.000028800\n",
              "4096 2020-05-15   2.860000  bucket_1 2020-05-17 20:38:24.000000000\n",
              "4097 2020-05-15   4.395833  bucket_1 2020-05-19 09:29:59.999971200\n",
              "\n",
              "[4098 rows x 4 columns]"
            ]
          },
          "metadata": {
            "tags": []
          },
          "execution_count": 1303
        }
      ]
    },
    {
      "cell_type": "code",
      "metadata": {
        "id": "wBgIW3jHbytU"
      },
      "source": [
        ""
      ],
      "execution_count": null,
      "outputs": []
    }
  ]
}